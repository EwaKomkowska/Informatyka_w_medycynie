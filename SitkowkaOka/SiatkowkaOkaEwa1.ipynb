{
  "nbformat": 4,
  "nbformat_minor": 0,
  "metadata": {
    "kernelspec": {
      "display_name": "Python 3",
      "language": "python",
      "name": "python3"
    },
    "language_info": {
      "codemirror_mode": {
        "name": "ipython",
        "version": 3
      },
      "file_extension": ".py",
      "mimetype": "text/x-python",
      "name": "python",
      "nbconvert_exporter": "python",
      "pygments_lexer": "ipython3",
      "version": "3.6.0"
    },
    "colab": {
      "name": "SiatkowkaOka.ipynb",
      "provenance": []
    }
  },
  "cells": [
    {
      "cell_type": "code",
      "metadata": {
        "id": "W08E14CsH3BA",
        "colab_type": "code",
        "colab": {}
      },
      "source": [
        "import cv2\n",
        "import numpy as np\n",
        "from skimage.filters import frangi, sobel\n",
        "from matplotlib import pyplot as plt\n",
        "import pandas as pd\n",
        "from scipy.stats import moment\n",
        "from google.colab.patches import cv2_imshow\n",
        "\n",
        "from tensorflow.python import keras\n",
        "from tensorflow.python.keras.models import Sequential\n",
        "from tensorflow.python.keras.layers import Dense, Flatten, Conv2D, Dropout\n",
        "from keras import metrics"
      ],
      "execution_count": 0,
      "outputs": []
    },
    {
      "cell_type": "code",
      "metadata": {
        "id": "yB1pHUK5IxGt",
        "colab_type": "code",
        "colab": {
          "base_uri": "https://localhost:8080/",
          "height": 34
        },
        "outputId": "83e0d60a-1841-4848-b675-380f3eecd8c6"
      },
      "source": [
        "from google.colab import drive\n",
        "drive.mount('/content/drive')"
      ],
      "execution_count": 54,
      "outputs": [
        {
          "output_type": "stream",
          "text": [
            "Drive already mounted at /content/drive; to attempt to forcibly remount, call drive.mount(\"/content/drive\", force_remount=True).\n"
          ],
          "name": "stdout"
        }
      ]
    },
    {
      "cell_type": "markdown",
      "metadata": {
        "id": "E_ceJ5zgH3BE",
        "colab_type": "text"
      },
      "source": [
        "# Część na 3.0"
      ]
    },
    {
      "cell_type": "code",
      "metadata": {
        "id": "EchpjRzWH3BE",
        "colab_type": "code",
        "colab": {}
      },
      "source": [
        "def show_image(img, title=\"test\"):\n",
        "    cv2_imshow(img)\n",
        "    cv2.waitKey(0)\n",
        "    cv2.destroyAllWindows()"
      ],
      "execution_count": 0,
      "outputs": []
    },
    {
      "cell_type": "markdown",
      "metadata": {
        "id": "egAeOxKiH3BH",
        "colab_type": "text"
      },
      "source": [
        "## Wczytanie zdjęcia"
      ]
    },
    {
      "cell_type": "code",
      "metadata": {
        "id": "aNHWz5FWH3BH",
        "colab_type": "code",
        "colab": {}
      },
      "source": [
        "image_size = 100\n",
        "#blada gałka oczna na czarnym tle\n",
        "#image = cv2.imread('zdjecia/2_good.JPG') # 11.42 / 10.99\n",
        "\n",
        "#bardziej czerwona głka oczna na czrnym tle\n",
        "#image = cv2.imread('zdjecia/8_good.JPG') # 21.93 / 21.25\n",
        "\n",
        "#duża pomarańczowa gałka oczna na czarnym tle\n",
        "image = cv2.imread('/content/drive/My Drive/Colab Notebooks/zdjecia/Image_03R.jpg') # 51.76 / 56.1\n",
        "\n",
        "image = cv2.resize(image, (image_size, image_size))\n",
        "\n",
        "gray_to_find_circle = cv2.cvtColor(image, cv2.COLOR_BGR2GRAY)"
      ],
      "execution_count": 0,
      "outputs": []
    },
    {
      "cell_type": "markdown",
      "metadata": {
        "id": "3bcf-BoGH3BK",
        "colab_type": "text"
      },
      "source": [
        "## Wstępne przetworzenie obrazu"
      ]
    },
    {
      "cell_type": "code",
      "metadata": {
        "id": "26jCNeogH3BK",
        "colab_type": "code",
        "colab": {}
      },
      "source": [
        "def thresh_show(image, th1):\n",
        "    \n",
        "    image2 = cv2.threshold(image, th1, 255, cv2.THRESH_BINARY)[1]\n",
        "    #show_image(image2)\n",
        "    \n",
        "    return cv2.findContours(image2, cv2.RETR_EXTERNAL, cv2.CHAIN_APPROX_NONE)\n",
        "\n",
        "\n",
        "def contrast_image(image, low_value, high_value):\n",
        "    res = [[contrart(x, low, high) for x in y] for y in image]\n",
        "    return np.array(res)\n",
        "\n",
        "\n",
        "def contrast(value, low, highh):\n",
        "    if value < low:\n",
        "        return 0\n",
        "    if value > high:\n",
        "        return 1\n",
        "    return (value - low)/(high - low)"
      ],
      "execution_count": 0,
      "outputs": []
    },
    {
      "cell_type": "code",
      "metadata": {
        "id": "0K5qJl77oXNn",
        "colab_type": "code",
        "colab": {
          "base_uri": "https://localhost:8080/",
          "height": 634
        },
        "outputId": "13597ab3-36f0-4e11-f8ea-0c1b98bafe01"
      },
      "source": [
        "image = cv2.imread('/content/drive/My Drive/Colab Notebooks/zdjecia/Image_03R.jpg') # 51.76 / 56.1\n",
        "\n",
        "image = cv2.resize(image, (image_size, image_size))\n",
        "\n",
        "gray_to_find_circle = cv2.cvtColor(image, cv2.COLOR_BGR2GRAY)\n",
        "\n",
        "#rozmycie\n",
        "gray_to_find_circle = cv2.GaussianBlur(gray_to_find_circle, (5, 5), 0) # medianblur, guassianblur ? \n",
        "show_image(image, title=\"blur\") \n",
        "\n",
        "image = cv2.cvtColor(image, cv2.COLOR_BGR2GRAY)\n",
        "image = cv2.GaussianBlur(image, (1, 1), 0) # medianblur, guassianblur ?\n",
        "show_image(image, title=\"blur2\")\n",
        "\n",
        "nonzero_photo = image[np.nonzero(image)]\n",
        "percentiles = np.percentile(nonzero_photo,(1, 99))\n",
        "image = contrast_image(image, percentiles[0], percentiles[1])\n",
        "\n",
        "image = cv2.adaptiveThreshold((image*255).astype(np.uint8), 255, cv2.ADAPTIVE_THRESH_GAUSSIAN_C, cv2.THRESH_BINARY,11,15) \n",
        "show_image(image, \"adaptive\")\n",
        "\n",
        "image = cv2.Laplacian(image,cv2.CV_64F)\n",
        "show_image(image, \"sobel\")\n",
        "\n",
        "image = frangi(image) \n",
        "image = (image*255).astype(np.uint8)\n",
        "show_image(image, title=\"frangi\")\n",
        "\n",
        "#wyostrzenie\n",
        "#obraz potrzebny do odnalezienia gałki ocznej\n",
        "kernel = np.array([[-1, -1, -1], [-1, 9, -1], [-1, -1, -1]]) \n",
        "gray_to_find_circle = cv2.filter2D(gray_to_find_circle, -1, kernel) \n",
        "show_image(gray_to_find_circle, title=\"filter\")\n",
        "\n",
        "\n",
        "#obraz na którym będziemy dalej pracować\n",
        "'''image = cv2.filter2D(image, -1, kernel) \n",
        "image = cv2.filter2D(image, -1, kernel) \n",
        "show_image(image, title=\"filter\")'''"
      ],
      "execution_count": 292,
      "outputs": [
        {
          "output_type": "display_data",
          "data": {
            "image/png": "[encoded data removed]",
            "text/plain": [
              "<PIL.Image.Image image mode=RGB size=100x100 at 0x7FCB303A64A8>"
            ]
          },
          "metadata": {
            "tags": []
          }
        },
        {
          "output_type": "display_data",
          "data": {
            "image/png": "[encoded data removed]",
            "text/plain": [
              "<PIL.Image.Image image mode=L size=100x100 at 0x7FCB303A6588>"
            ]
          },
          "metadata": {
            "tags": []
          }
        },
        {
          "output_type": "display_data",
          "data": {
            "image/png": "[encoded data removed]",
            "text/plain": [
              "<PIL.Image.Image image mode=L size=100x100 at 0x7FCB303A6588>"
            ]
          },
          "metadata": {
            "tags": []
          }
        },
        {
          "output_type": "display_data",
          "data": {
            "image/png": "[encoded data removed]",
            "text/plain": [
              "<PIL.Image.Image image mode=L size=100x100 at 0x7FCB303A6438>"
            ]
          },
          "metadata": {
            "tags": []
          }
        },
        {
          "output_type": "display_data",
          "data": {
            "image/png": "[encoded data removed]",
            "text/plain": [
              "<PIL.Image.Image image mode=L size=100x100 at 0x7FCB303A66A0>"
            ]
          },
          "metadata": {
            "tags": []
          }
        },
        {
          "output_type": "display_data",
          "data": {
            "image/png": "[encoded data removed]",
            "text/plain": [
              "<PIL.Image.Image image mode=L size=100x100 at 0x7FCB303A6630>"
            ]
          },
          "metadata": {
            "tags": []
          }
        },
        {
          "output_type": "execute_result",
          "data": {
            "text/plain": [
              "'image = cv2.filter2D(image, -1, kernel) \\nimage = cv2.filter2D(image, -1, kernel) \\nshow_image(image, title=\"filter\")'"
            ]
          },
          "metadata": {
            "tags": []
          },
          "execution_count": 292
        }
      ]
    },
    {
      "cell_type": "code",
      "metadata": {
        "id": "Pyw_NGNjH3BP",
        "colab_type": "code",
        "colab": {
          "base_uri": "https://localhost:8080/",
          "height": 117
        },
        "outputId": "1e3a38ad-68a0-47b1-ad46-f548011b01b3"
      },
      "source": [
        "# szukamy gałki ocznej\n",
        "contours, hierarchy = thresh_show(gray_to_find_circle, 0)\n",
        "\n",
        "contours_approved = []\n",
        "(cx, cy) , radius = (0, 0), 0\n",
        "global approxx\n",
        "maxArea = 0\n",
        "for cnt in contours:\n",
        "    approx = cv2.approxPolyDP(cnt, .03 * cv2.arcLength(cnt, True), True)\n",
        "    if len(approx) >= 7:\n",
        "        area = cv2.contourArea(cnt)\n",
        "        (cx, cy), radius = cv2.minEnclosingCircle(cnt)\n",
        "        circleArea = radius * radius * np.pi\n",
        "        if maxArea<area:\n",
        "            contours_approved = []\n",
        "            maxArea = area\n",
        "            contours_approved.append(cnt)\n",
        "            approxx = approx\n",
        "\n",
        "# wiodący obraz z konturami gałki ocznej i wypełnieniem\n",
        "cv2.drawContours(image, contours_approved, -1, (255, 0, 0), 3) \n",
        "show_image(image, title=\"wiodacy obraz z konturami galki ocznej\")"
      ],
      "execution_count": 293,
      "outputs": [
        {
          "output_type": "display_data",
          "data": {
            "image/png": "[encoded data removed]",
            "text/plain": [
              "<PIL.Image.Image image mode=L size=100x100 at 0x7FCB303B7080>"
            ]
          },
          "metadata": {
            "tags": []
          }
        }
      ]
    },
    {
      "cell_type": "code",
      "metadata": {
        "id": "9gD3GNAeH3BS",
        "colab_type": "code",
        "colab": {
          "base_uri": "https://localhost:8080/",
          "height": 117
        },
        "outputId": "315c6b4e-f9ae-40a2-f045-dd3d3fd203d1"
      },
      "source": [
        "rgb = cv2.cvtColor(image, cv2.COLOR_GRAY2RGB)\n",
        "\n",
        "fill_color = [255, 255, 255]\n",
        "mask_value = 255 \n",
        "\n",
        "stencil  = np.zeros(rgb.shape[:-1]).astype(np.uint8)\n",
        "cv2.fillPoly(stencil, contours_approved, mask_value)\n",
        "\n",
        "sel      = stencil != mask_value # select everything that is not mask_value\n",
        "rgb[sel] = fill_color            # and fill it with fill_color\n",
        "\n",
        "show_image(rgb, title=\"wiodacy obraz z konturami galki ocznej i wypelnieniem\" )"
      ],
      "execution_count": 294,
      "outputs": [
        {
          "output_type": "display_data",
          "data": {
            "image/png": "[encoded data removed]",
            "text/plain": [
              "<PIL.Image.Image image mode=RGB size=100x100 at 0x7FCB303A6240>"
            ]
          },
          "metadata": {
            "tags": []
          }
        }
      ]
    },
    {
      "cell_type": "markdown",
      "metadata": {
        "id": "SOje5wufH3BV",
        "colab_type": "text"
      },
      "source": [
        "## Właściwe przetworzenie obrazu"
      ]
    },
    {
      "cell_type": "code",
      "metadata": {
        "id": "rx1t-4AWH3BV",
        "colab_type": "code",
        "colab": {}
      },
      "source": [
        "def nothing(x):\n",
        "    pass\n",
        "\n",
        "def trackbar_thresholds(image):\n",
        "    cv2.namedWindow('myImage')\n",
        "\n",
        "    cv2.createTrackbar('threshold1', 'myImage', 0, 255, nothing)\n",
        "    cv2.createTrackbar('threshold2', 'myImage', 0, 255, nothing)\n",
        "\n",
        "    \n",
        "    image2 = image\n",
        "\n",
        "    while(1):\n",
        "        cv2.imshow('myImage', image2)\n",
        "        k = cv2.waitKey(1) & 0xFF\n",
        "        if k == 27:\n",
        "            break\n",
        "        # get current positions of four trackbars\n",
        "        th1 = cv2.getTrackbarPos('threshold1', 'myImage')\n",
        "        th2 = cv2.getTrackbarPos('threshold2', 'myImage')\n",
        "        # canny\n",
        "        image2 = cv2.Canny(image, th1, th2)\n",
        "        \n",
        "    cv2.destroyAllWindows()"
      ],
      "execution_count": 0,
      "outputs": []
    },
    {
      "cell_type": "code",
      "metadata": {
        "id": "cfdp5zf9H3BX",
        "colab_type": "code",
        "colab": {}
      },
      "source": [
        "image = cv2.cvtColor(rgb, cv2.COLOR_BGR2GRAY)"
      ],
      "execution_count": 0,
      "outputs": []
    },
    {
      "cell_type": "code",
      "metadata": {
        "id": "dB4QycnXH3Ba",
        "colab_type": "code",
        "colab": {}
      },
      "source": [
        "def threshold(img, threshpoint):\n",
        "    return np.array([[1 if x >= threshpoint else 0 for x in y] for y in img])"
      ],
      "execution_count": 0,
      "outputs": []
    },
    {
      "cell_type": "code",
      "metadata": {
        "id": "U_uC8OrVH3Bc",
        "colab_type": "code",
        "colab": {
          "base_uri": "https://localhost:8080/",
          "height": 134
        },
        "outputId": "d4fbda22-a9fe-4221-cda0-18a1fb7440c4"
      },
      "source": [
        "#trackbar_thresholds(image)\n",
        "\n",
        "#image = cv2.Canny(image, 100, 230)\n",
        "# wykrywanie krawędzi\n",
        "#image = frangi(image, black_ridges=True)\n",
        "image_mean = np.mean(image)\n",
        "\n",
        "wspol = 0.7 * image_mean - 10 # 0 - 15\n",
        "print(wspol)\n",
        "\n",
        "# thresholding\n",
        "ret,image2 = cv2.threshold(image,wspol, 255, cv2.THRESH_BINARY)\n",
        "show_image(image2)\n",
        "\n"
      ],
      "execution_count": 298,
      "outputs": [
        {
          "output_type": "stream",
          "text": [
            "76.34843\n"
          ],
          "name": "stdout"
        },
        {
          "output_type": "display_data",
          "data": {
            "image/png": "[encoded data removed]",
            "text/plain": [
              "<PIL.Image.Image image mode=L size=100x100 at 0x7FCB303A6358>"
            ]
          },
          "metadata": {
            "tags": []
          }
        }
      ]
    },
    {
      "cell_type": "markdown",
      "metadata": {
        "id": "Mv1NEW-VH3Bf",
        "colab_type": "text"
      },
      "source": [
        "## Sprawdzenie"
      ]
    },
    {
      "cell_type": "code",
      "metadata": {
        "id": "VC7qNO99H3Bf",
        "colab_type": "code",
        "colab": {
          "base_uri": "https://localhost:8080/",
          "height": 34
        },
        "outputId": "f0a6a4d7-7221-4b54-9371-a5a3baabfa5f"
      },
      "source": [
        "global odp\n",
        "odp = cv2.imread('/content/drive/My Drive/Colab Notebooks/zdjecia/Image_03R_2ndHO.png')\n",
        "odp = cv2.resize(odp, (image_size, image_size))\n",
        "odp = cv2.cvtColor(odp, cv2.COLOR_BGR2GRAY)\n",
        "ret, odp = cv2.threshold(odp,127, 255, cv2.THRESH_BINARY)\n",
        "odp = cv2.bitwise_not(odp)\n",
        "\n",
        "#show_image(odp)\n",
        "max_val = image_size**2\n",
        "max_val"
      ],
      "execution_count": 299,
      "outputs": [
        {
          "output_type": "execute_result",
          "data": {
            "text/plain": [
              "10000"
            ]
          },
          "metadata": {
            "tags": []
          },
          "execution_count": 299
        }
      ]
    },
    {
      "cell_type": "code",
      "metadata": {
        "id": "kFbdxMcxH3Bj",
        "colab_type": "code",
        "colab": {
          "base_uri": "https://localhost:8080/",
          "height": 34
        },
        "outputId": "b6de36f0-9d24-4085-a8e9-1bce9f1aff21"
      },
      "source": [
        "np.unique(odp)\n",
        "#show_image(odp)"
      ],
      "execution_count": 300,
      "outputs": [
        {
          "output_type": "execute_result",
          "data": {
            "text/plain": [
              "array([  0, 255], dtype=uint8)"
            ]
          },
          "metadata": {
            "tags": []
          },
          "execution_count": 300
        }
      ]
    },
    {
      "cell_type": "code",
      "metadata": {
        "id": "Nxky2JsVH3Bm",
        "colab_type": "code",
        "colab": {}
      },
      "source": [
        "# white == 255 == not vessel\n",
        "# black == 0 == vessel\n",
        "global TP, FP, FN, TN\n",
        "\n",
        "# true-positve (prawdziwie dodatnie)\n",
        "# naczynie uznane jako naczynie\n",
        "def count_TP(actually, result):\n",
        "    i = 0\n",
        "    for odp_, res_ in zip(actually, result):\n",
        "        if (odp_ == 0) and (res_ == 0):\n",
        "            i += 1\n",
        "    return i\n",
        "\n",
        "# false-positive (fałszywie dodatnie)\n",
        "# nie-naczynie uznane jako naczynie\n",
        "def count_FP(actually, result):\n",
        "    \n",
        "    i = 0\n",
        "    for odp_, res_ in zip(actually, result):\n",
        "        if (odp_ == 255) and (res_ == 0):\n",
        "            i += 1\n",
        "    return i\n",
        "\n",
        "# false-negative (fałszywie ujemne)\n",
        "# naczynie uznane jako nie-naczynie\n",
        "def count_FN(actually, result):\n",
        "    i = 0\n",
        "    for odp_, res_ in zip(actually, result):\n",
        "        if (odp_ == 0) and (res_ == 255):\n",
        "            i += 1\n",
        "    return i\n",
        "\n",
        "# true-negative (prawdziwie ujemne)\n",
        "# nie-naczynie uznane jako nie-naczynie\n",
        "def count_TN(actually, result):\n",
        "    i = 0\n",
        "    for odp_, res_ in zip(actually, result):\n",
        "        if (odp_ == 255) and (res_ == 255):\n",
        "            i += 1\n",
        "    return i\n"
      ],
      "execution_count": 0,
      "outputs": []
    },
    {
      "cell_type": "code",
      "metadata": {
        "id": "WHE8iKT2H3Bo",
        "colab_type": "code",
        "colab": {
          "base_uri": "https://localhost:8080/",
          "height": 34
        },
        "outputId": "a0bd9cf3-dc38-4e8a-f333-a77b41096aaf"
      },
      "source": [
        "TP = count_TP( np.nditer(odp), np.nditer(image2))\n",
        "print(\"TP = \" + str(TP/max_val))"
      ],
      "execution_count": 302,
      "outputs": [
        {
          "output_type": "stream",
          "text": [
            "TP = 0.0512\n"
          ],
          "name": "stdout"
        }
      ]
    },
    {
      "cell_type": "code",
      "metadata": {
        "id": "sOzy6GEKH3Bq",
        "colab_type": "code",
        "colab": {
          "base_uri": "https://localhost:8080/",
          "height": 34
        },
        "outputId": "7e505795-a8f1-409a-85b4-0056f5509904"
      },
      "source": [
        "FP = count_FP( np.nditer(odp), np.nditer(image2))\n",
        "print(\"FP = \" + str(FP/max_val))"
      ],
      "execution_count": 303,
      "outputs": [
        {
          "output_type": "stream",
          "text": [
            "FP = 0.4449\n"
          ],
          "name": "stdout"
        }
      ]
    },
    {
      "cell_type": "code",
      "metadata": {
        "id": "S9uKZmsHH3Bt",
        "colab_type": "code",
        "colab": {
          "base_uri": "https://localhost:8080/",
          "height": 34
        },
        "outputId": "6887e5d4-bebb-481a-cc54-28dab5245abd"
      },
      "source": [
        "FN = count_FN( np.nditer(odp), np.nditer(image2))\n",
        "print(\"FN = \" + str(FN/max_val))"
      ],
      "execution_count": 304,
      "outputs": [
        {
          "output_type": "stream",
          "text": [
            "FN = 0.0103\n"
          ],
          "name": "stdout"
        }
      ]
    },
    {
      "cell_type": "code",
      "metadata": {
        "id": "3tH_WYAkH3Bv",
        "colab_type": "code",
        "colab": {
          "base_uri": "https://localhost:8080/",
          "height": 34
        },
        "outputId": "e0598c44-6c3b-4dbc-8b7f-fbabe290dd0d"
      },
      "source": [
        "TN = count_TN( np.nditer(odp), np.nditer(image2))\n",
        "print(\"TN = \" + str(TN/max_val))"
      ],
      "execution_count": 305,
      "outputs": [
        {
          "output_type": "stream",
          "text": [
            "TN = 0.4936\n"
          ],
          "name": "stdout"
        }
      ]
    },
    {
      "cell_type": "code",
      "metadata": {
        "id": "VSN8JpLMH3By",
        "colab_type": "code",
        "colab": {
          "base_uri": "https://localhost:8080/",
          "height": 166
        },
        "outputId": "5224aaa9-4026-4b5d-9eab-0045bb45e7e6"
      },
      "source": [
        "def confusion_matrix():\n",
        "    names = {\n",
        "        'My Results' : ['Positive', 'Negative', 'Sum'],\n",
        "        'Actually - Positive' : [TP, FN, TP + FN],\n",
        "        'Actually - Negative' : [FP, TN, FP + TN],\n",
        "        'Sum' : [TP + FP, FN + TN, TP + FP + FN + TN]\n",
        "    }\n",
        "    \n",
        "    return pd.DataFrame(names, columns=['My Results', 'Actually - Positive', 'Actually - Negative', 'Sum' ]).set_index('My Results')\n",
        "\n",
        "df_confusion_matrix = confusion_matrix()\n",
        "df_confusion_matrix"
      ],
      "execution_count": 306,
      "outputs": [
        {
          "output_type": "execute_result",
          "data": {
            "text/html": [
              "<div>\n",
              "<style scoped>\n",
              "    .dataframe tbody tr th:only-of-type {\n",
              "        vertical-align: middle;\n",
              "    }\n",
              "\n",
              "    .dataframe tbody tr th {\n",
              "        vertical-align: top;\n",
              "    }\n",
              "\n",
              "    .dataframe thead th {\n",
              "        text-align: right;\n",
              "    }\n",
              "</style>\n",
              "<table border=\"1\" class=\"dataframe\">\n",
              "  <thead>\n",
              "    <tr style=\"text-align: right;\">\n",
              "      <th></th>\n",
              "      <th>Actually - Positive</th>\n",
              "      <th>Actually - Negative</th>\n",
              "      <th>Sum</th>\n",
              "    </tr>\n",
              "    <tr>\n",
              "      <th>My Results</th>\n",
              "      <th></th>\n",
              "      <th></th>\n",
              "      <th></th>\n",
              "    </tr>\n",
              "  </thead>\n",
              "  <tbody>\n",
              "    <tr>\n",
              "      <th>Positive</th>\n",
              "      <td>512</td>\n",
              "      <td>4449</td>\n",
              "      <td>4961</td>\n",
              "    </tr>\n",
              "    <tr>\n",
              "      <th>Negative</th>\n",
              "      <td>103</td>\n",
              "      <td>4936</td>\n",
              "      <td>5039</td>\n",
              "    </tr>\n",
              "    <tr>\n",
              "      <th>Sum</th>\n",
              "      <td>615</td>\n",
              "      <td>9385</td>\n",
              "      <td>10000</td>\n",
              "    </tr>\n",
              "  </tbody>\n",
              "</table>\n",
              "</div>"
            ],
            "text/plain": [
              "            Actually - Positive  Actually - Negative    Sum\n",
              "My Results                                                 \n",
              "Positive                    512                 4449   4961\n",
              "Negative                    103                 4936   5039\n",
              "Sum                         615                 9385  10000"
            ]
          },
          "metadata": {
            "tags": []
          },
          "execution_count": 306
        }
      ]
    },
    {
      "cell_type": "code",
      "metadata": {
        "id": "p018aKWcH3B5",
        "colab_type": "code",
        "colab": {
          "base_uri": "https://localhost:8080/",
          "height": 34
        },
        "outputId": "09dfb2d5-ae47-4360-c13f-2058129aaf84"
      },
      "source": [
        "# trafność\n",
        "def count_accuracy():\n",
        "    return (TP + TN)/(TP + TN + FP + FN)\n",
        "count_accuracy()"
      ],
      "execution_count": 307,
      "outputs": [
        {
          "output_type": "execute_result",
          "data": {
            "text/plain": [
              "0.5448"
            ]
          },
          "metadata": {
            "tags": []
          },
          "execution_count": 307
        }
      ]
    },
    {
      "cell_type": "code",
      "metadata": {
        "id": "NPmW5pEXH3B7",
        "colab_type": "code",
        "colab": {
          "base_uri": "https://localhost:8080/",
          "height": 34
        },
        "outputId": "84159288-ad84-4773-f3c2-2c2be8f4308c"
      },
      "source": [
        "# czułość\n",
        "def count_sensitivity():\n",
        "    return TP/(TP + FN)\n",
        "count_sensitivity()"
      ],
      "execution_count": 308,
      "outputs": [
        {
          "output_type": "execute_result",
          "data": {
            "text/plain": [
              "0.832520325203252"
            ]
          },
          "metadata": {
            "tags": []
          },
          "execution_count": 308
        }
      ]
    },
    {
      "cell_type": "code",
      "metadata": {
        "id": "_dX5uZoXH3B9",
        "colab_type": "code",
        "colab": {
          "base_uri": "https://localhost:8080/",
          "height": 34
        },
        "outputId": "296775fa-ec82-4633-dbf2-5af2edc4a5f5"
      },
      "source": [
        "# swoistość\n",
        "def count_specificity():\n",
        "    return TN/(FP + TN)\n",
        "count_specificity()"
      ],
      "execution_count": 309,
      "outputs": [
        {
          "output_type": "execute_result",
          "data": {
            "text/plain": [
              "0.5259456579648375"
            ]
          },
          "metadata": {
            "tags": []
          },
          "execution_count": 309
        }
      ]
    },
    {
      "cell_type": "markdown",
      "metadata": {
        "id": "Ga4XqRxpH3B_",
        "colab_type": "text"
      },
      "source": [
        "# Część na 5.0"
      ]
    },
    {
      "cell_type": "code",
      "metadata": {
        "scrolled": true,
        "id": "gs2oyt2gH3CA",
        "colab_type": "code",
        "colab": {
          "base_uri": "https://localhost:8080/",
          "height": 117
        },
        "outputId": "98694145-dc81-4af6-b491-41370ed1ab71"
      },
      "source": [
        "show_image(image)"
      ],
      "execution_count": 310,
      "outputs": [
        {
          "output_type": "display_data",
          "data": {
            "image/png": "[encoded data removed]",
            "text/plain": [
              "<PIL.Image.Image image mode=L size=100x100 at 0x7FCB303B7E80>"
            ]
          },
          "metadata": {
            "tags": []
          }
        }
      ]
    },
    {
      "cell_type": "code",
      "metadata": {
        "id": "T_6O546yH3CC",
        "colab_type": "code",
        "colab": {
          "base_uri": "https://localhost:8080/",
          "height": 47
        },
        "outputId": "09100914-d2ee-4bd8-b82d-0bb05f51522a"
      },
      "source": [
        "column_names = [\"X\", \"Y\", \"Pixel value\", \"Mean for square\", \"Max value for square\", \"Min value for square\", \"Variance\", \n",
        "               \"Third central moment\", #\"Image moment\", \n",
        "                \"Right value\" ]\n",
        "\n",
        "global df\n",
        "df = pd.DataFrame(columns = column_names)\n",
        "df"
      ],
      "execution_count": 311,
      "outputs": [
        {
          "output_type": "execute_result",
          "data": {
            "text/html": [
              "<div>\n",
              "<style scoped>\n",
              "    .dataframe tbody tr th:only-of-type {\n",
              "        vertical-align: middle;\n",
              "    }\n",
              "\n",
              "    .dataframe tbody tr th {\n",
              "        vertical-align: top;\n",
              "    }\n",
              "\n",
              "    .dataframe thead th {\n",
              "        text-align: right;\n",
              "    }\n",
              "</style>\n",
              "<table border=\"1\" class=\"dataframe\">\n",
              "  <thead>\n",
              "    <tr style=\"text-align: right;\">\n",
              "      <th></th>\n",
              "      <th>X</th>\n",
              "      <th>Y</th>\n",
              "      <th>Pixel value</th>\n",
              "      <th>Mean for square</th>\n",
              "      <th>Max value for square</th>\n",
              "      <th>Min value for square</th>\n",
              "      <th>Variance</th>\n",
              "      <th>Third central moment</th>\n",
              "      <th>Right value</th>\n",
              "    </tr>\n",
              "  </thead>\n",
              "  <tbody>\n",
              "  </tbody>\n",
              "</table>\n",
              "</div>"
            ],
            "text/plain": [
              "Empty DataFrame\n",
              "Columns: [X, Y, Pixel value, Mean for square, Max value for square, Min value for square, Variance, Third central moment, Right value]\n",
              "Index: []"
            ]
          },
          "metadata": {
            "tags": []
          },
          "execution_count": 311
        }
      ]
    },
    {
      "cell_type": "code",
      "metadata": {
        "id": "3nvI5rYOH3CF",
        "colab_type": "code",
        "colab": {}
      },
      "source": [
        "def workForThisSquare(index, firstCol, firstRow):\n",
        "    lastRow = firstRow + 5\n",
        "    lastCol = firstCol + 5\n",
        "    \n",
        "    X = firstCol + 2\n",
        "    Y = firstRow + 2\n",
        "    PixelValue = image[X, Y]\n",
        "    \n",
        "    smallArray = image[firstRow:lastRow, firstCol:lastCol]\n",
        "    \n",
        "    MeanForSquare = np.mean(smallArray)\n",
        "    MaxValueForSquare = np.max(smallArray)\n",
        "    MinValueForSquare = np.min(smallArray)\n",
        "    Variance = np.var(smallArray)\n",
        "    ThirdCentralMoment = moment(smallArray, moment = 3)\n",
        "    \n",
        "    RightValue = 0 if odp[X, Y] == 255 else 1\n",
        "    \n",
        "    \n",
        "    df.loc[index] = [X, Y, PixelValue, MeanForSquare, MaxValueForSquare, \n",
        "                     MinValueForSquare, Variance, ThirdCentralMoment,RightValue]\n",
        "    \n"
      ],
      "execution_count": 0,
      "outputs": []
    },
    {
      "cell_type": "code",
      "metadata": {
        "id": "CpM6XhxhH3CH",
        "colab_type": "code",
        "colab": {}
      },
      "source": [
        "cols = image.shape[1]\n",
        "rows = image.shape[0]\n",
        "\n",
        "i = 0\n",
        "\n",
        "for c in range(0, cols - 4):\n",
        "    for r in range(0, rows - 4):\n",
        "        workForThisSquare(i, c, r)\n",
        "        i += 1\n",
        "        "
      ],
      "execution_count": 0,
      "outputs": []
    },
    {
      "cell_type": "code",
      "metadata": {
        "id": "7xrJZfpGH3CJ",
        "colab_type": "code",
        "colab": {
          "base_uri": "https://localhost:8080/",
          "height": 402
        },
        "outputId": "efaa9402-2193-4828-8561-4ca7ed2e778f"
      },
      "source": [
        "df"
      ],
      "execution_count": 314,
      "outputs": [
        {
          "output_type": "execute_result",
          "data": {
            "text/html": [
              "<div>\n",
              "<style scoped>\n",
              "    .dataframe tbody tr th:only-of-type {\n",
              "        vertical-align: middle;\n",
              "    }\n",
              "\n",
              "    .dataframe tbody tr th {\n",
              "        vertical-align: top;\n",
              "    }\n",
              "\n",
              "    .dataframe thead th {\n",
              "        text-align: right;\n",
              "    }\n",
              "</style>\n",
              "<table border=\"1\" class=\"dataframe\">\n",
              "  <thead>\n",
              "    <tr style=\"text-align: right;\">\n",
              "      <th></th>\n",
              "      <th>X</th>\n",
              "      <th>Y</th>\n",
              "      <th>Pixel value</th>\n",
              "      <th>Mean for square</th>\n",
              "      <th>Max value for square</th>\n",
              "      <th>Min value for square</th>\n",
              "      <th>Variance</th>\n",
              "      <th>Third central moment</th>\n",
              "      <th>Right value</th>\n",
              "    </tr>\n",
              "  </thead>\n",
              "  <tbody>\n",
              "    <tr>\n",
              "      <th>0</th>\n",
              "      <td>2</td>\n",
              "      <td>2</td>\n",
              "      <td>255</td>\n",
              "      <td>255.0</td>\n",
              "      <td>255</td>\n",
              "      <td>255</td>\n",
              "      <td>0.0</td>\n",
              "      <td>[0.0, 0.0, 0.0, 0.0, 0.0]</td>\n",
              "      <td>0</td>\n",
              "    </tr>\n",
              "    <tr>\n",
              "      <th>1</th>\n",
              "      <td>2</td>\n",
              "      <td>3</td>\n",
              "      <td>255</td>\n",
              "      <td>255.0</td>\n",
              "      <td>255</td>\n",
              "      <td>255</td>\n",
              "      <td>0.0</td>\n",
              "      <td>[0.0, 0.0, 0.0, 0.0, 0.0]</td>\n",
              "      <td>0</td>\n",
              "    </tr>\n",
              "    <tr>\n",
              "      <th>2</th>\n",
              "      <td>2</td>\n",
              "      <td>4</td>\n",
              "      <td>255</td>\n",
              "      <td>255.0</td>\n",
              "      <td>255</td>\n",
              "      <td>255</td>\n",
              "      <td>0.0</td>\n",
              "      <td>[0.0, 0.0, 0.0, 0.0, 0.0]</td>\n",
              "      <td>0</td>\n",
              "    </tr>\n",
              "    <tr>\n",
              "      <th>3</th>\n",
              "      <td>2</td>\n",
              "      <td>5</td>\n",
              "      <td>255</td>\n",
              "      <td>255.0</td>\n",
              "      <td>255</td>\n",
              "      <td>255</td>\n",
              "      <td>0.0</td>\n",
              "      <td>[0.0, 0.0, 0.0, 0.0, 0.0]</td>\n",
              "      <td>0</td>\n",
              "    </tr>\n",
              "    <tr>\n",
              "      <th>4</th>\n",
              "      <td>2</td>\n",
              "      <td>6</td>\n",
              "      <td>255</td>\n",
              "      <td>255.0</td>\n",
              "      <td>255</td>\n",
              "      <td>255</td>\n",
              "      <td>0.0</td>\n",
              "      <td>[0.0, 0.0, 0.0, 0.0, 0.0]</td>\n",
              "      <td>0</td>\n",
              "    </tr>\n",
              "    <tr>\n",
              "      <th>...</th>\n",
              "      <td>...</td>\n",
              "      <td>...</td>\n",
              "      <td>...</td>\n",
              "      <td>...</td>\n",
              "      <td>...</td>\n",
              "      <td>...</td>\n",
              "      <td>...</td>\n",
              "      <td>...</td>\n",
              "      <td>...</td>\n",
              "    </tr>\n",
              "    <tr>\n",
              "      <th>9211</th>\n",
              "      <td>97</td>\n",
              "      <td>93</td>\n",
              "      <td>255</td>\n",
              "      <td>255.0</td>\n",
              "      <td>255</td>\n",
              "      <td>255</td>\n",
              "      <td>0.0</td>\n",
              "      <td>[0.0, 0.0, 0.0, 0.0, 0.0]</td>\n",
              "      <td>0</td>\n",
              "    </tr>\n",
              "    <tr>\n",
              "      <th>9212</th>\n",
              "      <td>97</td>\n",
              "      <td>94</td>\n",
              "      <td>255</td>\n",
              "      <td>255.0</td>\n",
              "      <td>255</td>\n",
              "      <td>255</td>\n",
              "      <td>0.0</td>\n",
              "      <td>[0.0, 0.0, 0.0, 0.0, 0.0]</td>\n",
              "      <td>0</td>\n",
              "    </tr>\n",
              "    <tr>\n",
              "      <th>9213</th>\n",
              "      <td>97</td>\n",
              "      <td>95</td>\n",
              "      <td>255</td>\n",
              "      <td>255.0</td>\n",
              "      <td>255</td>\n",
              "      <td>255</td>\n",
              "      <td>0.0</td>\n",
              "      <td>[0.0, 0.0, 0.0, 0.0, 0.0]</td>\n",
              "      <td>0</td>\n",
              "    </tr>\n",
              "    <tr>\n",
              "      <th>9214</th>\n",
              "      <td>97</td>\n",
              "      <td>96</td>\n",
              "      <td>255</td>\n",
              "      <td>255.0</td>\n",
              "      <td>255</td>\n",
              "      <td>255</td>\n",
              "      <td>0.0</td>\n",
              "      <td>[0.0, 0.0, 0.0, 0.0, 0.0]</td>\n",
              "      <td>0</td>\n",
              "    </tr>\n",
              "    <tr>\n",
              "      <th>9215</th>\n",
              "      <td>97</td>\n",
              "      <td>97</td>\n",
              "      <td>255</td>\n",
              "      <td>255.0</td>\n",
              "      <td>255</td>\n",
              "      <td>255</td>\n",
              "      <td>0.0</td>\n",
              "      <td>[0.0, 0.0, 0.0, 0.0, 0.0]</td>\n",
              "      <td>0</td>\n",
              "    </tr>\n",
              "  </tbody>\n",
              "</table>\n",
              "<p>9216 rows × 9 columns</p>\n",
              "</div>"
            ],
            "text/plain": [
              "       X   Y Pixel value  ...  Variance       Third central moment Right value\n",
              "0      2   2         255  ...       0.0  [0.0, 0.0, 0.0, 0.0, 0.0]           0\n",
              "1      2   3         255  ...       0.0  [0.0, 0.0, 0.0, 0.0, 0.0]           0\n",
              "2      2   4         255  ...       0.0  [0.0, 0.0, 0.0, 0.0, 0.0]           0\n",
              "3      2   5         255  ...       0.0  [0.0, 0.0, 0.0, 0.0, 0.0]           0\n",
              "4      2   6         255  ...       0.0  [0.0, 0.0, 0.0, 0.0, 0.0]           0\n",
              "...   ..  ..         ...  ...       ...                        ...         ...\n",
              "9211  97  93         255  ...       0.0  [0.0, 0.0, 0.0, 0.0, 0.0]           0\n",
              "9212  97  94         255  ...       0.0  [0.0, 0.0, 0.0, 0.0, 0.0]           0\n",
              "9213  97  95         255  ...       0.0  [0.0, 0.0, 0.0, 0.0, 0.0]           0\n",
              "9214  97  96         255  ...       0.0  [0.0, 0.0, 0.0, 0.0, 0.0]           0\n",
              "9215  97  97         255  ...       0.0  [0.0, 0.0, 0.0, 0.0, 0.0]           0\n",
              "\n",
              "[9216 rows x 9 columns]"
            ]
          },
          "metadata": {
            "tags": []
          },
          "execution_count": 314
        }
      ]
    },
    {
      "cell_type": "code",
      "metadata": {
        "id": "YXdhTzdMH3CL",
        "colab_type": "code",
        "colab": {
          "base_uri": "https://localhost:8080/",
          "height": 402
        },
        "outputId": "13eef4ff-b743-4569-d89c-cfef41ad9ae9"
      },
      "source": [
        "X_cols = [\"Pixel value\", \"Mean for square\", \"Max value for square\", \"Min value for square\", \"Variance\"]\n",
        "               #\"Third central moment\"]\n",
        "y_col = [\"Right value\"]\n",
        "\n",
        "X = df[X_cols]\n",
        "y = df[y_col]\n",
        "\n",
        "y"
      ],
      "execution_count": 315,
      "outputs": [
        {
          "output_type": "execute_result",
          "data": {
            "text/html": [
              "<div>\n",
              "<style scoped>\n",
              "    .dataframe tbody tr th:only-of-type {\n",
              "        vertical-align: middle;\n",
              "    }\n",
              "\n",
              "    .dataframe tbody tr th {\n",
              "        vertical-align: top;\n",
              "    }\n",
              "\n",
              "    .dataframe thead th {\n",
              "        text-align: right;\n",
              "    }\n",
              "</style>\n",
              "<table border=\"1\" class=\"dataframe\">\n",
              "  <thead>\n",
              "    <tr style=\"text-align: right;\">\n",
              "      <th></th>\n",
              "      <th>Right value</th>\n",
              "    </tr>\n",
              "  </thead>\n",
              "  <tbody>\n",
              "    <tr>\n",
              "      <th>0</th>\n",
              "      <td>0</td>\n",
              "    </tr>\n",
              "    <tr>\n",
              "      <th>1</th>\n",
              "      <td>0</td>\n",
              "    </tr>\n",
              "    <tr>\n",
              "      <th>2</th>\n",
              "      <td>0</td>\n",
              "    </tr>\n",
              "    <tr>\n",
              "      <th>3</th>\n",
              "      <td>0</td>\n",
              "    </tr>\n",
              "    <tr>\n",
              "      <th>4</th>\n",
              "      <td>0</td>\n",
              "    </tr>\n",
              "    <tr>\n",
              "      <th>...</th>\n",
              "      <td>...</td>\n",
              "    </tr>\n",
              "    <tr>\n",
              "      <th>9211</th>\n",
              "      <td>0</td>\n",
              "    </tr>\n",
              "    <tr>\n",
              "      <th>9212</th>\n",
              "      <td>0</td>\n",
              "    </tr>\n",
              "    <tr>\n",
              "      <th>9213</th>\n",
              "      <td>0</td>\n",
              "    </tr>\n",
              "    <tr>\n",
              "      <th>9214</th>\n",
              "      <td>0</td>\n",
              "    </tr>\n",
              "    <tr>\n",
              "      <th>9215</th>\n",
              "      <td>0</td>\n",
              "    </tr>\n",
              "  </tbody>\n",
              "</table>\n",
              "<p>9216 rows × 1 columns</p>\n",
              "</div>"
            ],
            "text/plain": [
              "     Right value\n",
              "0              0\n",
              "1              0\n",
              "2              0\n",
              "3              0\n",
              "4              0\n",
              "...          ...\n",
              "9211           0\n",
              "9212           0\n",
              "9213           0\n",
              "9214           0\n",
              "9215           0\n",
              "\n",
              "[9216 rows x 1 columns]"
            ]
          },
          "metadata": {
            "tags": []
          },
          "execution_count": 315
        }
      ]
    },
    {
      "cell_type": "code",
      "metadata": {
        "id": "tO65AIl7H3CN",
        "colab_type": "code",
        "colab": {}
      },
      "source": [
        "input_shape = X.shape[1]\n",
        "\n",
        "def build_model():\n",
        "    return Sequential([\n",
        "        Dense(32, input_shape=(X.shape[1],), activation='relu'),\n",
        "        Dense(64, activation='relu'),\n",
        "        Dense(1, activation='sigmoid')\n",
        "    ])\n",
        "\n",
        "model = build_model()"
      ],
      "execution_count": 0,
      "outputs": []
    },
    {
      "cell_type": "code",
      "metadata": {
        "id": "4-LjYFECH3CP",
        "colab_type": "code",
        "colab": {
          "base_uri": "https://localhost:8080/",
          "height": 350
        },
        "outputId": "8e3cc003-9103-41da-d6b9-c588a5e18c20"
      },
      "source": [
        "X_train = X[:7500]\n",
        "y_train = y[:7500]\n",
        "\n",
        "model.compile(loss='binary_crossentropy',\n",
        "              optimizer='adam',\n",
        "              metrics=['accuracy'])\n",
        "#metrics.confusion_matrix(y_test, y_pred)\n",
        "model_history = model.fit(X, y,\n",
        "          epochs=20,\n",
        "          batch_size = 20,validation_split=0.20)"
      ],
      "execution_count": 317,
      "outputs": [
        {
          "output_type": "error",
          "ename": "ValueError",
          "evalue": "ignored",
          "traceback": [
            "\u001b[0;31m---------------------------------------------------------------------------\u001b[0m",
            "\u001b[0;31mValueError\u001b[0m                                Traceback (most recent call last)",
            "\u001b[0;32m<ipython-input-317-48a5416554c2>\u001b[0m in \u001b[0;36m<module>\u001b[0;34m()\u001b[0m\n\u001b[1;32m      8\u001b[0m model_history = model.fit(X, y,\n\u001b[1;32m      9\u001b[0m           \u001b[0mepochs\u001b[0m\u001b[0;34m=\u001b[0m\u001b[0;36m20\u001b[0m\u001b[0;34m,\u001b[0m\u001b[0;34m\u001b[0m\u001b[0;34m\u001b[0m\u001b[0m\n\u001b[0;32m---> 10\u001b[0;31m           batch_size = 20,validation_split=0.20)\n\u001b[0m",
            "\u001b[0;32m/usr/local/lib/python3.6/dist-packages/tensorflow/python/keras/engine/training.py\u001b[0m in \u001b[0;36m_method_wrapper\u001b[0;34m(self, *args, **kwargs)\u001b[0m\n\u001b[1;32m     64\u001b[0m   \u001b[0;32mdef\u001b[0m \u001b[0m_method_wrapper\u001b[0m\u001b[0;34m(\u001b[0m\u001b[0mself\u001b[0m\u001b[0;34m,\u001b[0m \u001b[0;34m*\u001b[0m\u001b[0margs\u001b[0m\u001b[0;34m,\u001b[0m \u001b[0;34m**\u001b[0m\u001b[0mkwargs\u001b[0m\u001b[0;34m)\u001b[0m\u001b[0;34m:\u001b[0m\u001b[0;34m\u001b[0m\u001b[0;34m\u001b[0m\u001b[0m\n\u001b[1;32m     65\u001b[0m     \u001b[0;32mif\u001b[0m \u001b[0;32mnot\u001b[0m \u001b[0mself\u001b[0m\u001b[0;34m.\u001b[0m\u001b[0m_in_multi_worker_mode\u001b[0m\u001b[0;34m(\u001b[0m\u001b[0;34m)\u001b[0m\u001b[0;34m:\u001b[0m  \u001b[0;31m# pylint: disable=protected-access\u001b[0m\u001b[0;34m\u001b[0m\u001b[0;34m\u001b[0m\u001b[0m\n\u001b[0;32m---> 66\u001b[0;31m       \u001b[0;32mreturn\u001b[0m \u001b[0mmethod\u001b[0m\u001b[0;34m(\u001b[0m\u001b[0mself\u001b[0m\u001b[0;34m,\u001b[0m \u001b[0;34m*\u001b[0m\u001b[0margs\u001b[0m\u001b[0;34m,\u001b[0m \u001b[0;34m**\u001b[0m\u001b[0mkwargs\u001b[0m\u001b[0;34m)\u001b[0m\u001b[0;34m\u001b[0m\u001b[0;34m\u001b[0m\u001b[0m\n\u001b[0m\u001b[1;32m     67\u001b[0m \u001b[0;34m\u001b[0m\u001b[0m\n\u001b[1;32m     68\u001b[0m     \u001b[0;31m# Running inside `run_distribute_coordinator` already.\u001b[0m\u001b[0;34m\u001b[0m\u001b[0;34m\u001b[0m\u001b[0;34m\u001b[0m\u001b[0m\n",
            "\u001b[0;32m/usr/local/lib/python3.6/dist-packages/tensorflow/python/keras/engine/training.py\u001b[0m in \u001b[0;36mfit\u001b[0;34m(self, x, y, batch_size, epochs, verbose, callbacks, validation_split, validation_data, shuffle, class_weight, sample_weight, initial_epoch, steps_per_epoch, validation_steps, validation_batch_size, validation_freq, max_queue_size, workers, use_multiprocessing)\u001b[0m\n\u001b[1;32m    795\u001b[0m           data_adapter.train_validation_split((x, y, sample_weight),\n\u001b[1;32m    796\u001b[0m                                               \u001b[0mvalidation_split\u001b[0m\u001b[0;34m=\u001b[0m\u001b[0mvalidation_split\u001b[0m\u001b[0;34m,\u001b[0m\u001b[0;34m\u001b[0m\u001b[0;34m\u001b[0m\u001b[0m\n\u001b[0;32m--> 797\u001b[0;31m                                               shuffle=False))\n\u001b[0m\u001b[1;32m    798\u001b[0m \u001b[0;34m\u001b[0m\u001b[0m\n\u001b[1;32m    799\u001b[0m     \u001b[0;32mwith\u001b[0m \u001b[0mself\u001b[0m\u001b[0;34m.\u001b[0m\u001b[0mdistribute_strategy\u001b[0m\u001b[0;34m.\u001b[0m\u001b[0mscope\u001b[0m\u001b[0;34m(\u001b[0m\u001b[0;34m)\u001b[0m\u001b[0;34m,\u001b[0m\u001b[0;31m \u001b[0m\u001b[0;31m\\\u001b[0m\u001b[0;34m\u001b[0m\u001b[0;34m\u001b[0m\u001b[0m\n",
            "\u001b[0;32m/usr/local/lib/python3.6/dist-packages/tensorflow/python/keras/engine/data_adapter.py\u001b[0m in \u001b[0;36mtrain_validation_split\u001b[0;34m(arrays, validation_split, shuffle)\u001b[0m\n\u001b[1;32m   1336\u001b[0m \u001b[0;34m\u001b[0m\u001b[0m\n\u001b[1;32m   1337\u001b[0m   train_arrays = nest.map_structure(\n\u001b[0;32m-> 1338\u001b[0;31m       functools.partial(_split, indices=train_indices), arrays)\n\u001b[0m\u001b[1;32m   1339\u001b[0m   val_arrays = nest.map_structure(\n\u001b[1;32m   1340\u001b[0m       functools.partial(_split, indices=val_indices), arrays)\n",
            "\u001b[0;32m/usr/local/lib/python3.6/dist-packages/tensorflow/python/util/nest.py\u001b[0m in \u001b[0;36mmap_structure\u001b[0;34m(func, *structure, **kwargs)\u001b[0m\n\u001b[1;32m    615\u001b[0m \u001b[0;34m\u001b[0m\u001b[0m\n\u001b[1;32m    616\u001b[0m   return pack_sequence_as(\n\u001b[0;32m--> 617\u001b[0;31m       \u001b[0mstructure\u001b[0m\u001b[0;34m[\u001b[0m\u001b[0;36m0\u001b[0m\u001b[0;34m]\u001b[0m\u001b[0;34m,\u001b[0m \u001b[0;34m[\u001b[0m\u001b[0mfunc\u001b[0m\u001b[0;34m(\u001b[0m\u001b[0;34m*\u001b[0m\u001b[0mx\u001b[0m\u001b[0;34m)\u001b[0m \u001b[0;32mfor\u001b[0m \u001b[0mx\u001b[0m \u001b[0;32min\u001b[0m \u001b[0mentries\u001b[0m\u001b[0;34m]\u001b[0m\u001b[0;34m,\u001b[0m\u001b[0;34m\u001b[0m\u001b[0;34m\u001b[0m\u001b[0m\n\u001b[0m\u001b[1;32m    618\u001b[0m       expand_composites=expand_composites)\n\u001b[1;32m    619\u001b[0m \u001b[0;34m\u001b[0m\u001b[0m\n",
            "\u001b[0;32m/usr/local/lib/python3.6/dist-packages/tensorflow/python/util/nest.py\u001b[0m in \u001b[0;36m<listcomp>\u001b[0;34m(.0)\u001b[0m\n\u001b[1;32m    615\u001b[0m \u001b[0;34m\u001b[0m\u001b[0m\n\u001b[1;32m    616\u001b[0m   return pack_sequence_as(\n\u001b[0;32m--> 617\u001b[0;31m       \u001b[0mstructure\u001b[0m\u001b[0;34m[\u001b[0m\u001b[0;36m0\u001b[0m\u001b[0;34m]\u001b[0m\u001b[0;34m,\u001b[0m \u001b[0;34m[\u001b[0m\u001b[0mfunc\u001b[0m\u001b[0;34m(\u001b[0m\u001b[0;34m*\u001b[0m\u001b[0mx\u001b[0m\u001b[0;34m)\u001b[0m \u001b[0;32mfor\u001b[0m \u001b[0mx\u001b[0m \u001b[0;32min\u001b[0m \u001b[0mentries\u001b[0m\u001b[0;34m]\u001b[0m\u001b[0;34m,\u001b[0m\u001b[0;34m\u001b[0m\u001b[0;34m\u001b[0m\u001b[0m\n\u001b[0m\u001b[1;32m    618\u001b[0m       expand_composites=expand_composites)\n\u001b[1;32m    619\u001b[0m \u001b[0;34m\u001b[0m\u001b[0m\n",
            "\u001b[0;32m/usr/local/lib/python3.6/dist-packages/tensorflow/python/keras/engine/data_adapter.py\u001b[0m in \u001b[0;36m_split\u001b[0;34m(t, indices)\u001b[0m\n\u001b[1;32m   1332\u001b[0m     \u001b[0;32mif\u001b[0m \u001b[0mt\u001b[0m \u001b[0;32mis\u001b[0m \u001b[0;32mNone\u001b[0m\u001b[0;34m:\u001b[0m\u001b[0;34m\u001b[0m\u001b[0;34m\u001b[0m\u001b[0m\n\u001b[1;32m   1333\u001b[0m       \u001b[0;32mreturn\u001b[0m \u001b[0mt\u001b[0m\u001b[0;34m\u001b[0m\u001b[0;34m\u001b[0m\u001b[0m\n\u001b[0;32m-> 1334\u001b[0;31m     \u001b[0mt\u001b[0m \u001b[0;34m=\u001b[0m \u001b[0mops\u001b[0m\u001b[0;34m.\u001b[0m\u001b[0mconvert_to_tensor_v2\u001b[0m\u001b[0;34m(\u001b[0m\u001b[0mt\u001b[0m\u001b[0;34m)\u001b[0m\u001b[0;34m\u001b[0m\u001b[0;34m\u001b[0m\u001b[0m\n\u001b[0m\u001b[1;32m   1335\u001b[0m     \u001b[0;32mreturn\u001b[0m \u001b[0marray_ops\u001b[0m\u001b[0;34m.\u001b[0m\u001b[0mgather_v2\u001b[0m\u001b[0;34m(\u001b[0m\u001b[0mt\u001b[0m\u001b[0;34m,\u001b[0m \u001b[0mindices\u001b[0m\u001b[0;34m)\u001b[0m\u001b[0;34m\u001b[0m\u001b[0;34m\u001b[0m\u001b[0m\n\u001b[1;32m   1336\u001b[0m \u001b[0;34m\u001b[0m\u001b[0m\n",
            "\u001b[0;32m/usr/local/lib/python3.6/dist-packages/tensorflow/python/framework/ops.py\u001b[0m in \u001b[0;36mconvert_to_tensor_v2\u001b[0;34m(value, dtype, dtype_hint, name)\u001b[0m\n\u001b[1;32m   1281\u001b[0m       \u001b[0mname\u001b[0m\u001b[0;34m=\u001b[0m\u001b[0mname\u001b[0m\u001b[0;34m,\u001b[0m\u001b[0;34m\u001b[0m\u001b[0;34m\u001b[0m\u001b[0m\n\u001b[1;32m   1282\u001b[0m       \u001b[0mpreferred_dtype\u001b[0m\u001b[0;34m=\u001b[0m\u001b[0mdtype_hint\u001b[0m\u001b[0;34m,\u001b[0m\u001b[0;34m\u001b[0m\u001b[0;34m\u001b[0m\u001b[0m\n\u001b[0;32m-> 1283\u001b[0;31m       as_ref=False)\n\u001b[0m\u001b[1;32m   1284\u001b[0m \u001b[0;34m\u001b[0m\u001b[0m\n\u001b[1;32m   1285\u001b[0m \u001b[0;34m\u001b[0m\u001b[0m\n",
            "\u001b[0;32m/usr/local/lib/python3.6/dist-packages/tensorflow/python/framework/ops.py\u001b[0m in \u001b[0;36mconvert_to_tensor\u001b[0;34m(value, dtype, name, as_ref, preferred_dtype, dtype_hint, ctx, accepted_result_types)\u001b[0m\n\u001b[1;32m   1339\u001b[0m \u001b[0;34m\u001b[0m\u001b[0m\n\u001b[1;32m   1340\u001b[0m     \u001b[0;32mif\u001b[0m \u001b[0mret\u001b[0m \u001b[0;32mis\u001b[0m \u001b[0;32mNone\u001b[0m\u001b[0;34m:\u001b[0m\u001b[0;34m\u001b[0m\u001b[0;34m\u001b[0m\u001b[0m\n\u001b[0;32m-> 1341\u001b[0;31m       \u001b[0mret\u001b[0m \u001b[0;34m=\u001b[0m \u001b[0mconversion_func\u001b[0m\u001b[0;34m(\u001b[0m\u001b[0mvalue\u001b[0m\u001b[0;34m,\u001b[0m \u001b[0mdtype\u001b[0m\u001b[0;34m=\u001b[0m\u001b[0mdtype\u001b[0m\u001b[0;34m,\u001b[0m \u001b[0mname\u001b[0m\u001b[0;34m=\u001b[0m\u001b[0mname\u001b[0m\u001b[0;34m,\u001b[0m \u001b[0mas_ref\u001b[0m\u001b[0;34m=\u001b[0m\u001b[0mas_ref\u001b[0m\u001b[0;34m)\u001b[0m\u001b[0;34m\u001b[0m\u001b[0;34m\u001b[0m\u001b[0m\n\u001b[0m\u001b[1;32m   1342\u001b[0m \u001b[0;34m\u001b[0m\u001b[0m\n\u001b[1;32m   1343\u001b[0m     \u001b[0;32mif\u001b[0m \u001b[0mret\u001b[0m \u001b[0;32mis\u001b[0m \u001b[0mNotImplemented\u001b[0m\u001b[0;34m:\u001b[0m\u001b[0;34m\u001b[0m\u001b[0;34m\u001b[0m\u001b[0m\n",
            "\u001b[0;32m/usr/local/lib/python3.6/dist-packages/tensorflow/python/framework/constant_op.py\u001b[0m in \u001b[0;36m_constant_tensor_conversion_function\u001b[0;34m(v, dtype, name, as_ref)\u001b[0m\n\u001b[1;32m    319\u001b[0m                                          as_ref=False):\n\u001b[1;32m    320\u001b[0m   \u001b[0m_\u001b[0m \u001b[0;34m=\u001b[0m \u001b[0mas_ref\u001b[0m\u001b[0;34m\u001b[0m\u001b[0;34m\u001b[0m\u001b[0m\n\u001b[0;32m--> 321\u001b[0;31m   \u001b[0;32mreturn\u001b[0m \u001b[0mconstant\u001b[0m\u001b[0;34m(\u001b[0m\u001b[0mv\u001b[0m\u001b[0;34m,\u001b[0m \u001b[0mdtype\u001b[0m\u001b[0;34m=\u001b[0m\u001b[0mdtype\u001b[0m\u001b[0;34m,\u001b[0m \u001b[0mname\u001b[0m\u001b[0;34m=\u001b[0m\u001b[0mname\u001b[0m\u001b[0;34m)\u001b[0m\u001b[0;34m\u001b[0m\u001b[0;34m\u001b[0m\u001b[0m\n\u001b[0m\u001b[1;32m    322\u001b[0m \u001b[0;34m\u001b[0m\u001b[0m\n\u001b[1;32m    323\u001b[0m \u001b[0;34m\u001b[0m\u001b[0m\n",
            "\u001b[0;32m/usr/local/lib/python3.6/dist-packages/tensorflow/python/framework/constant_op.py\u001b[0m in \u001b[0;36mconstant\u001b[0;34m(value, dtype, shape, name)\u001b[0m\n\u001b[1;32m    260\u001b[0m   \"\"\"\n\u001b[1;32m    261\u001b[0m   return _constant_impl(value, dtype, shape, name, verify_shape=False,\n\u001b[0;32m--> 262\u001b[0;31m                         allow_broadcast=True)\n\u001b[0m\u001b[1;32m    263\u001b[0m \u001b[0;34m\u001b[0m\u001b[0m\n\u001b[1;32m    264\u001b[0m \u001b[0;34m\u001b[0m\u001b[0m\n",
            "\u001b[0;32m/usr/local/lib/python3.6/dist-packages/tensorflow/python/framework/constant_op.py\u001b[0m in \u001b[0;36m_constant_impl\u001b[0;34m(value, dtype, shape, name, verify_shape, allow_broadcast)\u001b[0m\n\u001b[1;32m    268\u001b[0m   \u001b[0mctx\u001b[0m \u001b[0;34m=\u001b[0m \u001b[0mcontext\u001b[0m\u001b[0;34m.\u001b[0m\u001b[0mcontext\u001b[0m\u001b[0;34m(\u001b[0m\u001b[0;34m)\u001b[0m\u001b[0;34m\u001b[0m\u001b[0;34m\u001b[0m\u001b[0m\n\u001b[1;32m    269\u001b[0m   \u001b[0;32mif\u001b[0m \u001b[0mctx\u001b[0m\u001b[0;34m.\u001b[0m\u001b[0mexecuting_eagerly\u001b[0m\u001b[0;34m(\u001b[0m\u001b[0;34m)\u001b[0m\u001b[0;34m:\u001b[0m\u001b[0;34m\u001b[0m\u001b[0;34m\u001b[0m\u001b[0m\n\u001b[0;32m--> 270\u001b[0;31m     \u001b[0mt\u001b[0m \u001b[0;34m=\u001b[0m \u001b[0mconvert_to_eager_tensor\u001b[0m\u001b[0;34m(\u001b[0m\u001b[0mvalue\u001b[0m\u001b[0;34m,\u001b[0m \u001b[0mctx\u001b[0m\u001b[0;34m,\u001b[0m \u001b[0mdtype\u001b[0m\u001b[0;34m)\u001b[0m\u001b[0;34m\u001b[0m\u001b[0;34m\u001b[0m\u001b[0m\n\u001b[0m\u001b[1;32m    271\u001b[0m     \u001b[0;32mif\u001b[0m \u001b[0mshape\u001b[0m \u001b[0;32mis\u001b[0m \u001b[0;32mNone\u001b[0m\u001b[0;34m:\u001b[0m\u001b[0;34m\u001b[0m\u001b[0;34m\u001b[0m\u001b[0m\n\u001b[1;32m    272\u001b[0m       \u001b[0;32mreturn\u001b[0m \u001b[0mt\u001b[0m\u001b[0;34m\u001b[0m\u001b[0;34m\u001b[0m\u001b[0m\n",
            "\u001b[0;32m/usr/local/lib/python3.6/dist-packages/tensorflow/python/framework/constant_op.py\u001b[0m in \u001b[0;36mconvert_to_eager_tensor\u001b[0;34m(value, ctx, dtype)\u001b[0m\n\u001b[1;32m     94\u001b[0m       \u001b[0mdtype\u001b[0m \u001b[0;34m=\u001b[0m \u001b[0mdtypes\u001b[0m\u001b[0;34m.\u001b[0m\u001b[0mas_dtype\u001b[0m\u001b[0;34m(\u001b[0m\u001b[0mdtype\u001b[0m\u001b[0;34m)\u001b[0m\u001b[0;34m.\u001b[0m\u001b[0mas_datatype_enum\u001b[0m\u001b[0;34m\u001b[0m\u001b[0;34m\u001b[0m\u001b[0m\n\u001b[1;32m     95\u001b[0m   \u001b[0mctx\u001b[0m\u001b[0;34m.\u001b[0m\u001b[0mensure_initialized\u001b[0m\u001b[0;34m(\u001b[0m\u001b[0;34m)\u001b[0m\u001b[0;34m\u001b[0m\u001b[0;34m\u001b[0m\u001b[0m\n\u001b[0;32m---> 96\u001b[0;31m   \u001b[0;32mreturn\u001b[0m \u001b[0mops\u001b[0m\u001b[0;34m.\u001b[0m\u001b[0mEagerTensor\u001b[0m\u001b[0;34m(\u001b[0m\u001b[0mvalue\u001b[0m\u001b[0;34m,\u001b[0m \u001b[0mctx\u001b[0m\u001b[0;34m.\u001b[0m\u001b[0mdevice_name\u001b[0m\u001b[0;34m,\u001b[0m \u001b[0mdtype\u001b[0m\u001b[0;34m)\u001b[0m\u001b[0;34m\u001b[0m\u001b[0;34m\u001b[0m\u001b[0m\n\u001b[0m\u001b[1;32m     97\u001b[0m \u001b[0;34m\u001b[0m\u001b[0m\n\u001b[1;32m     98\u001b[0m \u001b[0;34m\u001b[0m\u001b[0m\n",
            "\u001b[0;31mValueError\u001b[0m: Failed to convert a NumPy array to a Tensor (Unsupported object type int)."
          ]
        }
      ]
    },
    {
      "cell_type": "code",
      "metadata": {
        "id": "T5abRnnxH3CR",
        "colab_type": "code",
        "colab": {}
      },
      "source": [
        ""
      ],
      "execution_count": 0,
      "outputs": []
    },
    {
      "cell_type": "code",
      "metadata": {
        "id": "uVemoHdhH3CU",
        "colab_type": "code",
        "colab": {}
      },
      "source": [
        ""
      ],
      "execution_count": 0,
      "outputs": []
    }
  ]
}