{
  "nbformat": 4,
  "nbformat_minor": 0,
  "metadata": {
    "kernelspec": {
      "display_name": "Python 3",
      "language": "python",
      "name": "python3"
    },
    "language_info": {
      "codemirror_mode": {
        "name": "ipython",
        "version": 3
      },
      "file_extension": ".py",
      "mimetype": "text/x-python",
      "name": "python",
      "nbconvert_exporter": "python",
      "pygments_lexer": "ipython3",
      "version": "3.6.0"
    },
    "colab": {
      "name": "SiatkowkaOkaBeata.ipynb",
      "provenance": []
    },
    "accelerator": "GPU"
  },
  "cells": [
    {
      "cell_type": "code",
      "metadata": {
        "id": "W08E14CsH3BA",
        "colab_type": "code",
        "colab": {
          "base_uri": "https://localhost:8080/",
          "height": 164
        },
        "outputId": "ecc8995c-5f38-488f-f994-ff6e84bc47be"
      },
      "source": [
        "import cv2\n",
        "import numpy as np\n",
        "from skimage.filters import frangi, sobel\n",
        "from matplotlib import pyplot as plt\n",
        "import pandas as pd\n",
        "from scipy.stats import moment\n",
        "from google.colab.patches import cv2_imshow\n",
        "\n",
        "import tensorflow as tf\n",
        "from tensorflow.python import keras\n",
        "from tensorflow.python.keras.optimizers import Adam\n",
        "from tensorflow.python.keras.models import Sequential\n",
        "from tensorflow.python.keras.layers import Dense, Flatten, Dropout\n",
        "from sklearn.model_selection import KFold\n",
        "from keras import metrics\n",
        "from tensorflow.python.keras.callbacks import EarlyStopping"
      ],
      "execution_count": 47,
      "outputs": [
        {
          "output_type": "stream",
          "text": [
            "Requirement already up-to-date: keras in /usr/local/lib/python3.6/dist-packages (2.3.1)\n",
            "Requirement already satisfied, skipping upgrade: keras-applications>=1.0.6 in /usr/local/lib/python3.6/dist-packages (from keras) (1.0.8)\n",
            "Requirement already satisfied, skipping upgrade: scipy>=0.14 in /usr/local/lib/python3.6/dist-packages (from keras) (1.4.1)\n",
            "Requirement already satisfied, skipping upgrade: numpy>=1.9.1 in /usr/local/lib/python3.6/dist-packages (from keras) (1.18.3)\n",
            "Requirement already satisfied, skipping upgrade: h5py in /usr/local/lib/python3.6/dist-packages (from keras) (2.10.0)\n",
            "Requirement already satisfied, skipping upgrade: pyyaml in /usr/local/lib/python3.6/dist-packages (from keras) (3.13)\n",
            "Requirement already satisfied, skipping upgrade: six>=1.9.0 in /usr/local/lib/python3.6/dist-packages (from keras) (1.12.0)\n",
            "Requirement already satisfied, skipping upgrade: keras-preprocessing>=1.0.5 in /usr/local/lib/python3.6/dist-packages (from keras) (1.1.0)\n"
          ],
          "name": "stdout"
        }
      ]
    },
    {
      "cell_type": "code",
      "metadata": {
        "id": "yB1pHUK5IxGt",
        "colab_type": "code",
        "outputId": "8e922efe-e716-47d8-abc7-95033e9ef9d1",
        "colab": {
          "base_uri": "https://localhost:8080/",
          "height": 35
        }
      },
      "source": [
        "from google.colab import drive\n",
        "drive.mount('/content/drive')"
      ],
      "execution_count": 2,
      "outputs": [
        {
          "output_type": "stream",
          "text": [
            "Drive already mounted at /content/drive; to attempt to forcibly remount, call drive.mount(\"/content/drive\", force_remount=True).\n"
          ],
          "name": "stdout"
        }
      ]
    },
    {
      "cell_type": "markdown",
      "metadata": {
        "id": "E_ceJ5zgH3BE",
        "colab_type": "text"
      },
      "source": [
        "# Część na 3.0"
      ]
    },
    {
      "cell_type": "code",
      "metadata": {
        "id": "EchpjRzWH3BE",
        "colab_type": "code",
        "colab": {}
      },
      "source": [
        "def show_image(img, title=\"test\"):\n",
        "    cv2_imshow(img)\n",
        "    cv2.waitKey(0)\n",
        "    cv2.destroyAllWindows()"
      ],
      "execution_count": 0,
      "outputs": []
    },
    {
      "cell_type": "markdown",
      "metadata": {
        "id": "egAeOxKiH3BH",
        "colab_type": "text"
      },
      "source": [
        "## Wczytanie zdjęcia"
      ]
    },
    {
      "cell_type": "code",
      "metadata": {
        "id": "aNHWz5FWH3BH",
        "colab_type": "code",
        "colab": {}
      },
      "source": [
        "image_size = 200\n",
        "#blada gałka oczna na czarnym tle\n",
        "#image = cv2.imread('zdjecia/2_good.JPG') # 11.42 / 10.99\n",
        "\n",
        "#bardziej czerwona głka oczna na czrnym tle\n",
        "#image = cv2.imread('zdjecia/8_good.JPG') # 21.93 / 21.25\n",
        "\n",
        "#duża pomarańczowa gałka oczna na czarnym tle\n",
        "image = cv2.imread('/content/drive/My Drive/Colab Notebooks/zdjecia/Image_03R.jpg') # 51.76 / 56.1\n",
        "\n",
        "image = cv2.resize(image, (image_size, image_size))\n",
        "\n",
        "gray_to_find_circle = cv2.cvtColor(image, cv2.COLOR_BGR2GRAY)"
      ],
      "execution_count": 0,
      "outputs": []
    },
    {
      "cell_type": "markdown",
      "metadata": {
        "id": "3bcf-BoGH3BK",
        "colab_type": "text"
      },
      "source": [
        "## Wstępne przetworzenie obrazu"
      ]
    },
    {
      "cell_type": "code",
      "metadata": {
        "id": "26jCNeogH3BK",
        "colab_type": "code",
        "colab": {}
      },
      "source": [
        "def thresh_show(image, th1):\n",
        "    \n",
        "    image2 = cv2.threshold(image, th1, 255, cv2.THRESH_BINARY)[1]\n",
        "    #show_image(image2)\n",
        "    \n",
        "    return cv2.findContours(image2, cv2.RETR_EXTERNAL, cv2.CHAIN_APPROX_NONE)\n",
        "\n",
        "\n",
        "def contrast_image(image, low_value, high_value):\n",
        "    res = [[contrast(x, low_value, high_value) for x in y] for y in image]\n",
        "    return np.array(res)\n",
        "\n",
        "\n",
        "def contrast(value, low, high):\n",
        "    if value < low:\n",
        "        return 0\n",
        "    if value > high:\n",
        "        return 1\n",
        "    return (value - low)/(high - low)"
      ],
      "execution_count": 0,
      "outputs": []
    },
    {
      "cell_type": "code",
      "metadata": {
        "id": "0K5qJl77oXNn",
        "colab_type": "code",
        "outputId": "d9cd1aad-25d0-4f42-eb5e-3825e199d3bf",
        "colab": {
          "base_uri": "https://localhost:8080/",
          "height": 1000
        }
      },
      "source": [
        "image = cv2.imread('/content/drive/My Drive/Colab Notebooks/zdjecia/Image_03R.jpg') # 51.76 / 56.1\n",
        "\n",
        "image = cv2.resize(image, (image_size, image_size))\n",
        "\n",
        "gray_to_find_circle = cv2.cvtColor(image, cv2.COLOR_BGR2GRAY)\n",
        "\n",
        "#rozmycie\n",
        "gray_to_find_circle = cv2.GaussianBlur(gray_to_find_circle, (5, 5), 0) # medianblur, guassianblur ? \n",
        "show_image(image, title=\"blur\") \n",
        "\n",
        "image = cv2.cvtColor(image, cv2.COLOR_BGR2GRAY)\n",
        "image = cv2.GaussianBlur(image, (1, 1), 0) # medianblur, guassianblur ?\n",
        "show_image(image, title=\"blur2\")\n",
        "\n",
        "nonzero_photo = image[np.nonzero(image)]\n",
        "percentiles = np.percentile(nonzero_photo,(1, 99))\n",
        "image = contrast_image(image, percentiles[0], percentiles[1])\n",
        "\n",
        "image = cv2.adaptiveThreshold((image*255).astype(np.uint8), 255, cv2.ADAPTIVE_THRESH_GAUSSIAN_C, cv2.THRESH_BINARY,11,15) \n",
        "show_image(image, \"adaptive\")\n",
        "\n",
        "image = cv2.Laplacian(image,cv2.CV_64F)\n",
        "show_image(image, \"sobel\")\n",
        "\n",
        "image = frangi(image) \n",
        "image = (image*255).astype(np.uint8)\n",
        "show_image(image, title=\"frangi\")\n",
        "\n",
        "#wyostrzenie\n",
        "#obraz potrzebny do odnalezienia gałki ocznej\n",
        "kernel = np.array([[-1, -1, -1], [-1, 9, -1], [-1, -1, -1]]) \n",
        "gray_to_find_circle = cv2.filter2D(gray_to_find_circle, -1, kernel) \n",
        "show_image(gray_to_find_circle, title=\"filter\")\n",
        "\n",
        "\n",
        "#obraz na którym będziemy dalej pracować\n",
        "'''image = cv2.filter2D(image, -1, kernel) \n",
        "image = cv2.filter2D(image, -1, kernel) \n",
        "show_image(image, title=\"filter\")'''"
      ],
      "execution_count": 6,
      "outputs": [
        {
          "output_type": "display_data",
          "data": {
            "image/png": "[encoded data removed]",
            "text/plain": [
              "<PIL.Image.Image image mode=RGB size=200x200 at 0x7F18BB800748>"
            ]
          },
          "metadata": {
            "tags": []
          }
        },
        {
          "output_type": "display_data",
          "data": {
            "image/png": "[encoded data removed]",
            "text/plain": [
              "<PIL.Image.Image image mode=L size=200x200 at 0x7F18BB800828>"
            ]
          },
          "metadata": {
            "tags": []
          }
        },
        {
          "output_type": "display_data",
          "data": {
            "image/png": "[encoded data removed]",
            "text/plain": [
              "<PIL.Image.Image image mode=L size=200x200 at 0x7F18BAFE2F98>"
            ]
          },
          "metadata": {
            "tags": []
          }
        },
        {
          "output_type": "display_data",
          "data": {
            "image/png": "[encoded data removed]",
            "text/plain": [
              "<PIL.Image.Image image mode=L size=200x200 at 0x7F18BAFE2F98>"
            ]
          },
          "metadata": {
            "tags": []
          }
        },
        {
          "output_type": "display_data",
          "data": {
            "image/png": "[encoded data removed]",
            "text/plain": [
              "<PIL.Image.Image image mode=L size=200x200 at 0x7F18BAFE2FD0>"
            ]
          },
          "metadata": {
            "tags": []
          }
        },
        {
          "output_type": "display_data",
          "data": {
            "image/png": "[encoded data removed]",
            "text/plain": [
              "<PIL.Image.Image image mode=L size=200x200 at 0x7F18BAF6EE80>"
            ]
          },
          "metadata": {
            "tags": []
          }
        },
        {
          "output_type": "execute_result",
          "data": {
            "text/plain": [
              "'image = cv2.filter2D(image, -1, kernel) \\nimage = cv2.filter2D(image, -1, kernel) \\nshow_image(image, title=\"filter\")'"
            ]
          },
          "metadata": {
            "tags": []
          },
          "execution_count": 6
        }
      ]
    },
    {
      "cell_type": "code",
      "metadata": {
        "id": "Pyw_NGNjH3BP",
        "colab_type": "code",
        "outputId": "aacf81f1-4f9e-4d32-c925-d8aec35cfd7c",
        "colab": {
          "base_uri": "https://localhost:8080/",
          "height": 217
        }
      },
      "source": [
        "# szukamy gałki ocznej\n",
        "contours, hierarchy = thresh_show(gray_to_find_circle, 0)\n",
        "\n",
        "contours_approved = []\n",
        "(cx, cy) , radius = (0, 0), 0\n",
        "global approxx\n",
        "maxArea = 0\n",
        "for cnt in contours:\n",
        "    approx = cv2.approxPolyDP(cnt, .03 * cv2.arcLength(cnt, True), True)\n",
        "    if len(approx) >= 7:\n",
        "        area = cv2.contourArea(cnt)\n",
        "        (cx, cy), radius = cv2.minEnclosingCircle(cnt)\n",
        "        circleArea = radius * radius * np.pi\n",
        "        if maxArea<area:\n",
        "            contours_approved = []\n",
        "            maxArea = area\n",
        "            contours_approved.append(cnt)\n",
        "            approxx = approx\n",
        "\n",
        "# wiodący obraz z konturami gałki ocznej i wypełnieniem\n",
        "cv2.drawContours(image, contours_approved, -1, (255, 0, 0), 3) \n",
        "show_image(image, title=\"wiodacy obraz z konturami galki ocznej\")"
      ],
      "execution_count": 7,
      "outputs": [
        {
          "output_type": "display_data",
          "data": {
            "image/png": "[encoded data removed]",
            "text/plain": [
              "<PIL.Image.Image image mode=L size=200x200 at 0x7F18BB85C550>"
            ]
          },
          "metadata": {
            "tags": []
          }
        }
      ]
    },
    {
      "cell_type": "code",
      "metadata": {
        "id": "9gD3GNAeH3BS",
        "colab_type": "code",
        "outputId": "9630ac7b-8a7c-4547-cd33-7a16d0b69c48",
        "colab": {
          "base_uri": "https://localhost:8080/",
          "height": 217
        }
      },
      "source": [
        "rgb = cv2.cvtColor(image, cv2.COLOR_GRAY2RGB)\n",
        "\n",
        "fill_color = [255, 255, 255]\n",
        "mask_value = 255 \n",
        "\n",
        "stencil  = np.zeros(rgb.shape[:-1]).astype(np.uint8)\n",
        "cv2.fillPoly(stencil, contours_approved, mask_value)\n",
        "\n",
        "sel      = stencil != mask_value # select everything that is not mask_value\n",
        "rgb[sel] = fill_color            # and fill it with fill_color\n",
        "\n",
        "show_image(rgb, title=\"wiodacy obraz z konturami galki ocznej i wypelnieniem\" )"
      ],
      "execution_count": 8,
      "outputs": [
        {
          "output_type": "display_data",
          "data": {
            "image/png": "[encoded data removed]",
            "text/plain": [
              "<PIL.Image.Image image mode=RGB size=200x200 at 0x7F18BB8002E8>"
            ]
          },
          "metadata": {
            "tags": []
          }
        }
      ]
    },
    {
      "cell_type": "markdown",
      "metadata": {
        "id": "SOje5wufH3BV",
        "colab_type": "text"
      },
      "source": [
        "## Właściwe przetworzenie obrazu"
      ]
    },
    {
      "cell_type": "code",
      "metadata": {
        "id": "rx1t-4AWH3BV",
        "colab_type": "code",
        "colab": {}
      },
      "source": [
        "def nothing(x):\n",
        "    pass\n",
        "\n",
        "def trackbar_thresholds(image):\n",
        "    cv2.namedWindow('myImage')\n",
        "\n",
        "    cv2.createTrackbar('threshold1', 'myImage', 0, 255, nothing)\n",
        "    cv2.createTrackbar('threshold2', 'myImage', 0, 255, nothing)\n",
        "\n",
        "    \n",
        "    image2 = image\n",
        "\n",
        "    while(1):\n",
        "        cv2.imshow('myImage', image2)\n",
        "        k = cv2.waitKey(1) & 0xFF\n",
        "        if k == 27:\n",
        "            break\n",
        "        # get current positions of four trackbars\n",
        "        th1 = cv2.getTrackbarPos('threshold1', 'myImage')\n",
        "        th2 = cv2.getTrackbarPos('threshold2', 'myImage')\n",
        "        # canny\n",
        "        image2 = cv2.Canny(image, th1, th2)\n",
        "        \n",
        "    cv2.destroyAllWindows()"
      ],
      "execution_count": 0,
      "outputs": []
    },
    {
      "cell_type": "code",
      "metadata": {
        "id": "cfdp5zf9H3BX",
        "colab_type": "code",
        "colab": {}
      },
      "source": [
        "image = cv2.cvtColor(rgb, cv2.COLOR_BGR2GRAY)"
      ],
      "execution_count": 0,
      "outputs": []
    },
    {
      "cell_type": "code",
      "metadata": {
        "id": "dB4QycnXH3Ba",
        "colab_type": "code",
        "colab": {}
      },
      "source": [
        "def threshold(img, threshpoint):\n",
        "    return np.array([[1 if x >= threshpoint else 0 for x in y] for y in img])"
      ],
      "execution_count": 0,
      "outputs": []
    },
    {
      "cell_type": "code",
      "metadata": {
        "id": "U_uC8OrVH3Bc",
        "colab_type": "code",
        "outputId": "8a3b276b-7420-4534-8483-62e5ed578735",
        "colab": {
          "base_uri": "https://localhost:8080/",
          "height": 235
        }
      },
      "source": [
        "#trackbar_thresholds(image)\n",
        "\n",
        "#image = cv2.Canny(image, 100, 230)\n",
        "# wykrywanie krawędzi\n",
        "#image = frangi(image, black_ridges=True)\n",
        "image_mean = np.mean(image)\n",
        "\n",
        "wspol = 0.7 * image_mean - 10 # 0 - 15\n",
        "print(wspol)\n",
        "\n",
        "# thresholding\n",
        "ret,image2 = cv2.threshold(image,wspol, 255, cv2.THRESH_BINARY)\n",
        "show_image(image2)\n",
        "\n"
      ],
      "execution_count": 12,
      "outputs": [
        {
          "output_type": "stream",
          "text": [
            "63.896795\n"
          ],
          "name": "stdout"
        },
        {
          "output_type": "display_data",
          "data": {
            "image/png": "[encoded data removed]",
            "text/plain": [
              "<PIL.Image.Image image mode=L size=200x200 at 0x7F18B97130F0>"
            ]
          },
          "metadata": {
            "tags": []
          }
        }
      ]
    },
    {
      "cell_type": "markdown",
      "metadata": {
        "id": "Mv1NEW-VH3Bf",
        "colab_type": "text"
      },
      "source": [
        "## Sprawdzenie"
      ]
    },
    {
      "cell_type": "code",
      "metadata": {
        "id": "VC7qNO99H3Bf",
        "colab_type": "code",
        "outputId": "d9dd0021-8d0a-44a3-b6c7-064352ed6901",
        "colab": {
          "base_uri": "https://localhost:8080/",
          "height": 35
        }
      },
      "source": [
        "global odp\n",
        "odp = cv2.imread('/content/drive/My Drive/Colab Notebooks/zdjecia/Image_03R_2ndHO.png')\n",
        "odp = cv2.resize(odp, (image_size, image_size))\n",
        "odp = cv2.cvtColor(odp, cv2.COLOR_BGR2GRAY)\n",
        "ret, odp = cv2.threshold(odp,127, 255, cv2.THRESH_BINARY)\n",
        "odp = cv2.bitwise_not(odp)\n",
        "\n",
        "#show_image(odp)\n",
        "max_val = image_size**2\n",
        "max_val"
      ],
      "execution_count": 13,
      "outputs": [
        {
          "output_type": "execute_result",
          "data": {
            "text/plain": [
              "40000"
            ]
          },
          "metadata": {
            "tags": []
          },
          "execution_count": 13
        }
      ]
    },
    {
      "cell_type": "code",
      "metadata": {
        "id": "kFbdxMcxH3Bj",
        "colab_type": "code",
        "outputId": "c33b58f5-bf69-4858-b644-0d0a3b118975",
        "colab": {
          "base_uri": "https://localhost:8080/",
          "height": 35
        }
      },
      "source": [
        "np.unique(odp)\n",
        "#show_image(odp)"
      ],
      "execution_count": 14,
      "outputs": [
        {
          "output_type": "execute_result",
          "data": {
            "text/plain": [
              "array([  0, 255], dtype=uint8)"
            ]
          },
          "metadata": {
            "tags": []
          },
          "execution_count": 14
        }
      ]
    },
    {
      "cell_type": "code",
      "metadata": {
        "id": "Nxky2JsVH3Bm",
        "colab_type": "code",
        "colab": {}
      },
      "source": [
        "# white == 255 == not vessel\n",
        "# black == 0 == vessel\n",
        "global TP, FP, FN, TN\n",
        "\n",
        "# true-positve (prawdziwie dodatnie)\n",
        "# naczynie uznane jako naczynie\n",
        "def count_TP(actually, result):\n",
        "    i = 0\n",
        "    for odp_, res_ in zip(actually, result):\n",
        "        if (odp_ == 0) and (res_ == 0):\n",
        "            i += 1\n",
        "    return i\n",
        "\n",
        "# false-positive (fałszywie dodatnie)\n",
        "# nie-naczynie uznane jako naczynie\n",
        "def count_FP(actually, result):\n",
        "    \n",
        "    i = 0\n",
        "    for odp_, res_ in zip(actually, result):\n",
        "        if (odp_ == 255) and (res_ == 0):\n",
        "            i += 1\n",
        "    return i\n",
        "\n",
        "# false-negative (fałszywie ujemne)\n",
        "# naczynie uznane jako nie-naczynie\n",
        "def count_FN(actually, result):\n",
        "    i = 0\n",
        "    for odp_, res_ in zip(actually, result):\n",
        "        if (odp_ == 0) and (res_ == 255):\n",
        "            i += 1\n",
        "    return i\n",
        "\n",
        "# true-negative (prawdziwie ujemne)\n",
        "# nie-naczynie uznane jako nie-naczynie\n",
        "def count_TN(actually, result):\n",
        "    i = 0\n",
        "    for odp_, res_ in zip(actually, result):\n",
        "        if (odp_ == 255) and (res_ == 255):\n",
        "            i += 1\n",
        "    return i\n"
      ],
      "execution_count": 0,
      "outputs": []
    },
    {
      "cell_type": "code",
      "metadata": {
        "id": "WHE8iKT2H3Bo",
        "colab_type": "code",
        "outputId": "f2f8b6f6-b6c2-44ad-b3a4-46112bb8278c",
        "colab": {
          "base_uri": "https://localhost:8080/",
          "height": 35
        }
      },
      "source": [
        "TP = count_TP( np.nditer(odp), np.nditer(image2))\n",
        "print(\"TP = \" + str(TP/max_val))"
      ],
      "execution_count": 16,
      "outputs": [
        {
          "output_type": "stream",
          "text": [
            "TP = 0.050025\n"
          ],
          "name": "stdout"
        }
      ]
    },
    {
      "cell_type": "code",
      "metadata": {
        "id": "sOzy6GEKH3Bq",
        "colab_type": "code",
        "outputId": "3ea533ef-15d5-4808-d4a6-aff54b50077a",
        "colab": {
          "base_uri": "https://localhost:8080/",
          "height": 35
        }
      },
      "source": [
        "FP = count_FP( np.nditer(odp), np.nditer(image2))\n",
        "print(\"FP = \" + str(FP/max_val))"
      ],
      "execution_count": 17,
      "outputs": [
        {
          "output_type": "stream",
          "text": [
            "FP = 0.5113\n"
          ],
          "name": "stdout"
        }
      ]
    },
    {
      "cell_type": "code",
      "metadata": {
        "id": "S9uKZmsHH3Bt",
        "colab_type": "code",
        "outputId": "dc963b33-f8cb-476e-a9d9-da3d085066bb",
        "colab": {
          "base_uri": "https://localhost:8080/",
          "height": 35
        }
      },
      "source": [
        "FN = count_FN( np.nditer(odp), np.nditer(image2))\n",
        "print(\"FN = \" + str(FN/max_val))"
      ],
      "execution_count": 18,
      "outputs": [
        {
          "output_type": "stream",
          "text": [
            "FN = 0.010225\n"
          ],
          "name": "stdout"
        }
      ]
    },
    {
      "cell_type": "code",
      "metadata": {
        "id": "3tH_WYAkH3Bv",
        "colab_type": "code",
        "outputId": "375a7fd3-9721-4523-abe3-5fe4e70691e4",
        "colab": {
          "base_uri": "https://localhost:8080/",
          "height": 35
        }
      },
      "source": [
        "TN = count_TN( np.nditer(odp), np.nditer(image2))\n",
        "print(\"TN = \" + str(TN/max_val))"
      ],
      "execution_count": 19,
      "outputs": [
        {
          "output_type": "stream",
          "text": [
            "TN = 0.42845\n"
          ],
          "name": "stdout"
        }
      ]
    },
    {
      "cell_type": "code",
      "metadata": {
        "id": "VSN8JpLMH3By",
        "colab_type": "code",
        "outputId": "aa654de2-81a2-4990-de0c-e406af9c15d2",
        "colab": {
          "base_uri": "https://localhost:8080/",
          "height": 175
        }
      },
      "source": [
        "def confusion_matrix():\n",
        "    names = {\n",
        "        'My Results' : ['Positive', 'Negative', 'Sum'],\n",
        "        'Actually - Positive' : [TP, FN, TP + FN],\n",
        "        'Actually - Negative' : [FP, TN, FP + TN],\n",
        "        'Sum' : [TP + FP, FN + TN, TP + FP + FN + TN]\n",
        "    }\n",
        "    \n",
        "    return pd.DataFrame(names, columns=['My Results', 'Actually - Positive', 'Actually - Negative', 'Sum' ]).set_index('My Results')\n",
        "\n",
        "df_confusion_matrix = confusion_matrix()\n",
        "df_confusion_matrix"
      ],
      "execution_count": 20,
      "outputs": [
        {
          "output_type": "execute_result",
          "data": {
            "text/html": [
              "<div>\n",
              "<style scoped>\n",
              "    .dataframe tbody tr th:only-of-type {\n",
              "        vertical-align: middle;\n",
              "    }\n",
              "\n",
              "    .dataframe tbody tr th {\n",
              "        vertical-align: top;\n",
              "    }\n",
              "\n",
              "    .dataframe thead th {\n",
              "        text-align: right;\n",
              "    }\n",
              "</style>\n",
              "<table border=\"1\" class=\"dataframe\">\n",
              "  <thead>\n",
              "    <tr style=\"text-align: right;\">\n",
              "      <th></th>\n",
              "      <th>Actually - Positive</th>\n",
              "      <th>Actually - Negative</th>\n",
              "      <th>Sum</th>\n",
              "    </tr>\n",
              "    <tr>\n",
              "      <th>My Results</th>\n",
              "      <th></th>\n",
              "      <th></th>\n",
              "      <th></th>\n",
              "    </tr>\n",
              "  </thead>\n",
              "  <tbody>\n",
              "    <tr>\n",
              "      <th>Positive</th>\n",
              "      <td>2001</td>\n",
              "      <td>20452</td>\n",
              "      <td>22453</td>\n",
              "    </tr>\n",
              "    <tr>\n",
              "      <th>Negative</th>\n",
              "      <td>409</td>\n",
              "      <td>17138</td>\n",
              "      <td>17547</td>\n",
              "    </tr>\n",
              "    <tr>\n",
              "      <th>Sum</th>\n",
              "      <td>2410</td>\n",
              "      <td>37590</td>\n",
              "      <td>40000</td>\n",
              "    </tr>\n",
              "  </tbody>\n",
              "</table>\n",
              "</div>"
            ],
            "text/plain": [
              "            Actually - Positive  Actually - Negative    Sum\n",
              "My Results                                                 \n",
              "Positive                   2001                20452  22453\n",
              "Negative                    409                17138  17547\n",
              "Sum                        2410                37590  40000"
            ]
          },
          "metadata": {
            "tags": []
          },
          "execution_count": 20
        }
      ]
    },
    {
      "cell_type": "code",
      "metadata": {
        "id": "p018aKWcH3B5",
        "colab_type": "code",
        "outputId": "523aaeb6-db73-4dff-d946-8d4da914479c",
        "colab": {
          "base_uri": "https://localhost:8080/",
          "height": 35
        }
      },
      "source": [
        "# trafność\n",
        "def count_accuracy():\n",
        "    return (TP + TN)/(TP + TN + FP + FN)\n",
        "count_accuracy()"
      ],
      "execution_count": 21,
      "outputs": [
        {
          "output_type": "execute_result",
          "data": {
            "text/plain": [
              "0.478475"
            ]
          },
          "metadata": {
            "tags": []
          },
          "execution_count": 21
        }
      ]
    },
    {
      "cell_type": "code",
      "metadata": {
        "id": "NPmW5pEXH3B7",
        "colab_type": "code",
        "outputId": "23cf5b49-4f85-416e-d864-2aeb5c62fa29",
        "colab": {
          "base_uri": "https://localhost:8080/",
          "height": 35
        }
      },
      "source": [
        "# czułość\n",
        "def count_sensitivity():\n",
        "    return TP/(TP + FN)\n",
        "count_sensitivity()"
      ],
      "execution_count": 22,
      "outputs": [
        {
          "output_type": "execute_result",
          "data": {
            "text/plain": [
              "0.8302904564315353"
            ]
          },
          "metadata": {
            "tags": []
          },
          "execution_count": 22
        }
      ]
    },
    {
      "cell_type": "code",
      "metadata": {
        "id": "_dX5uZoXH3B9",
        "colab_type": "code",
        "outputId": "e11dab4d-b1f5-42ca-c1ea-152b6834ec47",
        "colab": {
          "base_uri": "https://localhost:8080/",
          "height": 35
        }
      },
      "source": [
        "# swoistość\n",
        "def count_specificity():\n",
        "    return TN/(FP + TN)\n",
        "count_specificity()"
      ],
      "execution_count": 23,
      "outputs": [
        {
          "output_type": "execute_result",
          "data": {
            "text/plain": [
              "0.45591912742750734"
            ]
          },
          "metadata": {
            "tags": []
          },
          "execution_count": 23
        }
      ]
    },
    {
      "cell_type": "markdown",
      "metadata": {
        "id": "Ga4XqRxpH3B_",
        "colab_type": "text"
      },
      "source": [
        "# Część na 5.0"
      ]
    },
    {
      "cell_type": "code",
      "metadata": {
        "scrolled": true,
        "id": "gs2oyt2gH3CA",
        "colab_type": "code",
        "outputId": "83b9f7bc-86bb-40e7-fe2e-1d6922c774d4",
        "colab": {
          "base_uri": "https://localhost:8080/",
          "height": 217
        }
      },
      "source": [
        "show_image(image)"
      ],
      "execution_count": 24,
      "outputs": [
        {
          "output_type": "display_data",
          "data": {
            "image/png": "[encoded data removed]",
            "text/plain": [
              "<PIL.Image.Image image mode=L size=200x200 at 0x7F18BB85CC88>"
            ]
          },
          "metadata": {
            "tags": []
          }
        }
      ]
    },
    {
      "cell_type": "code",
      "metadata": {
        "id": "T_6O546yH3CC",
        "colab_type": "code",
        "outputId": "3a9ab558-1299-45c5-86db-200ad5b3d179",
        "colab": {
          "base_uri": "https://localhost:8080/",
          "height": 49
        }
      },
      "source": [
        "column_names = [\"X\", \"Y\", \"Pixel value\", \"Mean for square\", \"Max value for square\", \"Min value for square\", \"Variance\", \n",
        "               \"Third central moment\", #\"Image moment\", \n",
        "                \"Right value\" ]\n",
        "\n",
        "global df\n",
        "df = pd.DataFrame(columns = column_names)\n",
        "df"
      ],
      "execution_count": 70,
      "outputs": [
        {
          "output_type": "execute_result",
          "data": {
            "text/html": [
              "<div>\n",
              "<style scoped>\n",
              "    .dataframe tbody tr th:only-of-type {\n",
              "        vertical-align: middle;\n",
              "    }\n",
              "\n",
              "    .dataframe tbody tr th {\n",
              "        vertical-align: top;\n",
              "    }\n",
              "\n",
              "    .dataframe thead th {\n",
              "        text-align: right;\n",
              "    }\n",
              "</style>\n",
              "<table border=\"1\" class=\"dataframe\">\n",
              "  <thead>\n",
              "    <tr style=\"text-align: right;\">\n",
              "      <th></th>\n",
              "      <th>X</th>\n",
              "      <th>Y</th>\n",
              "      <th>Pixel value</th>\n",
              "      <th>Mean for square</th>\n",
              "      <th>Max value for square</th>\n",
              "      <th>Min value for square</th>\n",
              "      <th>Variance</th>\n",
              "      <th>Third central moment</th>\n",
              "      <th>Right value</th>\n",
              "    </tr>\n",
              "  </thead>\n",
              "  <tbody>\n",
              "  </tbody>\n",
              "</table>\n",
              "</div>"
            ],
            "text/plain": [
              "Empty DataFrame\n",
              "Columns: [X, Y, Pixel value, Mean for square, Max value for square, Min value for square, Variance, Third central moment, Right value]\n",
              "Index: []"
            ]
          },
          "metadata": {
            "tags": []
          },
          "execution_count": 70
        }
      ]
    },
    {
      "cell_type": "code",
      "metadata": {
        "id": "3nvI5rYOH3CF",
        "colab_type": "code",
        "colab": {}
      },
      "source": [
        "def workForThisSquare(index, firstCol, firstRow):\n",
        "    lastRow = firstRow + 5\n",
        "    lastCol = firstCol + 5\n",
        "    \n",
        "    X = firstCol + 2\n",
        "    Y = firstRow + 2\n",
        "    PixelValue = image[X, Y]\n",
        "    \n",
        "    smallArray = image[firstRow:lastRow, firstCol:lastCol]\n",
        "    \n",
        "    MeanForSquare = np.mean(smallArray)\n",
        "    MaxValueForSquare = np.max(smallArray)\n",
        "    MinValueForSquare = np.min(smallArray)\n",
        "    Variance = np.var(smallArray)\n",
        "    ThirdCentralMoment = moment(smallArray, moment = 3)[0]\n",
        "    \n",
        "    RightValue = 0 if odp[X, Y] == 255 else 1\n",
        "    \n",
        "    \n",
        "    df.loc[index] = [X, Y, PixelValue, MeanForSquare, MaxValueForSquare, \n",
        "                     MinValueForSquare, Variance, ThirdCentralMoment,RightValue]\n",
        "    \n"
      ],
      "execution_count": 0,
      "outputs": []
    },
    {
      "cell_type": "code",
      "metadata": {
        "id": "2SZVdTCDkzXg",
        "colab_type": "code",
        "colab": {
          "base_uri": "https://localhost:8080/",
          "height": 55
        },
        "outputId": "5fc13062-e297-4500-8dae-d2a6b7ec4d63"
      },
      "source": [
        "\"\"\"last = 10\n",
        "\n",
        "for c in range(0, last):\n",
        "  for r in range(0, last):\n",
        "    if((c>1) and (c<(last-2)) and (r>1) and (r<(last-2))):\n",
        "      pass\n",
        "    else:\n",
        "      print(c, r)\"\"\""
      ],
      "execution_count": 72,
      "outputs": [
        {
          "output_type": "execute_result",
          "data": {
            "text/plain": [
              "'last = 10\\n\\nfor c in range(0, last):\\n  for r in range(0, last):\\n    if((c>1) and (c<(last-2)) and (r>1) and (r<(last-2))):\\n      pass\\n    else:\\n      print(c, r)'"
            ]
          },
          "metadata": {
            "tags": []
          },
          "execution_count": 72
        }
      ]
    },
    {
      "cell_type": "code",
      "metadata": {
        "id": "CpM6XhxhH3CH",
        "colab_type": "code",
        "colab": {}
      },
      "source": [
        "cols = image.shape[1]\n",
        "rows = image.shape[0]\n",
        "\n",
        "i = 0\n",
        "\n",
        "for c in range(0, cols - 4):\n",
        "    for r in range(0, rows - 4):\n",
        "        workForThisSquare(i, c, r)\n",
        "        i += 1\n",
        "        \n",
        "for c in range(0, cols):\n",
        "  for r in range(0, rows):\n",
        "    if((c>1) and (c<(cols-2)) and (r>1) and (r<(rows-2))):\n",
        "      pass\n",
        "    else:\n",
        "      RightValue = 0 if odp[c, r] == 255 else 1\n",
        "      df.loc[i] = [c, r, image[c, r], 255, 255, 255, 0.0, 0.0,RightValue]\n",
        "      i += 1\n"
      ],
      "execution_count": 0,
      "outputs": []
    },
    {
      "cell_type": "code",
      "metadata": {
        "id": "7xrJZfpGH3CJ",
        "colab_type": "code",
        "outputId": "e5966266-7db2-4b22-a394-478cb08c59db",
        "colab": {
          "base_uri": "https://localhost:8080/",
          "height": 424
        }
      },
      "source": [
        "df"
      ],
      "execution_count": 74,
      "outputs": [
        {
          "output_type": "execute_result",
          "data": {
            "text/html": [
              "<div>\n",
              "<style scoped>\n",
              "    .dataframe tbody tr th:only-of-type {\n",
              "        vertical-align: middle;\n",
              "    }\n",
              "\n",
              "    .dataframe tbody tr th {\n",
              "        vertical-align: top;\n",
              "    }\n",
              "\n",
              "    .dataframe thead th {\n",
              "        text-align: right;\n",
              "    }\n",
              "</style>\n",
              "<table border=\"1\" class=\"dataframe\">\n",
              "  <thead>\n",
              "    <tr style=\"text-align: right;\">\n",
              "      <th></th>\n",
              "      <th>X</th>\n",
              "      <th>Y</th>\n",
              "      <th>Pixel value</th>\n",
              "      <th>Mean for square</th>\n",
              "      <th>Max value for square</th>\n",
              "      <th>Min value for square</th>\n",
              "      <th>Variance</th>\n",
              "      <th>Third central moment</th>\n",
              "      <th>Right value</th>\n",
              "    </tr>\n",
              "  </thead>\n",
              "  <tbody>\n",
              "    <tr>\n",
              "      <th>0</th>\n",
              "      <td>2.0</td>\n",
              "      <td>2.0</td>\n",
              "      <td>255.0</td>\n",
              "      <td>255.0</td>\n",
              "      <td>255.0</td>\n",
              "      <td>255.0</td>\n",
              "      <td>0.0</td>\n",
              "      <td>0.0</td>\n",
              "      <td>0.0</td>\n",
              "    </tr>\n",
              "    <tr>\n",
              "      <th>1</th>\n",
              "      <td>2.0</td>\n",
              "      <td>3.0</td>\n",
              "      <td>255.0</td>\n",
              "      <td>255.0</td>\n",
              "      <td>255.0</td>\n",
              "      <td>255.0</td>\n",
              "      <td>0.0</td>\n",
              "      <td>0.0</td>\n",
              "      <td>0.0</td>\n",
              "    </tr>\n",
              "    <tr>\n",
              "      <th>2</th>\n",
              "      <td>2.0</td>\n",
              "      <td>4.0</td>\n",
              "      <td>255.0</td>\n",
              "      <td>255.0</td>\n",
              "      <td>255.0</td>\n",
              "      <td>255.0</td>\n",
              "      <td>0.0</td>\n",
              "      <td>0.0</td>\n",
              "      <td>0.0</td>\n",
              "    </tr>\n",
              "    <tr>\n",
              "      <th>3</th>\n",
              "      <td>2.0</td>\n",
              "      <td>5.0</td>\n",
              "      <td>255.0</td>\n",
              "      <td>255.0</td>\n",
              "      <td>255.0</td>\n",
              "      <td>255.0</td>\n",
              "      <td>0.0</td>\n",
              "      <td>0.0</td>\n",
              "      <td>0.0</td>\n",
              "    </tr>\n",
              "    <tr>\n",
              "      <th>4</th>\n",
              "      <td>2.0</td>\n",
              "      <td>6.0</td>\n",
              "      <td>255.0</td>\n",
              "      <td>255.0</td>\n",
              "      <td>255.0</td>\n",
              "      <td>255.0</td>\n",
              "      <td>0.0</td>\n",
              "      <td>0.0</td>\n",
              "      <td>0.0</td>\n",
              "    </tr>\n",
              "    <tr>\n",
              "      <th>...</th>\n",
              "      <td>...</td>\n",
              "      <td>...</td>\n",
              "      <td>...</td>\n",
              "      <td>...</td>\n",
              "      <td>...</td>\n",
              "      <td>...</td>\n",
              "      <td>...</td>\n",
              "      <td>...</td>\n",
              "      <td>...</td>\n",
              "    </tr>\n",
              "    <tr>\n",
              "      <th>39995</th>\n",
              "      <td>199.0</td>\n",
              "      <td>195.0</td>\n",
              "      <td>255.0</td>\n",
              "      <td>255.0</td>\n",
              "      <td>255.0</td>\n",
              "      <td>255.0</td>\n",
              "      <td>0.0</td>\n",
              "      <td>0.0</td>\n",
              "      <td>0.0</td>\n",
              "    </tr>\n",
              "    <tr>\n",
              "      <th>39996</th>\n",
              "      <td>199.0</td>\n",
              "      <td>196.0</td>\n",
              "      <td>255.0</td>\n",
              "      <td>255.0</td>\n",
              "      <td>255.0</td>\n",
              "      <td>255.0</td>\n",
              "      <td>0.0</td>\n",
              "      <td>0.0</td>\n",
              "      <td>0.0</td>\n",
              "    </tr>\n",
              "    <tr>\n",
              "      <th>39997</th>\n",
              "      <td>199.0</td>\n",
              "      <td>197.0</td>\n",
              "      <td>255.0</td>\n",
              "      <td>255.0</td>\n",
              "      <td>255.0</td>\n",
              "      <td>255.0</td>\n",
              "      <td>0.0</td>\n",
              "      <td>0.0</td>\n",
              "      <td>0.0</td>\n",
              "    </tr>\n",
              "    <tr>\n",
              "      <th>39998</th>\n",
              "      <td>199.0</td>\n",
              "      <td>198.0</td>\n",
              "      <td>255.0</td>\n",
              "      <td>255.0</td>\n",
              "      <td>255.0</td>\n",
              "      <td>255.0</td>\n",
              "      <td>0.0</td>\n",
              "      <td>0.0</td>\n",
              "      <td>0.0</td>\n",
              "    </tr>\n",
              "    <tr>\n",
              "      <th>39999</th>\n",
              "      <td>199.0</td>\n",
              "      <td>199.0</td>\n",
              "      <td>255.0</td>\n",
              "      <td>255.0</td>\n",
              "      <td>255.0</td>\n",
              "      <td>255.0</td>\n",
              "      <td>0.0</td>\n",
              "      <td>0.0</td>\n",
              "      <td>0.0</td>\n",
              "    </tr>\n",
              "  </tbody>\n",
              "</table>\n",
              "<p>40000 rows × 9 columns</p>\n",
              "</div>"
            ],
            "text/plain": [
              "           X      Y  Pixel value  ...  Variance  Third central moment  Right value\n",
              "0        2.0    2.0        255.0  ...       0.0                   0.0          0.0\n",
              "1        2.0    3.0        255.0  ...       0.0                   0.0          0.0\n",
              "2        2.0    4.0        255.0  ...       0.0                   0.0          0.0\n",
              "3        2.0    5.0        255.0  ...       0.0                   0.0          0.0\n",
              "4        2.0    6.0        255.0  ...       0.0                   0.0          0.0\n",
              "...      ...    ...          ...  ...       ...                   ...          ...\n",
              "39995  199.0  195.0        255.0  ...       0.0                   0.0          0.0\n",
              "39996  199.0  196.0        255.0  ...       0.0                   0.0          0.0\n",
              "39997  199.0  197.0        255.0  ...       0.0                   0.0          0.0\n",
              "39998  199.0  198.0        255.0  ...       0.0                   0.0          0.0\n",
              "39999  199.0  199.0        255.0  ...       0.0                   0.0          0.0\n",
              "\n",
              "[40000 rows x 9 columns]"
            ]
          },
          "metadata": {
            "tags": []
          },
          "execution_count": 74
        }
      ]
    },
    {
      "cell_type": "code",
      "metadata": {
        "id": "imJIoC9Tm8Y9",
        "colab_type": "code",
        "outputId": "c4667f3b-9b5b-4456-da6a-f6c4fe8cb64c",
        "colab": {
          "base_uri": "https://localhost:8080/",
          "height": 677
        }
      },
      "source": [
        "# some data\n",
        "df[df['X']==100].head(20)"
      ],
      "execution_count": 0,
      "outputs": [
        {
          "output_type": "execute_result",
          "data": {
            "text/html": [
              "<div>\n",
              "<style scoped>\n",
              "    .dataframe tbody tr th:only-of-type {\n",
              "        vertical-align: middle;\n",
              "    }\n",
              "\n",
              "    .dataframe tbody tr th {\n",
              "        vertical-align: top;\n",
              "    }\n",
              "\n",
              "    .dataframe thead th {\n",
              "        text-align: right;\n",
              "    }\n",
              "</style>\n",
              "<table border=\"1\" class=\"dataframe\">\n",
              "  <thead>\n",
              "    <tr style=\"text-align: right;\">\n",
              "      <th></th>\n",
              "      <th>X</th>\n",
              "      <th>Y</th>\n",
              "      <th>Pixel value</th>\n",
              "      <th>Mean for square</th>\n",
              "      <th>Max value for square</th>\n",
              "      <th>Min value for square</th>\n",
              "      <th>Variance</th>\n",
              "      <th>Third central moment</th>\n",
              "      <th>Right value</th>\n",
              "    </tr>\n",
              "  </thead>\n",
              "  <tbody>\n",
              "    <tr>\n",
              "      <th>19208</th>\n",
              "      <td>100.0</td>\n",
              "      <td>2.0</td>\n",
              "      <td>255.0</td>\n",
              "      <td>255.0</td>\n",
              "      <td>255.0</td>\n",
              "      <td>255.0</td>\n",
              "      <td>0.00</td>\n",
              "      <td>0.0</td>\n",
              "      <td>0.0</td>\n",
              "    </tr>\n",
              "    <tr>\n",
              "      <th>19209</th>\n",
              "      <td>100.0</td>\n",
              "      <td>3.0</td>\n",
              "      <td>255.0</td>\n",
              "      <td>255.0</td>\n",
              "      <td>255.0</td>\n",
              "      <td>255.0</td>\n",
              "      <td>0.00</td>\n",
              "      <td>0.0</td>\n",
              "      <td>0.0</td>\n",
              "    </tr>\n",
              "    <tr>\n",
              "      <th>19210</th>\n",
              "      <td>100.0</td>\n",
              "      <td>4.0</td>\n",
              "      <td>255.0</td>\n",
              "      <td>244.8</td>\n",
              "      <td>255.0</td>\n",
              "      <td>0.0</td>\n",
              "      <td>2496.96</td>\n",
              "      <td>0.0</td>\n",
              "      <td>0.0</td>\n",
              "    </tr>\n",
              "    <tr>\n",
              "      <th>19211</th>\n",
              "      <td>100.0</td>\n",
              "      <td>5.0</td>\n",
              "      <td>255.0</td>\n",
              "      <td>193.8</td>\n",
              "      <td>255.0</td>\n",
              "      <td>0.0</td>\n",
              "      <td>11860.56</td>\n",
              "      <td>-1591812.0</td>\n",
              "      <td>0.0</td>\n",
              "    </tr>\n",
              "    <tr>\n",
              "      <th>19212</th>\n",
              "      <td>100.0</td>\n",
              "      <td>6.0</td>\n",
              "      <td>255.0</td>\n",
              "      <td>142.8</td>\n",
              "      <td>255.0</td>\n",
              "      <td>0.0</td>\n",
              "      <td>16022.16</td>\n",
              "      <td>-795906.0</td>\n",
              "      <td>0.0</td>\n",
              "    </tr>\n",
              "    <tr>\n",
              "      <th>19213</th>\n",
              "      <td>100.0</td>\n",
              "      <td>7.0</td>\n",
              "      <td>255.0</td>\n",
              "      <td>91.8</td>\n",
              "      <td>255.0</td>\n",
              "      <td>0.0</td>\n",
              "      <td>14981.76</td>\n",
              "      <td>795906.0</td>\n",
              "      <td>0.0</td>\n",
              "    </tr>\n",
              "    <tr>\n",
              "      <th>19214</th>\n",
              "      <td>100.0</td>\n",
              "      <td>8.0</td>\n",
              "      <td>255.0</td>\n",
              "      <td>40.8</td>\n",
              "      <td>255.0</td>\n",
              "      <td>0.0</td>\n",
              "      <td>8739.36</td>\n",
              "      <td>1591812.0</td>\n",
              "      <td>0.0</td>\n",
              "    </tr>\n",
              "    <tr>\n",
              "      <th>19215</th>\n",
              "      <td>100.0</td>\n",
              "      <td>9.0</td>\n",
              "      <td>255.0</td>\n",
              "      <td>0.0</td>\n",
              "      <td>0.0</td>\n",
              "      <td>0.0</td>\n",
              "      <td>0.00</td>\n",
              "      <td>0.0</td>\n",
              "      <td>0.0</td>\n",
              "    </tr>\n",
              "    <tr>\n",
              "      <th>19216</th>\n",
              "      <td>100.0</td>\n",
              "      <td>10.0</td>\n",
              "      <td>55.0</td>\n",
              "      <td>0.0</td>\n",
              "      <td>0.0</td>\n",
              "      <td>0.0</td>\n",
              "      <td>0.00</td>\n",
              "      <td>0.0</td>\n",
              "      <td>0.0</td>\n",
              "    </tr>\n",
              "    <tr>\n",
              "      <th>19217</th>\n",
              "      <td>100.0</td>\n",
              "      <td>11.0</td>\n",
              "      <td>31.0</td>\n",
              "      <td>0.0</td>\n",
              "      <td>0.0</td>\n",
              "      <td>0.0</td>\n",
              "      <td>0.00</td>\n",
              "      <td>0.0</td>\n",
              "      <td>0.0</td>\n",
              "    </tr>\n",
              "    <tr>\n",
              "      <th>19218</th>\n",
              "      <td>100.0</td>\n",
              "      <td>12.0</td>\n",
              "      <td>6.0</td>\n",
              "      <td>0.0</td>\n",
              "      <td>0.0</td>\n",
              "      <td>0.0</td>\n",
              "      <td>0.00</td>\n",
              "      <td>0.0</td>\n",
              "      <td>0.0</td>\n",
              "    </tr>\n",
              "    <tr>\n",
              "      <th>19219</th>\n",
              "      <td>100.0</td>\n",
              "      <td>13.0</td>\n",
              "      <td>4.0</td>\n",
              "      <td>0.0</td>\n",
              "      <td>0.0</td>\n",
              "      <td>0.0</td>\n",
              "      <td>0.00</td>\n",
              "      <td>0.0</td>\n",
              "      <td>0.0</td>\n",
              "    </tr>\n",
              "    <tr>\n",
              "      <th>19220</th>\n",
              "      <td>100.0</td>\n",
              "      <td>14.0</td>\n",
              "      <td>2.0</td>\n",
              "      <td>0.0</td>\n",
              "      <td>0.0</td>\n",
              "      <td>0.0</td>\n",
              "      <td>0.00</td>\n",
              "      <td>0.0</td>\n",
              "      <td>0.0</td>\n",
              "    </tr>\n",
              "    <tr>\n",
              "      <th>19221</th>\n",
              "      <td>100.0</td>\n",
              "      <td>15.0</td>\n",
              "      <td>1.0</td>\n",
              "      <td>0.0</td>\n",
              "      <td>0.0</td>\n",
              "      <td>0.0</td>\n",
              "      <td>0.00</td>\n",
              "      <td>0.0</td>\n",
              "      <td>0.0</td>\n",
              "    </tr>\n",
              "    <tr>\n",
              "      <th>19222</th>\n",
              "      <td>100.0</td>\n",
              "      <td>16.0</td>\n",
              "      <td>0.0</td>\n",
              "      <td>0.0</td>\n",
              "      <td>0.0</td>\n",
              "      <td>0.0</td>\n",
              "      <td>0.00</td>\n",
              "      <td>0.0</td>\n",
              "      <td>0.0</td>\n",
              "    </tr>\n",
              "    <tr>\n",
              "      <th>19223</th>\n",
              "      <td>100.0</td>\n",
              "      <td>17.0</td>\n",
              "      <td>0.0</td>\n",
              "      <td>0.0</td>\n",
              "      <td>0.0</td>\n",
              "      <td>0.0</td>\n",
              "      <td>0.00</td>\n",
              "      <td>0.0</td>\n",
              "      <td>0.0</td>\n",
              "    </tr>\n",
              "    <tr>\n",
              "      <th>19224</th>\n",
              "      <td>100.0</td>\n",
              "      <td>18.0</td>\n",
              "      <td>0.0</td>\n",
              "      <td>0.0</td>\n",
              "      <td>0.0</td>\n",
              "      <td>0.0</td>\n",
              "      <td>0.00</td>\n",
              "      <td>0.0</td>\n",
              "      <td>0.0</td>\n",
              "    </tr>\n",
              "    <tr>\n",
              "      <th>19225</th>\n",
              "      <td>100.0</td>\n",
              "      <td>19.0</td>\n",
              "      <td>0.0</td>\n",
              "      <td>0.0</td>\n",
              "      <td>0.0</td>\n",
              "      <td>0.0</td>\n",
              "      <td>0.00</td>\n",
              "      <td>0.0</td>\n",
              "      <td>0.0</td>\n",
              "    </tr>\n",
              "    <tr>\n",
              "      <th>19226</th>\n",
              "      <td>100.0</td>\n",
              "      <td>20.0</td>\n",
              "      <td>0.0</td>\n",
              "      <td>0.0</td>\n",
              "      <td>0.0</td>\n",
              "      <td>0.0</td>\n",
              "      <td>0.00</td>\n",
              "      <td>0.0</td>\n",
              "      <td>0.0</td>\n",
              "    </tr>\n",
              "    <tr>\n",
              "      <th>19227</th>\n",
              "      <td>100.0</td>\n",
              "      <td>21.0</td>\n",
              "      <td>0.0</td>\n",
              "      <td>0.0</td>\n",
              "      <td>0.0</td>\n",
              "      <td>0.0</td>\n",
              "      <td>0.00</td>\n",
              "      <td>0.0</td>\n",
              "      <td>0.0</td>\n",
              "    </tr>\n",
              "  </tbody>\n",
              "</table>\n",
              "</div>"
            ],
            "text/plain": [
              "           X     Y  Pixel value  ...  Variance  Third central moment  Right value\n",
              "19208  100.0   2.0        255.0  ...      0.00                   0.0          0.0\n",
              "19209  100.0   3.0        255.0  ...      0.00                   0.0          0.0\n",
              "19210  100.0   4.0        255.0  ...   2496.96                   0.0          0.0\n",
              "19211  100.0   5.0        255.0  ...  11860.56            -1591812.0          0.0\n",
              "19212  100.0   6.0        255.0  ...  16022.16             -795906.0          0.0\n",
              "19213  100.0   7.0        255.0  ...  14981.76              795906.0          0.0\n",
              "19214  100.0   8.0        255.0  ...   8739.36             1591812.0          0.0\n",
              "19215  100.0   9.0        255.0  ...      0.00                   0.0          0.0\n",
              "19216  100.0  10.0         55.0  ...      0.00                   0.0          0.0\n",
              "19217  100.0  11.0         31.0  ...      0.00                   0.0          0.0\n",
              "19218  100.0  12.0          6.0  ...      0.00                   0.0          0.0\n",
              "19219  100.0  13.0          4.0  ...      0.00                   0.0          0.0\n",
              "19220  100.0  14.0          2.0  ...      0.00                   0.0          0.0\n",
              "19221  100.0  15.0          1.0  ...      0.00                   0.0          0.0\n",
              "19222  100.0  16.0          0.0  ...      0.00                   0.0          0.0\n",
              "19223  100.0  17.0          0.0  ...      0.00                   0.0          0.0\n",
              "19224  100.0  18.0          0.0  ...      0.00                   0.0          0.0\n",
              "19225  100.0  19.0          0.0  ...      0.00                   0.0          0.0\n",
              "19226  100.0  20.0          0.0  ...      0.00                   0.0          0.0\n",
              "19227  100.0  21.0          0.0  ...      0.00                   0.0          0.0\n",
              "\n",
              "[20 rows x 9 columns]"
            ]
          },
          "metadata": {
            "tags": []
          },
          "execution_count": 83
        }
      ]
    },
    {
      "cell_type": "code",
      "metadata": {
        "id": "YXdhTzdMH3CL",
        "colab_type": "code",
        "outputId": "ea1e56d9-4f56-4ada-a050-7d1240b51109",
        "colab": {
          "base_uri": "https://localhost:8080/",
          "height": 424
        }
      },
      "source": [
        "X_cols = [\"Pixel value\", \"Mean for square\", \"Max value for square\", \"Min value for square\", \"Variance\",\n",
        "               \"Third central moment\"]\n",
        "y_col = [\"Right value\"]\n",
        "\n",
        "X = df[X_cols]\n",
        "y = df[y_col]\n",
        "\n",
        "X"
      ],
      "execution_count": 78,
      "outputs": [
        {
          "output_type": "execute_result",
          "data": {
            "text/html": [
              "<div>\n",
              "<style scoped>\n",
              "    .dataframe tbody tr th:only-of-type {\n",
              "        vertical-align: middle;\n",
              "    }\n",
              "\n",
              "    .dataframe tbody tr th {\n",
              "        vertical-align: top;\n",
              "    }\n",
              "\n",
              "    .dataframe thead th {\n",
              "        text-align: right;\n",
              "    }\n",
              "</style>\n",
              "<table border=\"1\" class=\"dataframe\">\n",
              "  <thead>\n",
              "    <tr style=\"text-align: right;\">\n",
              "      <th></th>\n",
              "      <th>Pixel value</th>\n",
              "      <th>Mean for square</th>\n",
              "      <th>Max value for square</th>\n",
              "      <th>Min value for square</th>\n",
              "      <th>Variance</th>\n",
              "      <th>Third central moment</th>\n",
              "    </tr>\n",
              "  </thead>\n",
              "  <tbody>\n",
              "    <tr>\n",
              "      <th>0</th>\n",
              "      <td>255.0</td>\n",
              "      <td>255.0</td>\n",
              "      <td>255.0</td>\n",
              "      <td>255.0</td>\n",
              "      <td>0.0</td>\n",
              "      <td>0.0</td>\n",
              "    </tr>\n",
              "    <tr>\n",
              "      <th>1</th>\n",
              "      <td>255.0</td>\n",
              "      <td>255.0</td>\n",
              "      <td>255.0</td>\n",
              "      <td>255.0</td>\n",
              "      <td>0.0</td>\n",
              "      <td>0.0</td>\n",
              "    </tr>\n",
              "    <tr>\n",
              "      <th>2</th>\n",
              "      <td>255.0</td>\n",
              "      <td>255.0</td>\n",
              "      <td>255.0</td>\n",
              "      <td>255.0</td>\n",
              "      <td>0.0</td>\n",
              "      <td>0.0</td>\n",
              "    </tr>\n",
              "    <tr>\n",
              "      <th>3</th>\n",
              "      <td>255.0</td>\n",
              "      <td>255.0</td>\n",
              "      <td>255.0</td>\n",
              "      <td>255.0</td>\n",
              "      <td>0.0</td>\n",
              "      <td>0.0</td>\n",
              "    </tr>\n",
              "    <tr>\n",
              "      <th>4</th>\n",
              "      <td>255.0</td>\n",
              "      <td>255.0</td>\n",
              "      <td>255.0</td>\n",
              "      <td>255.0</td>\n",
              "      <td>0.0</td>\n",
              "      <td>0.0</td>\n",
              "    </tr>\n",
              "    <tr>\n",
              "      <th>...</th>\n",
              "      <td>...</td>\n",
              "      <td>...</td>\n",
              "      <td>...</td>\n",
              "      <td>...</td>\n",
              "      <td>...</td>\n",
              "      <td>...</td>\n",
              "    </tr>\n",
              "    <tr>\n",
              "      <th>39995</th>\n",
              "      <td>255.0</td>\n",
              "      <td>255.0</td>\n",
              "      <td>255.0</td>\n",
              "      <td>255.0</td>\n",
              "      <td>0.0</td>\n",
              "      <td>0.0</td>\n",
              "    </tr>\n",
              "    <tr>\n",
              "      <th>39996</th>\n",
              "      <td>255.0</td>\n",
              "      <td>255.0</td>\n",
              "      <td>255.0</td>\n",
              "      <td>255.0</td>\n",
              "      <td>0.0</td>\n",
              "      <td>0.0</td>\n",
              "    </tr>\n",
              "    <tr>\n",
              "      <th>39997</th>\n",
              "      <td>255.0</td>\n",
              "      <td>255.0</td>\n",
              "      <td>255.0</td>\n",
              "      <td>255.0</td>\n",
              "      <td>0.0</td>\n",
              "      <td>0.0</td>\n",
              "    </tr>\n",
              "    <tr>\n",
              "      <th>39998</th>\n",
              "      <td>255.0</td>\n",
              "      <td>255.0</td>\n",
              "      <td>255.0</td>\n",
              "      <td>255.0</td>\n",
              "      <td>0.0</td>\n",
              "      <td>0.0</td>\n",
              "    </tr>\n",
              "    <tr>\n",
              "      <th>39999</th>\n",
              "      <td>255.0</td>\n",
              "      <td>255.0</td>\n",
              "      <td>255.0</td>\n",
              "      <td>255.0</td>\n",
              "      <td>0.0</td>\n",
              "      <td>0.0</td>\n",
              "    </tr>\n",
              "  </tbody>\n",
              "</table>\n",
              "<p>40000 rows × 6 columns</p>\n",
              "</div>"
            ],
            "text/plain": [
              "       Pixel value  Mean for square  ...  Variance  Third central moment\n",
              "0            255.0            255.0  ...       0.0                   0.0\n",
              "1            255.0            255.0  ...       0.0                   0.0\n",
              "2            255.0            255.0  ...       0.0                   0.0\n",
              "3            255.0            255.0  ...       0.0                   0.0\n",
              "4            255.0            255.0  ...       0.0                   0.0\n",
              "...            ...              ...  ...       ...                   ...\n",
              "39995        255.0            255.0  ...       0.0                   0.0\n",
              "39996        255.0            255.0  ...       0.0                   0.0\n",
              "39997        255.0            255.0  ...       0.0                   0.0\n",
              "39998        255.0            255.0  ...       0.0                   0.0\n",
              "39999        255.0            255.0  ...       0.0                   0.0\n",
              "\n",
              "[40000 rows x 6 columns]"
            ]
          },
          "metadata": {
            "tags": []
          },
          "execution_count": 78
        }
      ]
    },
    {
      "cell_type": "code",
      "metadata": {
        "id": "tO65AIl7H3CN",
        "colab_type": "code",
        "colab": {}
      },
      "source": [
        "input_shape = X.shape[1]\n",
        "\n",
        "def build_model():\n",
        "    return Sequential([\n",
        "        Dense(32, input_shape=(X.shape[1],), activation='relu'),\n",
        "        Dense(64, activation='relu'),\n",
        "        Dropout(0.3),\n",
        "\n",
        "        Dense(128, activation='relu'),\n",
        "        Dense(256, activation='relu'),\n",
        "        Dropout(0.3),\n",
        "\n",
        "        Dense(128, activation='relu'),\n",
        "        Dense(64, activation='relu'),\n",
        "        Dropout(0.3),\n",
        "\n",
        "        Dense(32, activation='relu'),\n",
        "        Dense(1, activation='sigmoid')\n",
        "    ])\n",
        "\n"
      ],
      "execution_count": 0,
      "outputs": []
    },
    {
      "cell_type": "code",
      "metadata": {
        "id": "4-LjYFECH3CP",
        "colab_type": "code",
        "outputId": "c12ea175-c79d-4d17-f27a-1a81587e4e24",
        "colab": {
          "base_uri": "https://localhost:8080/",
          "height": 1000
        }
      },
      "source": [
        "X = np.asarray(X).astype(np.float32)\n",
        "y = np.asarray(y).astype(np.float32)\n",
        "\n",
        "n_split = 5\n",
        "\n",
        "for train_index,test_index in KFold(n_split).split(X):\n",
        "  x_train,x_test=X[train_index],X[test_index]\n",
        "  y_train,y_test=y[train_index],y[test_index]\n",
        "\n",
        "  model = build_model()\n",
        "  opt = tf.keras.optimizers.Adam(lr=0.0001)\n",
        "  model.compile(loss='binary_crossentropy',\n",
        "              optimizer=opt,\n",
        "              metrics=['accuracy'])\n",
        "\n",
        "  my_callbacks = [ EarlyStopping(patience=10, monitor='val_loss', min_delta=0, verbose=1)]\n",
        "  #metrics.confusion_matrix(y_test, y_pred)\n",
        "  model_history = model.fit(x_train, y_train,\n",
        "          epochs=100,\n",
        "          batch_size = 50,validation_split=0.20, callbacks=my_callbacks)\n",
        "  \n",
        "  print('Model evaluation ',model.evaluate(x_test,y_test))"
      ],
      "execution_count": 85,
      "outputs": [
        {
          "output_type": "stream",
          "text": [
            "Epoch 1/100\n",
            "512/512 [==============================] - 2s 3ms/step - loss: 373.2892 - accuracy: 0.8429 - val_loss: 42.8617 - val_accuracy: 0.9787\n",
            "Epoch 2/100\n",
            "512/512 [==============================] - 1s 3ms/step - loss: 110.9744 - accuracy: 0.8717 - val_loss: 16.9790 - val_accuracy: 0.9787\n",
            "Epoch 3/100\n",
            "512/512 [==============================] - 1s 3ms/step - loss: 65.3310 - accuracy: 0.8849 - val_loss: 7.5611 - val_accuracy: 0.9787\n",
            "Epoch 4/100\n",
            "512/512 [==============================] - 1s 3ms/step - loss: 41.2306 - accuracy: 0.8863 - val_loss: 6.2196 - val_accuracy: 0.9787\n",
            "Epoch 5/100\n",
            "512/512 [==============================] - 1s 3ms/step - loss: 27.8815 - accuracy: 0.8868 - val_loss: 4.7974 - val_accuracy: 0.9787\n",
            "Epoch 6/100\n",
            "512/512 [==============================] - 1s 3ms/step - loss: 19.7661 - accuracy: 0.8907 - val_loss: 2.7202 - val_accuracy: 0.9787\n",
            "Epoch 7/100\n",
            "512/512 [==============================] - 1s 3ms/step - loss: 13.2460 - accuracy: 0.8940 - val_loss: 1.0104 - val_accuracy: 0.9787\n",
            "Epoch 8/100\n",
            "512/512 [==============================] - 1s 3ms/step - loss: 9.5905 - accuracy: 0.8932 - val_loss: 0.3024 - val_accuracy: 0.9787\n",
            "Epoch 9/100\n",
            "512/512 [==============================] - 1s 3ms/step - loss: 6.3420 - accuracy: 0.8995 - val_loss: 0.3704 - val_accuracy: 0.9787\n",
            "Epoch 10/100\n",
            "512/512 [==============================] - 1s 3ms/step - loss: 3.2639 - accuracy: 0.9086 - val_loss: 0.1535 - val_accuracy: 0.9787\n",
            "Epoch 11/100\n",
            "512/512 [==============================] - 1s 3ms/step - loss: 1.6390 - accuracy: 0.9119 - val_loss: 0.1153 - val_accuracy: 0.9787\n",
            "Epoch 12/100\n",
            "512/512 [==============================] - 1s 3ms/step - loss: 1.2193 - accuracy: 0.9146 - val_loss: 0.1135 - val_accuracy: 0.9787\n",
            "Epoch 13/100\n",
            "512/512 [==============================] - 1s 3ms/step - loss: 0.7396 - accuracy: 0.9180 - val_loss: 0.1470 - val_accuracy: 0.9787\n",
            "Epoch 14/100\n",
            "512/512 [==============================] - 1s 3ms/step - loss: 0.5081 - accuracy: 0.9205 - val_loss: 0.1077 - val_accuracy: 0.9787\n",
            "Epoch 15/100\n",
            "512/512 [==============================] - 1s 3ms/step - loss: 0.4280 - accuracy: 0.9202 - val_loss: 0.1259 - val_accuracy: 0.9787\n",
            "Epoch 16/100\n",
            "512/512 [==============================] - 1s 3ms/step - loss: 0.3613 - accuracy: 0.9216 - val_loss: 0.1281 - val_accuracy: 0.9787\n",
            "Epoch 17/100\n",
            "512/512 [==============================] - 1s 3ms/step - loss: 0.3614 - accuracy: 0.9223 - val_loss: 0.1116 - val_accuracy: 0.9787\n",
            "Epoch 18/100\n",
            "512/512 [==============================] - 1s 3ms/step - loss: 0.3141 - accuracy: 0.9232 - val_loss: 0.1146 - val_accuracy: 0.9787\n",
            "Epoch 19/100\n",
            "512/512 [==============================] - 1s 3ms/step - loss: 0.3173 - accuracy: 0.9235 - val_loss: 0.1205 - val_accuracy: 0.9787\n",
            "Epoch 20/100\n",
            "512/512 [==============================] - 1s 3ms/step - loss: 0.3420 - accuracy: 0.9229 - val_loss: 0.1238 - val_accuracy: 0.9787\n",
            "Epoch 21/100\n",
            "512/512 [==============================] - 1s 3ms/step - loss: 0.2968 - accuracy: 0.9242 - val_loss: 0.1090 - val_accuracy: 0.9787\n",
            "Epoch 22/100\n",
            "512/512 [==============================] - 1s 3ms/step - loss: 0.3114 - accuracy: 0.9234 - val_loss: 0.1036 - val_accuracy: 0.9787\n",
            "Epoch 23/100\n",
            "512/512 [==============================] - 1s 3ms/step - loss: 0.2660 - accuracy: 0.9245 - val_loss: 0.1064 - val_accuracy: 0.9787\n",
            "Epoch 24/100\n",
            "512/512 [==============================] - 1s 3ms/step - loss: 0.2676 - accuracy: 0.9244 - val_loss: 0.1057 - val_accuracy: 0.9787\n",
            "Epoch 25/100\n",
            "512/512 [==============================] - 1s 3ms/step - loss: 0.2818 - accuracy: 0.9245 - val_loss: 0.1123 - val_accuracy: 0.9787\n",
            "Epoch 26/100\n",
            "512/512 [==============================] - 1s 3ms/step - loss: 0.2596 - accuracy: 0.9246 - val_loss: 0.1084 - val_accuracy: 0.9787\n",
            "Epoch 27/100\n",
            "512/512 [==============================] - 1s 3ms/step - loss: 0.2571 - accuracy: 0.9246 - val_loss: 0.1144 - val_accuracy: 0.9787\n",
            "Epoch 28/100\n",
            "512/512 [==============================] - 1s 3ms/step - loss: 0.2581 - accuracy: 0.9247 - val_loss: 0.1142 - val_accuracy: 0.9787\n",
            "Epoch 29/100\n",
            "512/512 [==============================] - 1s 3ms/step - loss: 0.2611 - accuracy: 0.9246 - val_loss: 0.1167 - val_accuracy: 0.9787\n",
            "Epoch 30/100\n",
            "512/512 [==============================] - 1s 3ms/step - loss: 0.2587 - accuracy: 0.9247 - val_loss: 0.1181 - val_accuracy: 0.9787\n",
            "Epoch 31/100\n",
            "512/512 [==============================] - 1s 3ms/step - loss: 0.2604 - accuracy: 0.9246 - val_loss: 0.1261 - val_accuracy: 0.9787\n",
            "Epoch 32/100\n",
            "512/512 [==============================] - 1s 3ms/step - loss: 0.2564 - accuracy: 0.9247 - val_loss: 0.1339 - val_accuracy: 0.9787\n",
            "Epoch 00032: early stopping\n",
            "250/250 [==============================] - 0s 2ms/step - loss: 0.1473 - accuracy: 0.9566\n",
            "Model evaluation  [0.1473248153924942, 0.9566249847412109]\n",
            "Epoch 1/100\n",
            "512/512 [==============================] - 1s 3ms/step - loss: 239.0135 - accuracy: 0.8227 - val_loss: 24.1266 - val_accuracy: 0.9787\n",
            "Epoch 2/100\n",
            "512/512 [==============================] - 1s 3ms/step - loss: 67.4587 - accuracy: 0.8814 - val_loss: 1.7559 - val_accuracy: 0.9786\n",
            "Epoch 3/100\n",
            "512/512 [==============================] - 1s 3ms/step - loss: 39.1049 - accuracy: 0.8985 - val_loss: 9.2799 - val_accuracy: 0.9577\n",
            "Epoch 4/100\n",
            "512/512 [==============================] - 1s 3ms/step - loss: 29.0461 - accuracy: 0.8968 - val_loss: 1.4880 - val_accuracy: 0.9783\n",
            "Epoch 5/100\n",
            "512/512 [==============================] - 1s 3ms/step - loss: 18.5797 - accuracy: 0.9020 - val_loss: 1.4720 - val_accuracy: 0.9784\n",
            "Epoch 6/100\n",
            "512/512 [==============================] - 1s 3ms/step - loss: 13.2189 - accuracy: 0.9054 - val_loss: 0.7441 - val_accuracy: 0.9787\n",
            "Epoch 7/100\n",
            "512/512 [==============================] - 1s 3ms/step - loss: 8.1693 - accuracy: 0.9117 - val_loss: 0.7516 - val_accuracy: 0.9658\n",
            "Epoch 8/100\n",
            "512/512 [==============================] - 1s 3ms/step - loss: 4.5422 - accuracy: 0.9152 - val_loss: 0.1213 - val_accuracy: 0.9787\n",
            "Epoch 9/100\n",
            "512/512 [==============================] - 1s 3ms/step - loss: 2.3638 - accuracy: 0.9221 - val_loss: 0.1158 - val_accuracy: 0.9787\n",
            "Epoch 10/100\n",
            "512/512 [==============================] - 1s 3ms/step - loss: 1.1499 - accuracy: 0.9300 - val_loss: 0.2002 - val_accuracy: 0.9787\n",
            "Epoch 11/100\n",
            "512/512 [==============================] - 1s 3ms/step - loss: 0.9012 - accuracy: 0.9325 - val_loss: 0.1022 - val_accuracy: 0.9787\n",
            "Epoch 12/100\n",
            "512/512 [==============================] - 1s 3ms/step - loss: 0.5460 - accuracy: 0.9356 - val_loss: 0.1038 - val_accuracy: 0.9787\n",
            "Epoch 13/100\n",
            "512/512 [==============================] - 1s 3ms/step - loss: 0.4459 - accuracy: 0.9370 - val_loss: 0.1090 - val_accuracy: 0.9787\n",
            "Epoch 14/100\n",
            "512/512 [==============================] - 1s 3ms/step - loss: 0.3015 - accuracy: 0.9376 - val_loss: 0.1082 - val_accuracy: 0.9787\n",
            "Epoch 15/100\n",
            "512/512 [==============================] - 2s 3ms/step - loss: 0.3153 - accuracy: 0.9376 - val_loss: 0.1089 - val_accuracy: 0.9787\n",
            "Epoch 16/100\n",
            "512/512 [==============================] - 2s 3ms/step - loss: 0.3059 - accuracy: 0.9383 - val_loss: 0.1039 - val_accuracy: 0.9787\n",
            "Epoch 17/100\n",
            "512/512 [==============================] - 1s 3ms/step - loss: 0.2410 - accuracy: 0.9384 - val_loss: 0.1091 - val_accuracy: 0.9787\n",
            "Epoch 18/100\n",
            "512/512 [==============================] - 2s 3ms/step - loss: 0.2736 - accuracy: 0.9384 - val_loss: 0.1113 - val_accuracy: 0.9787\n",
            "Epoch 19/100\n",
            "512/512 [==============================] - 2s 3ms/step - loss: 0.2250 - accuracy: 0.9389 - val_loss: 0.1191 - val_accuracy: 0.9787\n",
            "Epoch 20/100\n",
            "512/512 [==============================] - 2s 3ms/step - loss: 0.2213 - accuracy: 0.9392 - val_loss: 0.1223 - val_accuracy: 0.9787\n",
            "Epoch 21/100\n",
            "512/512 [==============================] - 1s 3ms/step - loss: 0.2351 - accuracy: 0.9391 - val_loss: 0.1183 - val_accuracy: 0.9787\n",
            "Epoch 00021: early stopping\n",
            "250/250 [==============================] - 0s 2ms/step - loss: 0.2982 - accuracy: 0.9093\n",
            "Model evaluation  [0.29823774099349976, 0.909250020980835]\n",
            "Epoch 1/100\n",
            "512/512 [==============================] - 1s 3ms/step - loss: 169.3969 - accuracy: 0.8635 - val_loss: 4.7493 - val_accuracy: 0.9787\n",
            "Epoch 2/100\n",
            "512/512 [==============================] - 1s 3ms/step - loss: 48.6393 - accuracy: 0.8868 - val_loss: 3.6561 - val_accuracy: 0.9675\n",
            "Epoch 3/100\n",
            "512/512 [==============================] - 1s 3ms/step - loss: 30.7663 - accuracy: 0.8950 - val_loss: 3.2291 - val_accuracy: 0.9675\n",
            "Epoch 4/100\n",
            "512/512 [==============================] - 1s 3ms/step - loss: 16.8349 - accuracy: 0.8995 - val_loss: 1.4876 - val_accuracy: 0.9675\n",
            "Epoch 5/100\n",
            "512/512 [==============================] - 1s 3ms/step - loss: 10.5686 - accuracy: 0.9082 - val_loss: 0.8571 - val_accuracy: 0.9787\n",
            "Epoch 6/100\n",
            "512/512 [==============================] - 1s 3ms/step - loss: 7.9451 - accuracy: 0.9137 - val_loss: 0.8047 - val_accuracy: 0.9675\n",
            "Epoch 7/100\n",
            "512/512 [==============================] - 1s 3ms/step - loss: 5.1173 - accuracy: 0.9177 - val_loss: 0.7634 - val_accuracy: 0.9580\n",
            "Epoch 8/100\n",
            "512/512 [==============================] - 1s 3ms/step - loss: 3.3960 - accuracy: 0.9200 - val_loss: 0.4416 - val_accuracy: 0.9670\n",
            "Epoch 9/100\n",
            "512/512 [==============================] - 1s 3ms/step - loss: 2.3899 - accuracy: 0.9202 - val_loss: 0.4145 - val_accuracy: 0.9787\n",
            "Epoch 10/100\n",
            "512/512 [==============================] - 1s 3ms/step - loss: 1.3646 - accuracy: 0.9246 - val_loss: 0.3846 - val_accuracy: 0.9787\n",
            "Epoch 11/100\n",
            "512/512 [==============================] - 1s 3ms/step - loss: 1.0419 - accuracy: 0.9259 - val_loss: 0.1623 - val_accuracy: 0.9787\n",
            "Epoch 12/100\n",
            "512/512 [==============================] - 1s 3ms/step - loss: 0.6363 - accuracy: 0.9282 - val_loss: 0.0872 - val_accuracy: 0.9787\n",
            "Epoch 13/100\n",
            "512/512 [==============================] - 1s 3ms/step - loss: 0.4267 - accuracy: 0.9300 - val_loss: 0.1103 - val_accuracy: 0.9638\n",
            "Epoch 14/100\n",
            "512/512 [==============================] - 1s 3ms/step - loss: 0.4143 - accuracy: 0.9302 - val_loss: 0.1142 - val_accuracy: 0.9787\n",
            "Epoch 15/100\n",
            "512/512 [==============================] - 1s 3ms/step - loss: 0.3742 - accuracy: 0.9329 - val_loss: 0.1058 - val_accuracy: 0.9787\n",
            "Epoch 16/100\n",
            "512/512 [==============================] - 1s 3ms/step - loss: 0.3282 - accuracy: 0.9314 - val_loss: 0.1392 - val_accuracy: 0.9787\n",
            "Epoch 17/100\n",
            "512/512 [==============================] - 1s 3ms/step - loss: 0.2891 - accuracy: 0.9334 - val_loss: 0.1109 - val_accuracy: 0.9787\n",
            "Epoch 18/100\n",
            "512/512 [==============================] - 1s 3ms/step - loss: 0.2679 - accuracy: 0.9341 - val_loss: 0.1057 - val_accuracy: 0.9787\n",
            "Epoch 19/100\n",
            "512/512 [==============================] - 1s 3ms/step - loss: 0.2506 - accuracy: 0.9346 - val_loss: 0.1103 - val_accuracy: 0.9787\n",
            "Epoch 20/100\n",
            "512/512 [==============================] - 1s 3ms/step - loss: 0.2590 - accuracy: 0.9343 - val_loss: 0.1326 - val_accuracy: 0.9787\n",
            "Epoch 21/100\n",
            "512/512 [==============================] - 1s 3ms/step - loss: 0.2392 - accuracy: 0.9346 - val_loss: 0.1177 - val_accuracy: 0.9787\n",
            "Epoch 22/100\n",
            "512/512 [==============================] - 1s 3ms/step - loss: 0.2275 - accuracy: 0.9349 - val_loss: 0.1221 - val_accuracy: 0.9787\n",
            "Epoch 00022: early stopping\n",
            "250/250 [==============================] - 0s 2ms/step - loss: 0.2696 - accuracy: 0.9219\n",
            "Model evaluation  [0.2696114182472229, 0.921875]\n",
            "Epoch 1/100\n",
            "512/512 [==============================] - 1s 3ms/step - loss: 128.0382 - accuracy: 0.8934 - val_loss: 5.2379 - val_accuracy: 0.9787\n",
            "Epoch 2/100\n",
            "512/512 [==============================] - 1s 3ms/step - loss: 53.1338 - accuracy: 0.9033 - val_loss: 2.0737 - val_accuracy: 0.9787\n",
            "Epoch 3/100\n",
            "512/512 [==============================] - 1s 3ms/step - loss: 32.3201 - accuracy: 0.9037 - val_loss: 1.7025 - val_accuracy: 0.9787\n",
            "Epoch 4/100\n",
            "512/512 [==============================] - 1s 3ms/step - loss: 21.2137 - accuracy: 0.9080 - val_loss: 0.5466 - val_accuracy: 0.9787\n",
            "Epoch 5/100\n",
            "512/512 [==============================] - 1s 3ms/step - loss: 14.3948 - accuracy: 0.9124 - val_loss: 0.8489 - val_accuracy: 0.9675\n",
            "Epoch 6/100\n",
            "512/512 [==============================] - 1s 3ms/step - loss: 9.7841 - accuracy: 0.9098 - val_loss: 0.3467 - val_accuracy: 0.9675\n",
            "Epoch 7/100\n",
            "512/512 [==============================] - 1s 3ms/step - loss: 6.7018 - accuracy: 0.9120 - val_loss: 0.1653 - val_accuracy: 0.9787\n",
            "Epoch 8/100\n",
            "512/512 [==============================] - 1s 3ms/step - loss: 3.6338 - accuracy: 0.9161 - val_loss: 0.2432 - val_accuracy: 0.9787\n",
            "Epoch 9/100\n",
            "512/512 [==============================] - 1s 3ms/step - loss: 1.3579 - accuracy: 0.9207 - val_loss: 0.1309 - val_accuracy: 0.9787\n",
            "Epoch 10/100\n",
            "512/512 [==============================] - 1s 3ms/step - loss: 0.7586 - accuracy: 0.9264 - val_loss: 0.1378 - val_accuracy: 0.9787\n",
            "Epoch 11/100\n",
            "512/512 [==============================] - 1s 3ms/step - loss: 0.5987 - accuracy: 0.9284 - val_loss: 0.1367 - val_accuracy: 0.9787\n",
            "Epoch 12/100\n",
            "512/512 [==============================] - 1s 3ms/step - loss: 0.5096 - accuracy: 0.9292 - val_loss: 0.1425 - val_accuracy: 0.9787\n",
            "Epoch 13/100\n",
            "512/512 [==============================] - 1s 3ms/step - loss: 0.4569 - accuracy: 0.9297 - val_loss: 0.1405 - val_accuracy: 0.9787\n",
            "Epoch 14/100\n",
            "512/512 [==============================] - 1s 3ms/step - loss: 0.3522 - accuracy: 0.9301 - val_loss: 0.1415 - val_accuracy: 0.9787\n",
            "Epoch 15/100\n",
            "512/512 [==============================] - 1s 3ms/step - loss: 0.2652 - accuracy: 0.9306 - val_loss: 0.1436 - val_accuracy: 0.9787\n",
            "Epoch 16/100\n",
            "512/512 [==============================] - 1s 3ms/step - loss: 0.2699 - accuracy: 0.9306 - val_loss: 0.1464 - val_accuracy: 0.9787\n",
            "Epoch 17/100\n",
            "512/512 [==============================] - 1s 3ms/step - loss: 0.2458 - accuracy: 0.9305 - val_loss: 0.1527 - val_accuracy: 0.9787\n",
            "Epoch 18/100\n",
            "512/512 [==============================] - 1s 3ms/step - loss: 0.2436 - accuracy: 0.9305 - val_loss: 0.1614 - val_accuracy: 0.9787\n",
            "Epoch 19/100\n",
            "512/512 [==============================] - 1s 3ms/step - loss: 0.2627 - accuracy: 0.9304 - val_loss: 0.1613 - val_accuracy: 0.9787\n",
            "Epoch 00019: early stopping\n",
            "250/250 [==============================] - 0s 2ms/step - loss: 0.2252 - accuracy: 0.9369\n",
            "Model evaluation  [0.22515270113945007, 0.9368749856948853]\n",
            "Epoch 1/100\n",
            "512/512 [==============================] - 1s 3ms/step - loss: 199.4337 - accuracy: 0.8880 - val_loss: 12.0024 - val_accuracy: 0.9359\n",
            "Epoch 2/100\n",
            "512/512 [==============================] - 1s 3ms/step - loss: 81.2401 - accuracy: 0.8863 - val_loss: 19.3745 - val_accuracy: 0.7964\n",
            "Epoch 3/100\n",
            "512/512 [==============================] - 1s 3ms/step - loss: 48.7184 - accuracy: 0.8884 - val_loss: 2.0946 - val_accuracy: 0.8477\n",
            "Epoch 4/100\n",
            "512/512 [==============================] - 1s 3ms/step - loss: 30.2097 - accuracy: 0.8929 - val_loss: 4.0029 - val_accuracy: 0.9359\n",
            "Epoch 5/100\n",
            "512/512 [==============================] - 1s 3ms/step - loss: 21.6044 - accuracy: 0.8988 - val_loss: 0.6658 - val_accuracy: 0.8788\n",
            "Epoch 6/100\n",
            "512/512 [==============================] - 1s 3ms/step - loss: 14.8886 - accuracy: 0.8982 - val_loss: 0.5245 - val_accuracy: 0.9359\n",
            "Epoch 7/100\n",
            "512/512 [==============================] - 1s 3ms/step - loss: 10.6472 - accuracy: 0.9023 - val_loss: 0.4865 - val_accuracy: 0.9359\n",
            "Epoch 8/100\n",
            "512/512 [==============================] - 1s 3ms/step - loss: 7.1586 - accuracy: 0.8992 - val_loss: 1.1272 - val_accuracy: 0.9359\n",
            "Epoch 9/100\n",
            "512/512 [==============================] - 1s 3ms/step - loss: 4.4143 - accuracy: 0.9052 - val_loss: 0.5554 - val_accuracy: 0.9359\n",
            "Epoch 10/100\n",
            "512/512 [==============================] - 1s 3ms/step - loss: 2.4106 - accuracy: 0.9094 - val_loss: 0.5426 - val_accuracy: 0.9359\n",
            "Epoch 11/100\n",
            "512/512 [==============================] - 1s 3ms/step - loss: 1.5795 - accuracy: 0.9146 - val_loss: 0.3160 - val_accuracy: 0.9359\n",
            "Epoch 12/100\n",
            "512/512 [==============================] - 1s 3ms/step - loss: 0.8523 - accuracy: 0.9193 - val_loss: 0.2832 - val_accuracy: 0.9359\n",
            "Epoch 13/100\n",
            "512/512 [==============================] - 1s 3ms/step - loss: 0.6856 - accuracy: 0.9223 - val_loss: 0.2511 - val_accuracy: 0.9325\n",
            "Epoch 14/100\n",
            "512/512 [==============================] - 1s 3ms/step - loss: 0.5199 - accuracy: 0.9244 - val_loss: 0.2516 - val_accuracy: 0.9359\n",
            "Epoch 15/100\n",
            "512/512 [==============================] - 1s 3ms/step - loss: 0.4052 - accuracy: 0.9254 - val_loss: 0.2419 - val_accuracy: 0.9359\n",
            "Epoch 16/100\n",
            "512/512 [==============================] - 1s 3ms/step - loss: 0.3891 - accuracy: 0.9263 - val_loss: 0.2367 - val_accuracy: 0.9359\n",
            "Epoch 17/100\n",
            "512/512 [==============================] - 1s 3ms/step - loss: 0.4147 - accuracy: 0.9279 - val_loss: 0.2527 - val_accuracy: 0.9359\n",
            "Epoch 18/100\n",
            "512/512 [==============================] - 1s 3ms/step - loss: 0.2775 - accuracy: 0.9285 - val_loss: 0.2332 - val_accuracy: 0.9359\n",
            "Epoch 19/100\n",
            "512/512 [==============================] - 1s 3ms/step - loss: 0.2893 - accuracy: 0.9288 - val_loss: 0.2343 - val_accuracy: 0.9359\n",
            "Epoch 20/100\n",
            "512/512 [==============================] - 1s 3ms/step - loss: 0.2575 - accuracy: 0.9292 - val_loss: 0.2329 - val_accuracy: 0.9359\n",
            "Epoch 21/100\n",
            "512/512 [==============================] - 1s 3ms/step - loss: 0.2725 - accuracy: 0.9294 - val_loss: 0.2311 - val_accuracy: 0.9359\n",
            "Epoch 22/100\n",
            "512/512 [==============================] - 1s 3ms/step - loss: 0.2548 - accuracy: 0.9294 - val_loss: 0.2297 - val_accuracy: 0.9359\n",
            "Epoch 23/100\n",
            "512/512 [==============================] - 1s 3ms/step - loss: 0.2648 - accuracy: 0.9295 - val_loss: 0.2288 - val_accuracy: 0.9359\n",
            "Epoch 24/100\n",
            "512/512 [==============================] - 1s 3ms/step - loss: 0.2606 - accuracy: 0.9297 - val_loss: 0.2280 - val_accuracy: 0.9359\n",
            "Epoch 25/100\n",
            "512/512 [==============================] - 1s 3ms/step - loss: 0.2418 - accuracy: 0.9298 - val_loss: 0.2275 - val_accuracy: 0.9359\n",
            "Epoch 26/100\n",
            "512/512 [==============================] - 1s 3ms/step - loss: 0.2390 - accuracy: 0.9296 - val_loss: 0.2272 - val_accuracy: 0.9359\n",
            "Epoch 27/100\n",
            "512/512 [==============================] - 1s 3ms/step - loss: 0.2466 - accuracy: 0.9299 - val_loss: 0.2268 - val_accuracy: 0.9359\n",
            "Epoch 28/100\n",
            "512/512 [==============================] - 1s 3ms/step - loss: 0.2422 - accuracy: 0.9299 - val_loss: 0.2265 - val_accuracy: 0.9359\n",
            "Epoch 29/100\n",
            "512/512 [==============================] - 1s 3ms/step - loss: 0.2451 - accuracy: 0.9299 - val_loss: 0.2262 - val_accuracy: 0.9359\n",
            "Epoch 30/100\n",
            "512/512 [==============================] - 1s 3ms/step - loss: 0.2364 - accuracy: 0.9298 - val_loss: 0.2260 - val_accuracy: 0.9359\n",
            "Epoch 31/100\n",
            "512/512 [==============================] - 1s 3ms/step - loss: 0.2370 - accuracy: 0.9299 - val_loss: 0.2258 - val_accuracy: 0.9359\n",
            "Epoch 32/100\n",
            "512/512 [==============================] - 1s 3ms/step - loss: 0.2370 - accuracy: 0.9298 - val_loss: 0.2258 - val_accuracy: 0.9359\n",
            "Epoch 33/100\n",
            "512/512 [==============================] - 1s 3ms/step - loss: 0.2371 - accuracy: 0.9300 - val_loss: 0.2256 - val_accuracy: 0.9359\n",
            "Epoch 34/100\n",
            "512/512 [==============================] - 1s 3ms/step - loss: 0.2359 - accuracy: 0.9299 - val_loss: 0.2254 - val_accuracy: 0.9359\n",
            "Epoch 35/100\n",
            "512/512 [==============================] - 1s 3ms/step - loss: 0.2581 - accuracy: 0.9300 - val_loss: 0.2255 - val_accuracy: 0.9359\n",
            "Epoch 36/100\n",
            "512/512 [==============================] - 1s 3ms/step - loss: 0.2355 - accuracy: 0.9299 - val_loss: 0.2253 - val_accuracy: 0.9359\n",
            "Epoch 37/100\n",
            "512/512 [==============================] - 1s 3ms/step - loss: 0.2412 - accuracy: 0.9299 - val_loss: 0.2255 - val_accuracy: 0.9359\n",
            "Epoch 38/100\n",
            "512/512 [==============================] - 1s 3ms/step - loss: 0.2369 - accuracy: 0.9299 - val_loss: 0.2255 - val_accuracy: 0.9359\n",
            "Epoch 39/100\n",
            "512/512 [==============================] - 1s 3ms/step - loss: 0.2487 - accuracy: 0.9298 - val_loss: 0.2256 - val_accuracy: 0.9359\n",
            "Epoch 40/100\n",
            "512/512 [==============================] - 1s 3ms/step - loss: 0.2364 - accuracy: 0.9299 - val_loss: 0.2254 - val_accuracy: 0.9359\n",
            "Epoch 41/100\n",
            "512/512 [==============================] - 1s 3ms/step - loss: 0.2355 - accuracy: 0.9299 - val_loss: 0.2252 - val_accuracy: 0.9359\n",
            "Epoch 42/100\n",
            "512/512 [==============================] - 1s 3ms/step - loss: 0.2362 - accuracy: 0.9300 - val_loss: 0.2252 - val_accuracy: 0.9359\n",
            "Epoch 43/100\n",
            "512/512 [==============================] - 1s 3ms/step - loss: 0.2358 - accuracy: 0.9299 - val_loss: 0.2252 - val_accuracy: 0.9359\n",
            "Epoch 44/100\n",
            "512/512 [==============================] - 1s 3ms/step - loss: 0.2433 - accuracy: 0.9299 - val_loss: 0.2250 - val_accuracy: 0.9359\n",
            "Epoch 45/100\n",
            "512/512 [==============================] - 1s 3ms/step - loss: 0.2356 - accuracy: 0.9300 - val_loss: 0.2252 - val_accuracy: 0.9359\n",
            "Epoch 46/100\n",
            "512/512 [==============================] - 1s 3ms/step - loss: 0.2383 - accuracy: 0.9300 - val_loss: 0.2251 - val_accuracy: 0.9359\n",
            "Epoch 47/100\n",
            "512/512 [==============================] - 1s 3ms/step - loss: 0.2360 - accuracy: 0.9300 - val_loss: 0.2253 - val_accuracy: 0.9359\n",
            "Epoch 48/100\n",
            "512/512 [==============================] - 1s 3ms/step - loss: 0.2358 - accuracy: 0.9300 - val_loss: 0.2252 - val_accuracy: 0.9359\n",
            "Epoch 49/100\n",
            "512/512 [==============================] - 1s 3ms/step - loss: 0.2359 - accuracy: 0.9300 - val_loss: 0.2250 - val_accuracy: 0.9359\n",
            "Epoch 50/100\n",
            "512/512 [==============================] - 1s 3ms/step - loss: 0.2357 - accuracy: 0.9299 - val_loss: 0.2250 - val_accuracy: 0.9359\n",
            "Epoch 51/100\n",
            "512/512 [==============================] - 1s 3ms/step - loss: 0.2358 - accuracy: 0.9300 - val_loss: 0.2250 - val_accuracy: 0.9359\n",
            "Epoch 52/100\n",
            "512/512 [==============================] - 1s 3ms/step - loss: 0.2357 - accuracy: 0.9299 - val_loss: 0.2246 - val_accuracy: 0.9359\n",
            "Epoch 53/100\n",
            "512/512 [==============================] - 1s 3ms/step - loss: 0.2389 - accuracy: 0.9300 - val_loss: 0.2247 - val_accuracy: 0.9359\n",
            "Epoch 54/100\n",
            "512/512 [==============================] - 1s 3ms/step - loss: 0.2356 - accuracy: 0.9300 - val_loss: 0.2245 - val_accuracy: 0.9359\n",
            "Epoch 55/100\n",
            "512/512 [==============================] - 1s 3ms/step - loss: 0.2353 - accuracy: 0.9300 - val_loss: 0.2245 - val_accuracy: 0.9359\n",
            "Epoch 56/100\n",
            "512/512 [==============================] - 1s 3ms/step - loss: 0.2373 - accuracy: 0.9300 - val_loss: 0.2249 - val_accuracy: 0.9359\n",
            "Epoch 57/100\n",
            "512/512 [==============================] - 1s 3ms/step - loss: 0.2357 - accuracy: 0.9300 - val_loss: 0.2249 - val_accuracy: 0.9359\n",
            "Epoch 58/100\n",
            "512/512 [==============================] - 1s 3ms/step - loss: 0.2366 - accuracy: 0.9300 - val_loss: 0.2250 - val_accuracy: 0.9359\n",
            "Epoch 59/100\n",
            "512/512 [==============================] - 1s 3ms/step - loss: 0.2350 - accuracy: 0.9300 - val_loss: 0.2249 - val_accuracy: 0.9359\n",
            "Epoch 60/100\n",
            "512/512 [==============================] - 1s 3ms/step - loss: 0.2373 - accuracy: 0.9299 - val_loss: 0.2249 - val_accuracy: 0.9359\n",
            "Epoch 61/100\n",
            "512/512 [==============================] - 1s 3ms/step - loss: 0.2640 - accuracy: 0.9299 - val_loss: 0.2247 - val_accuracy: 0.9359\n",
            "Epoch 62/100\n",
            "512/512 [==============================] - 1s 3ms/step - loss: 0.2357 - accuracy: 0.9299 - val_loss: 0.2249 - val_accuracy: 0.9359\n",
            "Epoch 63/100\n",
            "512/512 [==============================] - 1s 3ms/step - loss: 0.2368 - accuracy: 0.9300 - val_loss: 0.2250 - val_accuracy: 0.9359\n",
            "Epoch 64/100\n",
            "512/512 [==============================] - 1s 3ms/step - loss: 0.2355 - accuracy: 0.9300 - val_loss: 0.2249 - val_accuracy: 0.9359\n",
            "Epoch 65/100\n",
            "512/512 [==============================] - 1s 3ms/step - loss: 0.2355 - accuracy: 0.9300 - val_loss: 0.2250 - val_accuracy: 0.9359\n",
            "Epoch 00065: early stopping\n",
            "250/250 [==============================] - 0s 2ms/step - loss: 0.2110 - accuracy: 0.9741\n",
            "Model evaluation  [0.21100331842899323, 0.9741250276565552]\n"
          ],
          "name": "stdout"
        }
      ]
    },
    {
      "cell_type": "code",
      "metadata": {
        "id": "T5abRnnxH3CR",
        "colab_type": "code",
        "colab": {
          "base_uri": "https://localhost:8080/",
          "height": 35
        },
        "outputId": "caac5ba9-af55-4b11-cdba-9dcfebb0a67d"
      },
      "source": [
        "model.save(\"/content/drive/My Drive/Colab Notebooks/University/model.h5\")\n",
        "print(\"Saved model to disk\")"
      ],
      "execution_count": 87,
      "outputs": [
        {
          "output_type": "stream",
          "text": [
            "Saved model to disk\n"
          ],
          "name": "stdout"
        }
      ]
    },
    {
      "cell_type": "code",
      "metadata": {
        "id": "uVemoHdhH3CU",
        "colab_type": "code",
        "colab": {}
      },
      "source": [
        ""
      ],
      "execution_count": 0,
      "outputs": []
    }
  ]
}