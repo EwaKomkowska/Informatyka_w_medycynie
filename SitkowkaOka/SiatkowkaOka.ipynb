{
 "cells": [
  {
   "cell_type": "code",
   "execution_count": 2,
   "metadata": {},
   "outputs": [],
   "source": [
    "import cv2\n",
    "import numpy as np\n",
    "from skimage.filters import frangi, sobel\n",
    "from matplotlib import pyplot as plt"
   ]
  },
  {
   "cell_type": "markdown",
   "metadata": {},
   "source": [
    "# Część na 3.0"
   ]
  },
  {
   "cell_type": "code",
   "execution_count": 3,
   "metadata": {},
   "outputs": [],
   "source": [
    "def show_image(img, title=\"test\"):\n",
    "    cv2.imshow(title, img)\n",
    "    cv2.waitKey(0)\n",
    "    cv2.destroyAllWindows()"
   ]
  },
  {
   "cell_type": "markdown",
   "metadata": {},
   "source": [
    "## Wczytanie zdjęcia"
   ]
  },
  {
   "cell_type": "code",
   "execution_count": 4,
   "metadata": {},
   "outputs": [],
   "source": [
    "#blada gałka oczna na czarnym tle\n",
    "#image = cv2.imread('zdjecia/2_good.JPG') # 11.42 / 10.99\n",
    "\n",
    "#bardziej czerwona głka oczna na czrnym tle\n",
    "#image = cv2.imread('zdjecia/8_good.JPG') # 21.93 / 21.25\n",
    "\n",
    "#duża pomarańczowa gałka oczna na czarnym tle\n",
    "image = cv2.imread('zdjecia/Image_03R.jpg') # 51.76 / 56.1\n",
    "\n",
    "image = cv2.resize(image, (800, 800))\n",
    "\n",
    "gray_to_find_circle = cv2.cvtColor(image, cv2.COLOR_BGR2GRAY)"
   ]
  },
  {
   "cell_type": "markdown",
   "metadata": {},
   "source": [
    "## Wstępne przetworzenie obrazu"
   ]
  },
  {
   "cell_type": "code",
   "execution_count": 5,
   "metadata": {},
   "outputs": [],
   "source": [
    "def thresh_show(image, th1):\n",
    "    \n",
    "    image2 = cv2.threshold(image, th1, 255, cv2.THRESH_BINARY)[1]\n",
    "    #show_image(image2)\n",
    "    \n",
    "    return cv2.findContours(image2, cv2.RETR_EXTERNAL, cv2.CHAIN_APPROX_NONE)"
   ]
  },
  {
   "cell_type": "code",
   "execution_count": 6,
   "metadata": {},
   "outputs": [],
   "source": [
    "#rozmycie\n",
    "\n",
    "gray_to_find_circle = cv2.GaussianBlur(gray_to_find_circle, (5, 5), 0) # medianblur, guassianblur ?\n",
    "show_image(image, title=\"blur\")\n",
    "image = cv2.GaussianBlur(image, (5, 5), 0) # medianblur, guassianblur ?\n",
    "\n",
    "#wyostrzenie\n",
    "#obraz potrzebny do odnalezienia gałki ocznej\n",
    "kernel = np.array([[-1, -1, -1], [-1, 9, -1], [-1, -1, -1]])\n",
    "gray_to_find_circle = cv2.filter2D(gray_to_find_circle, -1, kernel)\n",
    "show_image(gray_to_find_circle, title=\"filter\")\n",
    "\n",
    "#obraz na którym będziemy dalej pracować\n",
    "image = cv2.filter2D(image, -1, kernel)\n",
    "image = cv2.filter2D(image, -1, kernel)\n",
    "show_image(image, title=\"filter\")\n",
    "\n",
    "image = cv2.cvtColor(image, cv2.COLOR_BGR2GRAY)\n",
    "\n",
    "# !!!!!!!!!!!!!!!!!!!!!!!!!!!!!\n",
    "#image = frangi(image, black_ridges=False)\n",
    "#show_image(image, title=\"frangi\")"
   ]
  },
  {
   "cell_type": "code",
   "execution_count": 7,
   "metadata": {},
   "outputs": [],
   "source": [
    "# szukamy gałki ocznej\n",
    "contours, hierarchy = thresh_show(gray_to_find_circle, 0)\n",
    "\n",
    "contours_approved = []\n",
    "(cx, cy) , radius = (0, 0), 0\n",
    "global approxx\n",
    "maxArea = 0\n",
    "for cnt in contours:\n",
    "    approx = cv2.approxPolyDP(cnt, .03 * cv2.arcLength(cnt, True), True)\n",
    "    if len(approx) >= 7:\n",
    "        area = cv2.contourArea(cnt)\n",
    "        (cx, cy), radius = cv2.minEnclosingCircle(cnt)\n",
    "        circleArea = radius * radius * np.pi\n",
    "        if maxArea<area:\n",
    "            contours_approved = []\n",
    "            maxArea = area\n",
    "            contours_approved.append(cnt)\n",
    "            approxx = approx\n",
    "\n",
    "# wiodący obraz z konturami gałki ocznej i wypełnieniem\n",
    "cv2.drawContours(image, contours_approved, -1, (255, 0, 0), 3) \n",
    "show_image(image, title=\"wiodacy obraz z konturami galki ocznej\")"
   ]
  },
  {
   "cell_type": "code",
   "execution_count": 8,
   "metadata": {},
   "outputs": [],
   "source": [
    "rgb = cv2.cvtColor(image, cv2.COLOR_GRAY2RGB)\n",
    "\n",
    "fill_color = [255, 255, 255]\n",
    "mask_value = 255 \n",
    "\n",
    "stencil  = np.zeros(rgb.shape[:-1]).astype(np.uint8)\n",
    "cv2.fillPoly(stencil, contours_approved, mask_value)\n",
    "\n",
    "sel      = stencil != mask_value # select everything that is not mask_value\n",
    "rgb[sel] = fill_color            # and fill it with fill_color\n",
    "\n",
    "show_image(rgb, title=\"wiodacy obraz z konturami galki ocznej i wypelnieniem\" )"
   ]
  },
  {
   "cell_type": "markdown",
   "metadata": {},
   "source": [
    "## Właściwe przetworzenie obrazu"
   ]
  },
  {
   "cell_type": "code",
   "execution_count": 9,
   "metadata": {},
   "outputs": [],
   "source": [
    "def nothing(x):\n",
    "    pass\n",
    "\n",
    "def trackbar_thresholds(image):\n",
    "    cv2.namedWindow('myImage')\n",
    "\n",
    "    cv2.createTrackbar('threshold1', 'myImage', 0, 255, nothing)\n",
    "    cv2.createTrackbar('threshold2', 'myImage', 0, 255, nothing)\n",
    "\n",
    "    \n",
    "    image2 = image\n",
    "\n",
    "    while(1):\n",
    "        cv2.imshow('myImage', image2)\n",
    "        k = cv2.waitKey(1) & 0xFF\n",
    "        if k == 27:\n",
    "            break\n",
    "        # get current positions of four trackbars\n",
    "        th1 = cv2.getTrackbarPos('threshold1', 'myImage')\n",
    "        th2 = cv2.getTrackbarPos('threshold2', 'myImage')\n",
    "        # canny\n",
    "        image2 = cv2.Canny(image, th1, th2)\n",
    "        \n",
    "    cv2.destroyAllWindows()"
   ]
  },
  {
   "cell_type": "code",
   "execution_count": 10,
   "metadata": {},
   "outputs": [],
   "source": [
    "image = cv2.cvtColor(rgb, cv2.COLOR_BGR2GRAY)"
   ]
  },
  {
   "cell_type": "code",
   "execution_count": 23,
   "metadata": {},
   "outputs": [
    {
     "name": "stdout",
     "output_type": "stream",
     "text": [
      "137.8359359375\n"
     ]
    }
   ],
   "source": [
    "#trackbar_thresholds(image)\n",
    "\n",
    "#image = cv2.Canny(image, 100, 230)\n",
    "# wykrywanie krawędzi\n",
    "#image = frangi(image, black_ridges=True)\n",
    "image_mean = np.mean(image)\n",
    "print(image_mean)\n",
    "wspol = 1.3 * image_mean # 0 - 15\n",
    "\n",
    "# thresholding\n",
    "ret,image2 = cv2.threshold(image,wspol, 255, cv2.THRESH_BINARY)\n",
    "#show_image(image2)\n",
    "\n"
   ]
  },
  {
   "cell_type": "markdown",
   "metadata": {},
   "source": [
    "## Sprawdzenie"
   ]
  },
  {
   "cell_type": "code",
   "execution_count": 24,
   "metadata": {},
   "outputs": [
    {
     "name": "stdout",
     "output_type": "stream",
     "text": [
      "0.627815625\n"
     ]
    }
   ],
   "source": [
    "odp = cv2.imread('zdjecia/Image_03R_1stHO.png')\n",
    "odp = cv2.resize(odp, (800, 800))\n",
    "\n",
    "#show_image(odp)\n",
    "i = 0\n",
    "max_val = 640000\n",
    " \n",
    "for odp_, res_ in zip(np.nditer(odp), np.nditer(image2)):\n",
    "    if odp_ == res_:\n",
    "        i += 1\n",
    "    \n",
    "print(i/max_val)\n"
   ]
  },
  {
   "cell_type": "markdown",
   "metadata": {},
   "source": [
    "# Część na 5.0"
   ]
  },
  {
   "cell_type": "code",
   "execution_count": 29,
   "metadata": {},
   "outputs": [
    {
     "data": {
      "text/plain": [
       "38"
      ]
     },
     "execution_count": 29,
     "metadata": {},
     "output_type": "execute_result"
    }
   ],
   "source": []
  },
  {
   "cell_type": "code",
   "execution_count": null,
   "metadata": {},
   "outputs": [],
   "source": []
  }
 ],
 "metadata": {
  "kernelspec": {
   "display_name": "Python 3",
   "language": "python",
   "name": "python3"
  },
  "language_info": {
   "codemirror_mode": {
    "name": "ipython",
    "version": 3
   },
   "file_extension": ".py",
   "mimetype": "text/x-python",
   "name": "python",
   "nbconvert_exporter": "python",
   "pygments_lexer": "ipython3",
   "version": "3.6.7"
  }
 },
 "nbformat": 4,
 "nbformat_minor": 2
}
