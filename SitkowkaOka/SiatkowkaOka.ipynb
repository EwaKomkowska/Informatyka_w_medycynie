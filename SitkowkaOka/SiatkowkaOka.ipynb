{
 "cells": [
  {
   "cell_type": "code",
   "execution_count": 7,
   "metadata": {},
   "outputs": [],
   "source": [
    "import cv2\n",
    "import numpy as np\n",
    "from skimage.filters import frangi\n",
    "from matplotlib import pyplot as plt"
   ]
  },
  {
   "cell_type": "markdown",
   "metadata": {},
   "source": [
    "# Część na 3.0"
   ]
  },
  {
   "cell_type": "code",
   "execution_count": 8,
   "metadata": {},
   "outputs": [],
   "source": [
    "def show_image(img, title=\"test\"):\n",
    "    cv2.imshow(title, img)\n",
    "    cv2.waitKey(0)\n",
    "    cv2.destroyAllWindows()"
   ]
  },
  {
   "cell_type": "markdown",
   "metadata": {},
   "source": [
    "## Wczytanie zdjęcia"
   ]
  },
  {
   "cell_type": "code",
   "execution_count": 9,
   "metadata": {},
   "outputs": [],
   "source": [
    "#blada gałka oczna na czarnym tle\n",
    "image = cv2.imread('zdjecia/2_good.JPG') # 11.42 / 10.99\n",
    "\n",
    "#bardziej czerwona głka oczna na czrnym tle\n",
    "#image = cv2.imread('zdjecia/8_good.JPG') # 21.93 / 21.25\n",
    "\n",
    "#duża pomarańczowa gałka oczna na czarnym tle\n",
    "#image = cv2.imread('zdjecia/Image_03R.jpg') # 51.76 / 56.14\n",
    "\n",
    "#biało-czarne\n",
    "#image = cv2.imread('zdjecia/Image_04R_1stHO.png') #19.63\n",
    "\n",
    "image = cv2.resize(image, (800, 800))\n",
    "gray = cv2.cvtColor(image, cv2.COLOR_BGR2GRAY)\n",
    "\n",
    "#show_image(image)\n",
    "image_mean = np.mean(gray)"
   ]
  },
  {
   "cell_type": "markdown",
   "metadata": {},
   "source": [
    "## Wstępne przetworzenie obrazu"
   ]
  },
  {
   "cell_type": "code",
   "execution_count": 10,
   "metadata": {},
   "outputs": [],
   "source": [
    "def thresh_show(image, th1):\n",
    "    \n",
    "    image2 = cv2.threshold(image, th1, 255, cv2.THRESH_BINARY)[1]\n",
    "    show_image(image2)\n",
    "    \n",
    "    return cv2.findContours(image2, cv2.RETR_EXTERNAL, cv2.CHAIN_APPROX_NONE)"
   ]
  },
  {
   "cell_type": "code",
   "execution_count": 11,
   "metadata": {},
   "outputs": [],
   "source": [
    "#from cv2 import GuasianBlur\n",
    "#rozmycie\n",
    "\n",
    "image = cv2.GaussianBlur(gray, (5, 5), 0) # medianblur, guassianblur ?\n",
    "#show_image(image, title=\"blur\")\n",
    "\n",
    "#wyostrzenie\n",
    "\n",
    "kernel = np.array([[-1, -1, -1], [-1, 9, -1], [-1, -1, -1]])\n",
    "image = cv2.filter2D(image, -1, kernel)\n",
    "#show_image(image, title=\"filter\")\n"
   ]
  },
  {
   "cell_type": "code",
   "execution_count": 12,
   "metadata": {},
   "outputs": [
    {
     "data": {
      "text/plain": [
       "[array([[[383,  30]],\n",
       " \n",
       "        [[382,  31]],\n",
       " \n",
       "        [[381,  31]],\n",
       " \n",
       "        ...,\n",
       " \n",
       "        [[386,  30]],\n",
       " \n",
       "        [[385,  31]],\n",
       " \n",
       "        [[384,  31]]], dtype=int32)]"
      ]
     },
     "execution_count": 12,
     "metadata": {},
     "output_type": "execute_result"
    }
   ],
   "source": [
    "#show_image(image)\n",
    "\n",
    "contours, hierarchy = thresh_show(image, 0)\n",
    "\n",
    "#cv2.drawContours(image, contours, -1, (255, 0, 0), 3) \n",
    "#show_image(image)\n",
    "\n",
    "contours_approved = []\n",
    "maxArea = 0\n",
    "for cnt in contours:\n",
    "    approx = cv2.approxPolyDP(cnt, .03 * cv2.arcLength(cnt, True), True)\n",
    "    if len(approx) >= 7:\n",
    "        contours_approved = []\n",
    "        area = cv2.contourArea(cnt)\n",
    "        (cx, cy), radius = cv2.minEnclosingCircle(cnt)\n",
    "        circleArea = radius * radius * np.pi\n",
    "        maxArea = area\n",
    "        contours_approved.append(cnt)\n",
    "            \n",
    "cv2.drawContours(image, contours_approved, -1, (255, 0, 0), 3) \n",
    "#show_image(image)\n",
    "\n",
    "#for x in np.nditer(image, order = 'C'):\n",
    "    #print(x)\n",
    "    \n"
   ]
  },
  {
   "cell_type": "code",
   "execution_count": 24,
   "metadata": {},
   "outputs": [
    {
     "data": {
      "text/plain": [
       "382"
      ]
     },
     "execution_count": 24,
     "metadata": {},
     "output_type": "execute_result"
    }
   ],
   "source": [
    "points = contours_approved[0]\n",
    "somePoint = points[1][0]\n",
    "somePoint[0]"
   ]
  },
  {
   "cell_type": "code",
   "execution_count": 79,
   "metadata": {},
   "outputs": [
    {
     "data": {
      "text/plain": [
       "'detected_circles = cv2.HoughCircles(gray,  \\n                   cv2.HOUGH_GRADIENT, 1, 300) \\n  \\n# Draw circles that are detected. \\nif detected_circles is not None: \\n  \\n    # Convert the circle parameters a, b and r to integers. \\n    detected_circles = np.uint16(np.around(detected_circles)) \\n  \\n    for pt in detected_circles[0, :]: \\n        a, b, r = pt[0], pt[1], pt[2] \\n  \\n        # Draw the circumference of the circle. \\n        cv2.circle(image, (a, b), r, (0, 255, 0), 2) \\n  \\n        # Draw a small circle (of radius 1) to show the center. \\n        cv2.circle(image, (a, b), 1, (0, 0, 255), 3) \\n        cv2.imshow(\"Detected Circle\", image) \\n        cv2.waitKey(0) '"
      ]
     },
     "execution_count": 79,
     "metadata": {},
     "output_type": "execute_result"
    }
   ],
   "source": [
    "\"\"\"detected_circles = cv2.HoughCircles(gray,  \n",
    "                   cv2.HOUGH_GRADIENT, 1, 300) \n",
    "  \n",
    "# Draw circles that are detected. \n",
    "if detected_circles is not None: \n",
    "  \n",
    "    # Convert the circle parameters a, b and r to integers. \n",
    "    detected_circles = np.uint16(np.around(detected_circles)) \n",
    "  \n",
    "    for pt in detected_circles[0, :]: \n",
    "        a, b, r = pt[0], pt[1], pt[2] \n",
    "  \n",
    "        # Draw the circumference of the circle. \n",
    "        cv2.circle(image, (a, b), r, (0, 255, 0), 2) \n",
    "  \n",
    "        # Draw a small circle (of radius 1) to show the center. \n",
    "        cv2.circle(image, (a, b), 1, (0, 0, 255), 3) \n",
    "        cv2.imshow(\"Detected Circle\", image) \n",
    "        cv2.waitKey(0) \"\"\""
   ]
  },
  {
   "cell_type": "markdown",
   "metadata": {},
   "source": [
    "## Właściwe przetworzenie obrazu"
   ]
  },
  {
   "cell_type": "code",
   "execution_count": 50,
   "metadata": {},
   "outputs": [],
   "source": [
    "def nothing(x):\n",
    "    pass\n",
    "\n",
    "def trackbar_thresholds(image):\n",
    "    cv2.namedWindow('myImage')\n",
    "\n",
    "    cv2.createTrackbar('threshold1', 'myImage', 0, 255, nothing)\n",
    "    cv2.createTrackbar('threshold2', 'myImage', 0, 255, nothing)\n",
    "\n",
    "    \n",
    "    image2 = image\n",
    "\n",
    "    while(1):\n",
    "        cv2.imshow('myImage', image2)\n",
    "        k = cv2.waitKey(1) & 0xFF\n",
    "        if k == 27:\n",
    "            break\n",
    "        # get current positions of four trackbars\n",
    "        th1 = cv2.getTrackbarPos('threshold1', 'myImage')\n",
    "        th2 = cv2.getTrackbarPos('threshold2', 'myImage')\n",
    "        # canny\n",
    "        image2 = cv2.Canny(image, th1, th2)\n",
    "        \n",
    "    cv2.destroyAllWindows()"
   ]
  },
  {
   "cell_type": "code",
   "execution_count": 65,
   "metadata": {},
   "outputs": [],
   "source": []
  },
  {
   "cell_type": "code",
   "execution_count": null,
   "metadata": {},
   "outputs": [],
   "source": []
  },
  {
   "cell_type": "code",
   "execution_count": 68,
   "metadata": {},
   "outputs": [],
   "source": [
    "#trackbar_thresholds(image)\n",
    "\n",
    "#image2 = cv2.Canny(image, 100, 230)\n",
    "# wykrywanie krawędzi\n",
    "#image = frangi(image, black_ridges=True)\n",
    "\n",
    "wspol = 1.5 * image_mean + 15\n",
    "\n",
    "\n",
    "    \n",
    "# thresholding\n",
    "#ret,image = cv2.threshold(image,100, 200, cv2.THRESH_BINARY)\n",
    "\n"
   ]
  },
  {
   "cell_type": "markdown",
   "metadata": {},
   "source": [
    "## Końcowe przetworzenie obrazu"
   ]
  },
  {
   "cell_type": "code",
   "execution_count": 39,
   "metadata": {},
   "outputs": [
    {
     "data": {
      "text/plain": [
       "200"
      ]
     },
     "execution_count": 39,
     "metadata": {},
     "output_type": "execute_result"
    }
   ],
   "source": [
    "image[435,400]"
   ]
  },
  {
   "cell_type": "code",
   "execution_count": null,
   "metadata": {},
   "outputs": [],
   "source": []
  }
 ],
 "metadata": {
  "kernelspec": {
   "display_name": "Python 3",
   "language": "python",
   "name": "python3"
  },
  "language_info": {
   "codemirror_mode": {
    "name": "ipython",
    "version": 3
   },
   "file_extension": ".py",
   "mimetype": "text/x-python",
   "name": "python",
   "nbconvert_exporter": "python",
   "pygments_lexer": "ipython3",
   "version": "3.6.7"
  }
 },
 "nbformat": 4,
 "nbformat_minor": 2
}
