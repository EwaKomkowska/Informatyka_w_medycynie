{
 "cells": [
  {
   "cell_type": "code",
   "execution_count": 258,
   "metadata": {},
   "outputs": [
    {
     "name": "stderr",
     "output_type": "stream",
     "text": [
      "Using TensorFlow backend.\n"
     ]
    }
   ],
   "source": [
    "import cv2\n",
    "import numpy as np\n",
    "from skimage.filters import frangi, sobel\n",
    "from matplotlib import pyplot as plt\n",
    "import pandas as pd\n",
    "from scipy.stats import moment\n",
    "\n",
    "from tensorflow.python import keras\n",
    "from tensorflow.python.keras.models import Sequential\n",
    "from tensorflow.python.keras.layers import Dense, Flatten, Conv2D, Dropout\n",
    "from keras import metrics"
   ]
  },
  {
   "cell_type": "markdown",
   "metadata": {},
   "source": [
    "# Część na 3.0"
   ]
  },
  {
   "cell_type": "code",
   "execution_count": 170,
   "metadata": {},
   "outputs": [],
   "source": [
    "def show_image(img, title=\"test\"):\n",
    "    cv2.imshow(title, img)\n",
    "    cv2.waitKey(0)\n",
    "    cv2.destroyAllWindows()"
   ]
  },
  {
   "cell_type": "markdown",
   "metadata": {},
   "source": [
    "## Wczytanie zdjęcia"
   ]
  },
  {
   "cell_type": "code",
   "execution_count": 196,
   "metadata": {},
   "outputs": [],
   "source": [
    "image_size = 100\n",
    "#blada gałka oczna na czarnym tle\n",
    "#image = cv2.imread('zdjecia/2_good.JPG') # 11.42 / 10.99\n",
    "\n",
    "#bardziej czerwona głka oczna na czrnym tle\n",
    "#image = cv2.imread('zdjecia/8_good.JPG') # 21.93 / 21.25\n",
    "\n",
    "#duża pomarańczowa gałka oczna na czarnym tle\n",
    "image = cv2.imread('zdjecia/Image_03R.jpg') # 51.76 / 56.1\n",
    "\n",
    "image = cv2.resize(image, (image_size, image_size))\n",
    "\n",
    "gray_to_find_circle = cv2.cvtColor(image, cv2.COLOR_BGR2GRAY)"
   ]
  },
  {
   "cell_type": "markdown",
   "metadata": {},
   "source": [
    "## Wstępne przetworzenie obrazu"
   ]
  },
  {
   "cell_type": "code",
   "execution_count": 197,
   "metadata": {},
   "outputs": [],
   "source": [
    "def thresh_show(image, th1):\n",
    "    \n",
    "    image2 = cv2.threshold(image, th1, 255, cv2.THRESH_BINARY)[1]\n",
    "    #show_image(image2)\n",
    "    \n",
    "    return cv2.findContours(image2, cv2.RETR_EXTERNAL, cv2.CHAIN_APPROX_NONE)"
   ]
  },
  {
   "cell_type": "code",
   "execution_count": 198,
   "metadata": {},
   "outputs": [],
   "source": [
    "#rozmycie\n",
    "\n",
    "gray_to_find_circle = cv2.GaussianBlur(gray_to_find_circle, (5, 5), 0) # medianblur, guassianblur ?\n",
    "show_image(image, title=\"blur\")\n",
    "image = cv2.GaussianBlur(image, (5, 5), 0) # medianblur, guassianblur ?\n",
    "\n",
    "#wyostrzenie\n",
    "#obraz potrzebny do odnalezienia gałki ocznej\n",
    "kernel = np.array([[-1, -1, -1], [-1, 9, -1], [-1, -1, -1]])\n",
    "gray_to_find_circle = cv2.filter2D(gray_to_find_circle, -1, kernel)\n",
    "show_image(gray_to_find_circle, title=\"filter\")\n",
    "\n",
    "#obraz na którym będziemy dalej pracować\n",
    "#image = cv2.filter2D(image, -1, kernel)\n",
    "#image = cv2.filter2D(image, -1, kernel)\n",
    "#show_image(image, title=\"filter\")\n",
    "\n",
    "image = cv2.cvtColor(image, cv2.COLOR_BGR2GRAY)\n",
    "\n",
    "# !!!!!!!!!!!!!!!!!!!!!!!!!!!!!\n",
    "#image = frangi(image, black_ridges=False)\n",
    "#show_image(image, title=\"frangi\")"
   ]
  },
  {
   "cell_type": "code",
   "execution_count": 199,
   "metadata": {},
   "outputs": [],
   "source": [
    "# szukamy gałki ocznej\n",
    "contours, hierarchy = thresh_show(gray_to_find_circle, 0)\n",
    "\n",
    "contours_approved = []\n",
    "(cx, cy) , radius = (0, 0), 0\n",
    "global approxx\n",
    "maxArea = 0\n",
    "for cnt in contours:\n",
    "    approx = cv2.approxPolyDP(cnt, .03 * cv2.arcLength(cnt, True), True)\n",
    "    if len(approx) >= 7:\n",
    "        area = cv2.contourArea(cnt)\n",
    "        (cx, cy), radius = cv2.minEnclosingCircle(cnt)\n",
    "        circleArea = radius * radius * np.pi\n",
    "        if maxArea<area:\n",
    "            contours_approved = []\n",
    "            maxArea = area\n",
    "            contours_approved.append(cnt)\n",
    "            approxx = approx\n",
    "\n",
    "# wiodący obraz z konturami gałki ocznej i wypełnieniem\n",
    "cv2.drawContours(image, contours_approved, -1, (255, 0, 0), 3) \n",
    "show_image(image, title=\"wiodacy obraz z konturami galki ocznej\")"
   ]
  },
  {
   "cell_type": "code",
   "execution_count": 200,
   "metadata": {},
   "outputs": [],
   "source": [
    "rgb = cv2.cvtColor(image, cv2.COLOR_GRAY2RGB)\n",
    "\n",
    "fill_color = [255, 255, 255]\n",
    "mask_value = 255 \n",
    "\n",
    "stencil  = np.zeros(rgb.shape[:-1]).astype(np.uint8)\n",
    "cv2.fillPoly(stencil, contours_approved, mask_value)\n",
    "\n",
    "sel      = stencil != mask_value # select everything that is not mask_value\n",
    "rgb[sel] = fill_color            # and fill it with fill_color\n",
    "\n",
    "show_image(rgb, title=\"wiodacy obraz z konturami galki ocznej i wypelnieniem\" )"
   ]
  },
  {
   "cell_type": "markdown",
   "metadata": {},
   "source": [
    "## Właściwe przetworzenie obrazu"
   ]
  },
  {
   "cell_type": "code",
   "execution_count": 201,
   "metadata": {},
   "outputs": [],
   "source": [
    "def nothing(x):\n",
    "    pass\n",
    "\n",
    "def trackbar_thresholds(image):\n",
    "    cv2.namedWindow('myImage')\n",
    "\n",
    "    cv2.createTrackbar('threshold1', 'myImage', 0, 255, nothing)\n",
    "    cv2.createTrackbar('threshold2', 'myImage', 0, 255, nothing)\n",
    "\n",
    "    \n",
    "    image2 = image\n",
    "\n",
    "    while(1):\n",
    "        cv2.imshow('myImage', image2)\n",
    "        k = cv2.waitKey(1) & 0xFF\n",
    "        if k == 27:\n",
    "            break\n",
    "        # get current positions of four trackbars\n",
    "        th1 = cv2.getTrackbarPos('threshold1', 'myImage')\n",
    "        th2 = cv2.getTrackbarPos('threshold2', 'myImage')\n",
    "        # canny\n",
    "        image2 = cv2.Canny(image, th1, th2)\n",
    "        \n",
    "    cv2.destroyAllWindows()"
   ]
  },
  {
   "cell_type": "code",
   "execution_count": 202,
   "metadata": {},
   "outputs": [],
   "source": [
    "image = cv2.cvtColor(rgb, cv2.COLOR_BGR2GRAY)"
   ]
  },
  {
   "cell_type": "code",
   "execution_count": 203,
   "metadata": {},
   "outputs": [],
   "source": [
    "def threshold(img, threshpoint):\n",
    "    return np.array([[1 if x >= threshpoint else 0 for x in y] for y in img])"
   ]
  },
  {
   "cell_type": "code",
   "execution_count": 204,
   "metadata": {},
   "outputs": [
    {
     "name": "stdout",
     "output_type": "stream",
     "text": [
      "94.2447\n"
     ]
    }
   ],
   "source": [
    "#trackbar_thresholds(image)\n",
    "\n",
    "#image = cv2.Canny(image, 100, 230)\n",
    "# wykrywanie krawędzi\n",
    "#image = frangi(image, black_ridges=True)\n",
    "image_mean = np.mean(image)\n",
    "\n",
    "wspol = 0.7 * image_mean - 10 # 0 - 15\n",
    "print(wspol)\n",
    "\n",
    "# thresholding\n",
    "ret,image2 = cv2.threshold(image,wspol, 255, cv2.THRESH_BINARY)\n",
    "show_image(image2)\n",
    "\n"
   ]
  },
  {
   "cell_type": "markdown",
   "metadata": {},
   "source": [
    "## Sprawdzenie"
   ]
  },
  {
   "cell_type": "code",
   "execution_count": 205,
   "metadata": {},
   "outputs": [
    {
     "data": {
      "text/plain": [
       "10000"
      ]
     },
     "execution_count": 205,
     "metadata": {},
     "output_type": "execute_result"
    }
   ],
   "source": [
    "global odp\n",
    "odp = cv2.imread('zdjecia/Image_03R_2ndHO.png')\n",
    "odp = cv2.resize(odp, (image_size, image_size))\n",
    "odp = cv2.cvtColor(odp, cv2.COLOR_BGR2GRAY)\n",
    "ret, odp = cv2.threshold(odp,127, 255, cv2.THRESH_BINARY)\n",
    "odp = cv2.bitwise_not(odp)\n",
    "\n",
    "#show_image(odp)\n",
    "max_val = image_size**2\n",
    "max_val"
   ]
  },
  {
   "cell_type": "code",
   "execution_count": 206,
   "metadata": {},
   "outputs": [
    {
     "data": {
      "text/plain": [
       "array([  0, 255], dtype=uint8)"
      ]
     },
     "execution_count": 206,
     "metadata": {},
     "output_type": "execute_result"
    }
   ],
   "source": [
    "np.unique(odp)\n",
    "#show_image(odp)"
   ]
  },
  {
   "cell_type": "code",
   "execution_count": 207,
   "metadata": {},
   "outputs": [],
   "source": [
    "# white == 255 == not vessel\n",
    "# black == 0 == vessel\n",
    "global TP, FP, FN, TN\n",
    "\n",
    "# true-positve (prawdziwie dodatnie)\n",
    "# naczynie uznane jako naczynie\n",
    "def count_TP(actually, result):\n",
    "    i = 0\n",
    "    for odp_, res_ in zip(actually, result):\n",
    "        if (odp_ == 0) and (res_ == 0):\n",
    "            i += 1\n",
    "    return i\n",
    "\n",
    "# false-positive (fałszywie dodatnie)\n",
    "# nie-naczynie uznane jako naczynie\n",
    "def count_FP(actually, result):\n",
    "    \n",
    "    i = 0\n",
    "    for odp_, res_ in zip(actually, result):\n",
    "        if (odp_ == 255) and (res_ == 0):\n",
    "            i += 1\n",
    "    return i\n",
    "\n",
    "# false-negative (fałszywie ujemne)\n",
    "# naczynie uznane jako nie-naczynie\n",
    "def count_FN(actually, result):\n",
    "    i = 0\n",
    "    for odp_, res_ in zip(actually, result):\n",
    "        if (odp_ == 0) and (res_ == 255):\n",
    "            i += 1\n",
    "    return i\n",
    "\n",
    "# true-negative (prawdziwie ujemne)\n",
    "# nie-naczynie uznane jako nie-naczynie\n",
    "def count_TN(actually, result):\n",
    "    i = 0\n",
    "    for odp_, res_ in zip(actually, result):\n",
    "        if (odp_ == 255) and (res_ == 255):\n",
    "            i += 1\n",
    "    return i\n"
   ]
  },
  {
   "cell_type": "code",
   "execution_count": 208,
   "metadata": {},
   "outputs": [
    {
     "name": "stdout",
     "output_type": "stream",
     "text": [
      "TP = 0.0363\n"
     ]
    }
   ],
   "source": [
    "TP = count_TP( np.nditer(odp), np.nditer(image2))\n",
    "print(\"TP = \" + str(TP/max_val))"
   ]
  },
  {
   "cell_type": "code",
   "execution_count": 209,
   "metadata": {},
   "outputs": [
    {
     "name": "stdout",
     "output_type": "stream",
     "text": [
      "FP = 0.3925\n"
     ]
    }
   ],
   "source": [
    "FP = count_FP( np.nditer(odp), np.nditer(image2))\n",
    "print(\"FP = \" + str(FP/max_val))"
   ]
  },
  {
   "cell_type": "code",
   "execution_count": 210,
   "metadata": {},
   "outputs": [
    {
     "name": "stdout",
     "output_type": "stream",
     "text": [
      "FN = 0.0252\n"
     ]
    }
   ],
   "source": [
    "FN = count_FN( np.nditer(odp), np.nditer(image2))\n",
    "print(\"FN = \" + str(FN/max_val))"
   ]
  },
  {
   "cell_type": "code",
   "execution_count": 211,
   "metadata": {},
   "outputs": [
    {
     "name": "stdout",
     "output_type": "stream",
     "text": [
      "TN = 0.546\n"
     ]
    }
   ],
   "source": [
    "TN = count_TN( np.nditer(odp), np.nditer(image2))\n",
    "print(\"TN = \" + str(TN/max_val))"
   ]
  },
  {
   "cell_type": "code",
   "execution_count": 212,
   "metadata": {},
   "outputs": [
    {
     "data": {
      "text/html": [
       "<div>\n",
       "<style scoped>\n",
       "    .dataframe tbody tr th:only-of-type {\n",
       "        vertical-align: middle;\n",
       "    }\n",
       "\n",
       "    .dataframe tbody tr th {\n",
       "        vertical-align: top;\n",
       "    }\n",
       "\n",
       "    .dataframe thead th {\n",
       "        text-align: right;\n",
       "    }\n",
       "</style>\n",
       "<table border=\"1\" class=\"dataframe\">\n",
       "  <thead>\n",
       "    <tr style=\"text-align: right;\">\n",
       "      <th></th>\n",
       "      <th>Actually - Positive</th>\n",
       "      <th>Actually - Negative</th>\n",
       "      <th>Sum</th>\n",
       "    </tr>\n",
       "    <tr>\n",
       "      <th>My Results</th>\n",
       "      <th></th>\n",
       "      <th></th>\n",
       "      <th></th>\n",
       "    </tr>\n",
       "  </thead>\n",
       "  <tbody>\n",
       "    <tr>\n",
       "      <th>Positive</th>\n",
       "      <td>363</td>\n",
       "      <td>3925</td>\n",
       "      <td>4288</td>\n",
       "    </tr>\n",
       "    <tr>\n",
       "      <th>Negative</th>\n",
       "      <td>252</td>\n",
       "      <td>5460</td>\n",
       "      <td>5712</td>\n",
       "    </tr>\n",
       "    <tr>\n",
       "      <th>Sum</th>\n",
       "      <td>615</td>\n",
       "      <td>9385</td>\n",
       "      <td>10000</td>\n",
       "    </tr>\n",
       "  </tbody>\n",
       "</table>\n",
       "</div>"
      ],
      "text/plain": [
       "            Actually - Positive  Actually - Negative    Sum\n",
       "My Results                                                 \n",
       "Positive                    363                 3925   4288\n",
       "Negative                    252                 5460   5712\n",
       "Sum                         615                 9385  10000"
      ]
     },
     "execution_count": 212,
     "metadata": {},
     "output_type": "execute_result"
    }
   ],
   "source": [
    "def confusion_matrix():\n",
    "    names = {\n",
    "        'My Results' : ['Positive', 'Negative', 'Sum'],\n",
    "        'Actually - Positive' : [TP, FN, TP + FN],\n",
    "        'Actually - Negative' : [FP, TN, FP + TN],\n",
    "        'Sum' : [TP + FP, FN + TN, TP + FP + FN + TN]\n",
    "    }\n",
    "    \n",
    "    return pd.DataFrame(names, columns=['My Results', 'Actually - Positive', 'Actually - Negative', 'Sum' ]).set_index('My Results')\n",
    "\n",
    "df_confusion_matrix = confusion_matrix()\n",
    "df_confusion_matrix"
   ]
  },
  {
   "cell_type": "code",
   "execution_count": 213,
   "metadata": {},
   "outputs": [
    {
     "data": {
      "text/plain": [
       "0.5823"
      ]
     },
     "execution_count": 213,
     "metadata": {},
     "output_type": "execute_result"
    }
   ],
   "source": [
    "# trafność\n",
    "def count_accuracy():\n",
    "    return (TP + TN)/(TP + TN + FP + FN)\n",
    "count_accuracy()"
   ]
  },
  {
   "cell_type": "code",
   "execution_count": 214,
   "metadata": {},
   "outputs": [
    {
     "data": {
      "text/plain": [
       "0.5902439024390244"
      ]
     },
     "execution_count": 214,
     "metadata": {},
     "output_type": "execute_result"
    }
   ],
   "source": [
    "# czułość\n",
    "def count_sensitivity():\n",
    "    return TP/(TP + FN)\n",
    "count_sensitivity()"
   ]
  },
  {
   "cell_type": "code",
   "execution_count": 215,
   "metadata": {},
   "outputs": [
    {
     "data": {
      "text/plain": [
       "0.5817794352690463"
      ]
     },
     "execution_count": 215,
     "metadata": {},
     "output_type": "execute_result"
    }
   ],
   "source": [
    "# swoistość\n",
    "def count_specificity():\n",
    "    return TN/(FP + TN)\n",
    "count_specificity()"
   ]
  },
  {
   "cell_type": "markdown",
   "metadata": {},
   "source": [
    "# Część na 5.0"
   ]
  },
  {
   "cell_type": "code",
   "execution_count": 237,
   "metadata": {
    "scrolled": true
   },
   "outputs": [],
   "source": [
    "show_image(image)"
   ]
  },
  {
   "cell_type": "code",
   "execution_count": 253,
   "metadata": {},
   "outputs": [
    {
     "data": {
      "text/html": [
       "<div>\n",
       "<style scoped>\n",
       "    .dataframe tbody tr th:only-of-type {\n",
       "        vertical-align: middle;\n",
       "    }\n",
       "\n",
       "    .dataframe tbody tr th {\n",
       "        vertical-align: top;\n",
       "    }\n",
       "\n",
       "    .dataframe thead th {\n",
       "        text-align: right;\n",
       "    }\n",
       "</style>\n",
       "<table border=\"1\" class=\"dataframe\">\n",
       "  <thead>\n",
       "    <tr style=\"text-align: right;\">\n",
       "      <th></th>\n",
       "      <th>X</th>\n",
       "      <th>Y</th>\n",
       "      <th>Pixel value</th>\n",
       "      <th>Mean for square</th>\n",
       "      <th>Max value for square</th>\n",
       "      <th>Min value for square</th>\n",
       "      <th>Variance</th>\n",
       "      <th>Third central moment</th>\n",
       "      <th>Right value</th>\n",
       "    </tr>\n",
       "  </thead>\n",
       "  <tbody>\n",
       "  </tbody>\n",
       "</table>\n",
       "</div>"
      ],
      "text/plain": [
       "Empty DataFrame\n",
       "Columns: [X, Y, Pixel value, Mean for square, Max value for square, Min value for square, Variance, Third central moment, Right value]\n",
       "Index: []"
      ]
     },
     "execution_count": 253,
     "metadata": {},
     "output_type": "execute_result"
    }
   ],
   "source": [
    "column_names = [\"X\", \"Y\", \"Pixel value\", \"Mean for square\", \"Max value for square\", \"Min value for square\", \"Variance\", \n",
    "               \"Third central moment\", #\"Image moment\", \n",
    "                \"Right value\" ]\n",
    "\n",
    "global df\n",
    "df = pd.DataFrame(columns = column_names)\n",
    "df"
   ]
  },
  {
   "cell_type": "code",
   "execution_count": 254,
   "metadata": {},
   "outputs": [],
   "source": [
    "def workForThisSquare(index, firstCol, firstRow):\n",
    "    lastRow = firstRow + 5\n",
    "    lastCol = firstCol + 5\n",
    "    \n",
    "    X = firstCol + 2\n",
    "    Y = firstRow + 2\n",
    "    PixelValue = image[X, Y]\n",
    "    \n",
    "    smallArray = image[firstRow:lastRow, firstCol:lastCol]\n",
    "    \n",
    "    MeanForSquare = np.mean(smallArray)\n",
    "    MaxValueForSquare = np.max(smallArray)\n",
    "    MinValueForSquare = np.min(smallArray)\n",
    "    Variance = np.var(smallArray)\n",
    "    ThirdCentralMoment = moment(smallArray, moment = 3)\n",
    "    \n",
    "    RightValue = 0 if odp[X, Y] == 255 else 1\n",
    "    \n",
    "    \n",
    "    df.loc[index] = [X, Y, PixelValue, MeanForSquare, MaxValueForSquare, \n",
    "                     MinValueForSquare, Variance, ThirdCentralMoment,RightValue]\n",
    "    \n"
   ]
  },
  {
   "cell_type": "code",
   "execution_count": 255,
   "metadata": {},
   "outputs": [],
   "source": [
    "cols = image.shape[1]\n",
    "rows = image.shape[0]\n",
    "\n",
    "i = 0\n",
    "\n",
    "for c in range(0, cols - 4):\n",
    "    for r in range(0, rows - 4):\n",
    "        workForThisSquare(i, c, r)\n",
    "        i += 1\n",
    "        "
   ]
  },
  {
   "cell_type": "code",
   "execution_count": 256,
   "metadata": {},
   "outputs": [
    {
     "data": {
      "text/html": [
       "<div>\n",
       "<style scoped>\n",
       "    .dataframe tbody tr th:only-of-type {\n",
       "        vertical-align: middle;\n",
       "    }\n",
       "\n",
       "    .dataframe tbody tr th {\n",
       "        vertical-align: top;\n",
       "    }\n",
       "\n",
       "    .dataframe thead th {\n",
       "        text-align: right;\n",
       "    }\n",
       "</style>\n",
       "<table border=\"1\" class=\"dataframe\">\n",
       "  <thead>\n",
       "    <tr style=\"text-align: right;\">\n",
       "      <th></th>\n",
       "      <th>X</th>\n",
       "      <th>Y</th>\n",
       "      <th>Pixel value</th>\n",
       "      <th>Mean for square</th>\n",
       "      <th>Max value for square</th>\n",
       "      <th>Min value for square</th>\n",
       "      <th>Variance</th>\n",
       "      <th>Third central moment</th>\n",
       "      <th>Right value</th>\n",
       "    </tr>\n",
       "  </thead>\n",
       "  <tbody>\n",
       "    <tr>\n",
       "      <th>0</th>\n",
       "      <td>2</td>\n",
       "      <td>2</td>\n",
       "      <td>255</td>\n",
       "      <td>255.0</td>\n",
       "      <td>255</td>\n",
       "      <td>255</td>\n",
       "      <td>0.0</td>\n",
       "      <td>[0.0, 0.0, 0.0, 0.0, 0.0]</td>\n",
       "      <td>0</td>\n",
       "    </tr>\n",
       "    <tr>\n",
       "      <th>1</th>\n",
       "      <td>2</td>\n",
       "      <td>3</td>\n",
       "      <td>255</td>\n",
       "      <td>255.0</td>\n",
       "      <td>255</td>\n",
       "      <td>255</td>\n",
       "      <td>0.0</td>\n",
       "      <td>[0.0, 0.0, 0.0, 0.0, 0.0]</td>\n",
       "      <td>0</td>\n",
       "    </tr>\n",
       "    <tr>\n",
       "      <th>2</th>\n",
       "      <td>2</td>\n",
       "      <td>4</td>\n",
       "      <td>255</td>\n",
       "      <td>255.0</td>\n",
       "      <td>255</td>\n",
       "      <td>255</td>\n",
       "      <td>0.0</td>\n",
       "      <td>[0.0, 0.0, 0.0, 0.0, 0.0]</td>\n",
       "      <td>0</td>\n",
       "    </tr>\n",
       "    <tr>\n",
       "      <th>3</th>\n",
       "      <td>2</td>\n",
       "      <td>5</td>\n",
       "      <td>255</td>\n",
       "      <td>255.0</td>\n",
       "      <td>255</td>\n",
       "      <td>255</td>\n",
       "      <td>0.0</td>\n",
       "      <td>[0.0, 0.0, 0.0, 0.0, 0.0]</td>\n",
       "      <td>0</td>\n",
       "    </tr>\n",
       "    <tr>\n",
       "      <th>4</th>\n",
       "      <td>2</td>\n",
       "      <td>6</td>\n",
       "      <td>255</td>\n",
       "      <td>255.0</td>\n",
       "      <td>255</td>\n",
       "      <td>255</td>\n",
       "      <td>0.0</td>\n",
       "      <td>[0.0, 0.0, 0.0, 0.0, 0.0]</td>\n",
       "      <td>0</td>\n",
       "    </tr>\n",
       "    <tr>\n",
       "      <th>...</th>\n",
       "      <td>...</td>\n",
       "      <td>...</td>\n",
       "      <td>...</td>\n",
       "      <td>...</td>\n",
       "      <td>...</td>\n",
       "      <td>...</td>\n",
       "      <td>...</td>\n",
       "      <td>...</td>\n",
       "      <td>...</td>\n",
       "    </tr>\n",
       "    <tr>\n",
       "      <th>9211</th>\n",
       "      <td>97</td>\n",
       "      <td>93</td>\n",
       "      <td>255</td>\n",
       "      <td>255.0</td>\n",
       "      <td>255</td>\n",
       "      <td>255</td>\n",
       "      <td>0.0</td>\n",
       "      <td>[0.0, 0.0, 0.0, 0.0, 0.0]</td>\n",
       "      <td>0</td>\n",
       "    </tr>\n",
       "    <tr>\n",
       "      <th>9212</th>\n",
       "      <td>97</td>\n",
       "      <td>94</td>\n",
       "      <td>255</td>\n",
       "      <td>255.0</td>\n",
       "      <td>255</td>\n",
       "      <td>255</td>\n",
       "      <td>0.0</td>\n",
       "      <td>[0.0, 0.0, 0.0, 0.0, 0.0]</td>\n",
       "      <td>0</td>\n",
       "    </tr>\n",
       "    <tr>\n",
       "      <th>9213</th>\n",
       "      <td>97</td>\n",
       "      <td>95</td>\n",
       "      <td>255</td>\n",
       "      <td>255.0</td>\n",
       "      <td>255</td>\n",
       "      <td>255</td>\n",
       "      <td>0.0</td>\n",
       "      <td>[0.0, 0.0, 0.0, 0.0, 0.0]</td>\n",
       "      <td>0</td>\n",
       "    </tr>\n",
       "    <tr>\n",
       "      <th>9214</th>\n",
       "      <td>97</td>\n",
       "      <td>96</td>\n",
       "      <td>255</td>\n",
       "      <td>255.0</td>\n",
       "      <td>255</td>\n",
       "      <td>255</td>\n",
       "      <td>0.0</td>\n",
       "      <td>[0.0, 0.0, 0.0, 0.0, 0.0]</td>\n",
       "      <td>0</td>\n",
       "    </tr>\n",
       "    <tr>\n",
       "      <th>9215</th>\n",
       "      <td>97</td>\n",
       "      <td>97</td>\n",
       "      <td>255</td>\n",
       "      <td>255.0</td>\n",
       "      <td>255</td>\n",
       "      <td>255</td>\n",
       "      <td>0.0</td>\n",
       "      <td>[0.0, 0.0, 0.0, 0.0, 0.0]</td>\n",
       "      <td>0</td>\n",
       "    </tr>\n",
       "  </tbody>\n",
       "</table>\n",
       "<p>9216 rows × 9 columns</p>\n",
       "</div>"
      ],
      "text/plain": [
       "       X   Y Pixel value  Mean for square Max value for square  \\\n",
       "0      2   2         255            255.0                  255   \n",
       "1      2   3         255            255.0                  255   \n",
       "2      2   4         255            255.0                  255   \n",
       "3      2   5         255            255.0                  255   \n",
       "4      2   6         255            255.0                  255   \n",
       "...   ..  ..         ...              ...                  ...   \n",
       "9211  97  93         255            255.0                  255   \n",
       "9212  97  94         255            255.0                  255   \n",
       "9213  97  95         255            255.0                  255   \n",
       "9214  97  96         255            255.0                  255   \n",
       "9215  97  97         255            255.0                  255   \n",
       "\n",
       "     Min value for square  Variance       Third central moment Right value  \n",
       "0                     255       0.0  [0.0, 0.0, 0.0, 0.0, 0.0]           0  \n",
       "1                     255       0.0  [0.0, 0.0, 0.0, 0.0, 0.0]           0  \n",
       "2                     255       0.0  [0.0, 0.0, 0.0, 0.0, 0.0]           0  \n",
       "3                     255       0.0  [0.0, 0.0, 0.0, 0.0, 0.0]           0  \n",
       "4                     255       0.0  [0.0, 0.0, 0.0, 0.0, 0.0]           0  \n",
       "...                   ...       ...                        ...         ...  \n",
       "9211                  255       0.0  [0.0, 0.0, 0.0, 0.0, 0.0]           0  \n",
       "9212                  255       0.0  [0.0, 0.0, 0.0, 0.0, 0.0]           0  \n",
       "9213                  255       0.0  [0.0, 0.0, 0.0, 0.0, 0.0]           0  \n",
       "9214                  255       0.0  [0.0, 0.0, 0.0, 0.0, 0.0]           0  \n",
       "9215                  255       0.0  [0.0, 0.0, 0.0, 0.0, 0.0]           0  \n",
       "\n",
       "[9216 rows x 9 columns]"
      ]
     },
     "execution_count": 256,
     "metadata": {},
     "output_type": "execute_result"
    }
   ],
   "source": [
    "df"
   ]
  },
  {
   "cell_type": "code",
   "execution_count": 286,
   "metadata": {},
   "outputs": [
    {
     "data": {
      "text/html": [
       "<div>\n",
       "<style scoped>\n",
       "    .dataframe tbody tr th:only-of-type {\n",
       "        vertical-align: middle;\n",
       "    }\n",
       "\n",
       "    .dataframe tbody tr th {\n",
       "        vertical-align: top;\n",
       "    }\n",
       "\n",
       "    .dataframe thead th {\n",
       "        text-align: right;\n",
       "    }\n",
       "</style>\n",
       "<table border=\"1\" class=\"dataframe\">\n",
       "  <thead>\n",
       "    <tr style=\"text-align: right;\">\n",
       "      <th></th>\n",
       "      <th>Right value</th>\n",
       "    </tr>\n",
       "  </thead>\n",
       "  <tbody>\n",
       "    <tr>\n",
       "      <th>0</th>\n",
       "      <td>0</td>\n",
       "    </tr>\n",
       "    <tr>\n",
       "      <th>1</th>\n",
       "      <td>0</td>\n",
       "    </tr>\n",
       "    <tr>\n",
       "      <th>2</th>\n",
       "      <td>0</td>\n",
       "    </tr>\n",
       "    <tr>\n",
       "      <th>3</th>\n",
       "      <td>0</td>\n",
       "    </tr>\n",
       "    <tr>\n",
       "      <th>4</th>\n",
       "      <td>0</td>\n",
       "    </tr>\n",
       "    <tr>\n",
       "      <th>...</th>\n",
       "      <td>...</td>\n",
       "    </tr>\n",
       "    <tr>\n",
       "      <th>9211</th>\n",
       "      <td>0</td>\n",
       "    </tr>\n",
       "    <tr>\n",
       "      <th>9212</th>\n",
       "      <td>0</td>\n",
       "    </tr>\n",
       "    <tr>\n",
       "      <th>9213</th>\n",
       "      <td>0</td>\n",
       "    </tr>\n",
       "    <tr>\n",
       "      <th>9214</th>\n",
       "      <td>0</td>\n",
       "    </tr>\n",
       "    <tr>\n",
       "      <th>9215</th>\n",
       "      <td>0</td>\n",
       "    </tr>\n",
       "  </tbody>\n",
       "</table>\n",
       "<p>9216 rows × 1 columns</p>\n",
       "</div>"
      ],
      "text/plain": [
       "     Right value\n",
       "0              0\n",
       "1              0\n",
       "2              0\n",
       "3              0\n",
       "4              0\n",
       "...          ...\n",
       "9211           0\n",
       "9212           0\n",
       "9213           0\n",
       "9214           0\n",
       "9215           0\n",
       "\n",
       "[9216 rows x 1 columns]"
      ]
     },
     "execution_count": 286,
     "metadata": {},
     "output_type": "execute_result"
    }
   ],
   "source": [
    "X_cols = [\"Pixel value\", \"Mean for square\", \"Max value for square\", \"Min value for square\", \"Variance\"]\n",
    "               #\"Third central moment\"]\n",
    "y_col = [\"Right value\"]\n",
    "\n",
    "X = df[X_cols]\n",
    "y = df[y_col]\n",
    "\n",
    "y"
   ]
  },
  {
   "cell_type": "code",
   "execution_count": 287,
   "metadata": {},
   "outputs": [],
   "source": [
    "input_shape = X.shape[1]\n",
    "\n",
    "def build_model():\n",
    "    return Sequential([\n",
    "        Dense(32, input_shape=(X.shape[1],), activation='relu'),\n",
    "        Dense(64, activation='relu'),\n",
    "        Dense(1, activation='sigmoid')\n",
    "    ])\n",
    "\n",
    "model = build_model()"
   ]
  },
  {
   "cell_type": "code",
   "execution_count": 299,
   "metadata": {},
   "outputs": [
    {
     "name": "stdout",
     "output_type": "stream",
     "text": [
      "Train on 7372 samples, validate on 1844 samples\n",
      "Epoch 1/20\n",
      "7372/7372 [==============================] - 15s 2ms/sample - loss: 0.3476 - acc: 0.9247 - val_loss: 0.4030 - val_acc: 0.9544\n",
      "Epoch 2/20\n",
      "7372/7372 [==============================] - 8s 1ms/sample - loss: 0.3319 - acc: 0.9255 - val_loss: 0.3679 - val_acc: 0.9544\n",
      "Epoch 3/20\n",
      "7372/7372 [==============================] - 8s 1ms/sample - loss: 0.3290 - acc: 0.9269 - val_loss: 0.3821 - val_acc: 0.9544\n",
      "Epoch 4/20\n",
      "7372/7372 [==============================] - 8s 1ms/sample - loss: 0.3280 - acc: 0.9265 - val_loss: 0.3730 - val_acc: 0.9544\n",
      "Epoch 5/20\n",
      "7372/7372 [==============================] - 8s 1ms/sample - loss: 0.3245 - acc: 0.9274 - val_loss: 0.3908 - val_acc: 0.9544\n",
      "Epoch 6/20\n",
      "7372/7372 [==============================] - 8s 1ms/sample - loss: 0.3207 - acc: 0.9267 - val_loss: 0.3873 - val_acc: 0.9544\n",
      "Epoch 7/20\n",
      "7372/7372 [==============================] - 8s 1ms/sample - loss: 0.3220 - acc: 0.9267 - val_loss: 0.4043 - val_acc: 0.9544\n",
      "Epoch 8/20\n",
      "7372/7372 [==============================] - 8s 1ms/sample - loss: 0.3199 - acc: 0.9272 - val_loss: 0.3910 - val_acc: 0.9544\n",
      "Epoch 9/20\n",
      "7372/7372 [==============================] - 8s 1ms/sample - loss: 0.3211 - acc: 0.9277 - val_loss: 0.3909 - val_acc: 0.9544\n",
      "Epoch 10/20\n",
      "7372/7372 [==============================] - 8s 1ms/sample - loss: 0.3182 - acc: 0.9278 - val_loss: 0.4073 - val_acc: 0.9544\n",
      "Epoch 11/20\n",
      "7372/7372 [==============================] - 8s 1ms/sample - loss: 0.3167 - acc: 0.9274 - val_loss: 0.3758 - val_acc: 0.9544\n",
      "Epoch 12/20\n",
      "7372/7372 [==============================] - 8s 1ms/sample - loss: 0.3168 - acc: 0.9276 - val_loss: 0.3793 - val_acc: 0.9544\n",
      "Epoch 13/20\n",
      "7372/7372 [==============================] - 8s 1ms/sample - loss: 0.3171 - acc: 0.9277 - val_loss: 0.3838 - val_acc: 0.9544\n",
      "Epoch 14/20\n",
      "7372/7372 [==============================] - 7s 1ms/sample - loss: 0.3164 - acc: 0.9277 - val_loss: 0.3848 - val_acc: 0.9544\n",
      "Epoch 15/20\n",
      "7372/7372 [==============================] - 8s 1ms/sample - loss: 0.3151 - acc: 0.9278 - val_loss: 0.3717 - val_acc: 0.9544\n",
      "Epoch 16/20\n",
      "7372/7372 [==============================] - 8s 1ms/sample - loss: 0.3166 - acc: 0.9276 - val_loss: 0.3879 - val_acc: 0.9544\n",
      "Epoch 17/20\n",
      "7372/7372 [==============================] - 8s 1ms/sample - loss: 0.3146 - acc: 0.9280 - val_loss: 0.3828 - val_acc: 0.9544\n",
      "Epoch 18/20\n",
      "7372/7372 [==============================] - 8s 1ms/sample - loss: 0.3138 - acc: 0.9280 - val_loss: 0.3703 - val_acc: 0.9544\n",
      "Epoch 19/20\n",
      "7372/7372 [==============================] - 8s 1ms/sample - loss: 0.3130 - acc: 0.9280 - val_loss: 0.3881 - val_acc: 0.9544\n",
      "Epoch 20/20\n",
      "7372/7372 [==============================] - 8s 1ms/sample - loss: 0.3139 - acc: 0.9280 - val_loss: 0.3724 - val_acc: 0.9544\n"
     ]
    }
   ],
   "source": [
    "X_train = X[:7500]\n",
    "y_train = y[:7500]\n",
    "\n",
    "model.compile(loss='binary_crossentropy',\n",
    "              optimizer='adam',\n",
    "              metrics=['accuracy'])\n",
    "#metrics.confusion_matrix(y_test, y_pred)\n",
    "model_history = model.fit(X, y,\n",
    "          epochs=20,\n",
    "          batch_size = 20,validation_split=0.20)"
   ]
  },
  {
   "cell_type": "code",
   "execution_count": null,
   "metadata": {},
   "outputs": [],
   "source": []
  },
  {
   "cell_type": "code",
   "execution_count": null,
   "metadata": {},
   "outputs": [],
   "source": []
  }
 ],
 "metadata": {
  "kernelspec": {
   "display_name": "Python 3",
   "language": "python",
   "name": "python3"
  },
  "language_info": {
   "codemirror_mode": {
    "name": "ipython",
    "version": 3
   },
   "file_extension": ".py",
   "mimetype": "text/x-python",
   "name": "python",
   "nbconvert_exporter": "python",
   "pygments_lexer": "ipython3",
   "version": "3.6.7"
  }
 },
 "nbformat": 4,
 "nbformat_minor": 2
}
