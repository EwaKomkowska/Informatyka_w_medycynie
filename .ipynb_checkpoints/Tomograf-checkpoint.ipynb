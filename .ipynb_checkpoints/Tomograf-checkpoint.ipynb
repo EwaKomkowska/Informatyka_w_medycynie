{
 "cells": [
  {
   "cell_type": "code",
   "execution_count": 26,
   "metadata": {},
   "outputs": [],
   "source": [
    "import numpy as np\n",
    "import imageio\n",
    "from PIL import Image\n",
    "\n",
    "import math\n",
    "from math import fabs"
   ]
  },
  {
   "cell_type": "markdown",
   "metadata": {},
   "source": [
    "### Wczytanie zdjęcia"
   ]
  },
  {
   "cell_type": "code",
   "execution_count": 20,
   "metadata": {},
   "outputs": [],
   "source": [
    "image = imageio.imread('Zdjecia/Kolo.jpg')"
   ]
  },
  {
   "cell_type": "markdown",
   "metadata": {},
   "source": [
    "### Rozmiar zdjęcia"
   ]
  },
  {
   "cell_type": "code",
   "execution_count": 21,
   "metadata": {},
   "outputs": [
    {
     "data": {
      "text/plain": [
       "(400, 400, 3)"
      ]
     },
     "execution_count": 21,
     "metadata": {},
     "output_type": "execute_result"
    }
   ],
   "source": [
    "image.shape"
   ]
  },
  {
   "cell_type": "markdown",
   "metadata": {},
   "source": [
    "### Zapisanie wysokości i szerokości zdjęcia"
   ]
  },
  {
   "cell_type": "code",
   "execution_count": 22,
   "metadata": {},
   "outputs": [],
   "source": [
    "n_x = len(image)\n",
    "n_y = len(image[0])"
   ]
  },
  {
   "cell_type": "markdown",
   "metadata": {},
   "source": [
    "### Utworzenia nowej tablicy (image_m) o wymiarach n_x i n_y, ale będzie ona przechowywała tylko jedną wartość (ponieważ dla odcień szarość R=G=B)"
   ]
  },
  {
   "cell_type": "code",
   "execution_count": 14,
   "metadata": {},
   "outputs": [],
   "source": [
    "image_m = [ [ None for y in range( n_y ) ] for x in range( n_x ) ]\n",
    "\n",
    "for x in range(n_x):\n",
    "    for y in range(n_y):\n",
    "        image_m[x][y] = image[x][y][0]"
   ]
  },
  {
   "cell_type": "markdown",
   "metadata": {},
   "source": [
    "### Rozmiar tablicy"
   ]
  },
  {
   "cell_type": "code",
   "execution_count": 15,
   "metadata": {},
   "outputs": [
    {
     "data": {
      "text/plain": [
       "(876, 1053)"
      ]
     },
     "execution_count": 15,
     "metadata": {},
     "output_type": "execute_result"
    }
   ],
   "source": [
    "np.shape(image_m)"
   ]
  },
  {
   "cell_type": "markdown",
   "metadata": {},
   "source": [
    "### Ogólny algorytm Bresenhama "
   ]
  },
  {
   "cell_type": "markdown",
   "metadata": {},
   "source": [
    "### Zapalanie piksela - rysowanie lini"
   ]
  },
  {
   "cell_type": "code",
   "execution_count": 16,
   "metadata": {},
   "outputs": [],
   "source": [
    "def zapalPiksel(x,y, kolor=\"czarny\"):\n",
    "    if kolor==\"czarny\":\n",
    "        wartosc = 255\n",
    "    elif kolor==\"bialy\":\n",
    "        wartosc=0\n",
    "        \n",
    "    #image_m[x][y] = wartosc\n",
    "    image[x][y] = [wartosc, wartosc, wartosc]"
   ]
  },
  {
   "cell_type": "markdown",
   "metadata": {},
   "source": [
    "#### Wersja algorytmu z przestawionymi współrzędnymi - dla kątów > 45"
   ]
  },
  {
   "cell_type": "code",
   "execution_count": 51,
   "metadata": {},
   "outputs": [],
   "source": [
    "def algPrzedstWspol(x1, y1, x2, y2, kx, ky, dx, dy):\n",
    "#K16: \te ← dy / 2 \t; wersja algorytmu Bresenhama ze zamienionymi współrzędnymi x i y\n",
    "    e = dy/2\n",
    "    for i in range(int(dy)):\n",
    "#K17: \tPowtarzaj dy razy kroki K18...K23 \n",
    "#K18: \t    y1 ← y1 + ky\n",
    "        y1 = y1 + ky\n",
    "#K19: \t    e ← e - dx \n",
    "        e = e - dx\n",
    "#K20: \t    Jeżeli e ≥ 0, idź do kroku K23 \t \n",
    "        if(e>=0):\n",
    "            zapalPiksel(x1, y1)\n",
    "        else:\n",
    "#K21: \t    x1 ← x1 + kx \t \n",
    "            x1 = x1 + kx\n",
    "#K22: \t    e ← e + dy \t \n",
    "            e = e + dy\n",
    "#K23: \t    Zapal piksel x1,y1 \t \n",
    "            zapalPiksel(x1, y2)"
   ]
  },
  {
   "cell_type": "markdown",
   "metadata": {},
   "source": [
    "#### Algorytm + wersja dla kątów <= 45"
   ]
  },
  {
   "cell_type": "code",
   "execution_count": 52,
   "metadata": {},
   "outputs": [],
   "source": [
    "### Ogólny algorytm Bresenhama\n",
    "###############\n",
    "def algBresenhama(x1,y1,x2,y2):\n",
    "#K01: \tJeżeli x1 ≤ x2, to kx ← 1, inaczej kx ← -1 \t; określamy krok X od x1 do x2\n",
    "    if(x1<=x2):\n",
    "        kx = 1\n",
    "    else:\n",
    "        kx = -1\n",
    "#K02: \tJeżeli y1 ≤ y2, to ky ← 1, inaczej ky ← -1 \t; określamy krok Y od y1 do y2\n",
    "    if(y1<=y2):\n",
    "        ky = 1\n",
    "    else:\n",
    "        ky = -1\n",
    "#K03: \tdx ← |x2 - x1| \t; odległość pomiędzy x1 i x2\n",
    "    dx = math.fabs(x2 - x1)\n",
    "#K04: \tdy ← |y2 - y1| \t; odległość pomiędzy y1 i y2\n",
    "    dy = math.fabs(y2 - y1)\n",
    "#K05: \tZapal piksel x1,y1 \t; pierwszy piksel odcinka\n",
    "    zapalPiksel(x1, y1)\n",
    "#K06: \tJeżeli dx < dy, idź do kroku K16 \t; dla kątów > 45° wykonujemy wersję algorytmu z przestawionymi współrzędnymi\n",
    "    if(dx < dy):\n",
    "        algPrzedstWspol(x1, y1, x2, y2, kx, ky, dx, dy)\n",
    "    else:\n",
    "#K07: \te ← dx / 2 \t; obliczamy wartość początkową wyrażenia błędu\n",
    "        e = (dx/2)\n",
    "#K08: \tPowtarzaj dx razy kroki K09...K14 \t; rysujemy pozostałe piksele w pętli\n",
    "        for i in range(int(dx)):\n",
    "#K09: \t    x1 ← x1 + kx \t; przesuwamy się w odpowiednią stronę w kierunku szybkim\n",
    "            x1 = x1 + kx\n",
    "#K10: \t    e ← e - dy \t; obliczamy wyrażenie błędu\n",
    "            e = e - dy\n",
    "#K11: \t    Jeżeli e ≥ 0, idź do kroku K14 \t; jeśli wyrażenie błędu jest nieujemne, pomijamy ruch w kierunku wolnym\n",
    "            if(e>0):\n",
    "                zapalPiksel(x1, y1)\n",
    "            else:\n",
    "#K12: \t    y1 ← y1 + ky \t; przesuwamy się w odpowiednią stronę w kierunku wolnym\n",
    "                y1 = y1 + ky\n",
    "#K13: \t    e ← e + dx \t; obliczamy nowe wyrażenie błędu\n",
    "                e = e + dx\n",
    "#K14: \t    Zapal piksel x1.y1 \t; kolejny piksel odcinka\n",
    "                zapalPiksel(x1, y1)"
   ]
  },
  {
   "cell_type": "markdown",
   "metadata": {},
   "source": [
    "### Zapisanie obrazu z tablicy do wersji graficznej .png, oraz wyświetlenie"
   ]
  },
  {
   "cell_type": "code",
   "execution_count": 50,
   "metadata": {},
   "outputs": [],
   "source": [
    "img = Image.fromarray(image, 'RGB')\n",
    "img.save('my.png')\n",
    "img.show()"
   ]
  },
  {
   "cell_type": "code",
   "execution_count": 49,
   "metadata": {},
   "outputs": [],
   "source": [
    "# narysowanie lini - (x1, y1,x2, y2)\n",
    "algBresenhama(10,100,200,399)"
   ]
  },
  {
   "cell_type": "code",
   "execution_count": null,
   "metadata": {},
   "outputs": [],
   "source": []
  }
 ],
 "metadata": {
  "kernelspec": {
   "display_name": "Python 3",
   "language": "python",
   "name": "python3"
  },
  "language_info": {
   "codemirror_mode": {
    "name": "ipython",
    "version": 3
   },
   "file_extension": ".py",
   "mimetype": "text/x-python",
   "name": "python",
   "nbconvert_exporter": "python",
   "pygments_lexer": "ipython3",
   "version": "3.6.7"
  }
 },
 "nbformat": 4,
 "nbformat_minor": 2
}
