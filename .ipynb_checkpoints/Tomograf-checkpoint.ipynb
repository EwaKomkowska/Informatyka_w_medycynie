{
 "cells": [
  {
   "cell_type": "code",
   "execution_count": 121,
   "metadata": {},
   "outputs": [],
   "source": [
    "import numpy as np\n",
    "import imageio\n",
    "from PIL import Image\n",
    "\n",
    "import math\n",
    "from math import fabs"
   ]
  },
  {
   "cell_type": "code",
   "execution_count": 122,
   "metadata": {},
   "outputs": [],
   "source": [
    "ilosc_katow = 100\n",
    "ilosc_emiterow = 100\n",
    "l = 400 #odleglosc od emitera nr 1 do emitera nr ilosc_emiterow"
   ]
  },
  {
   "cell_type": "markdown",
   "metadata": {},
   "source": [
    "### Wczytanie zdjęcia"
   ]
  },
  {
   "cell_type": "code",
   "execution_count": 123,
   "metadata": {},
   "outputs": [],
   "source": [
    "image = imageio.imread('Zdjecia/Kolo.jpg')"
   ]
  },
  {
   "cell_type": "markdown",
   "metadata": {},
   "source": [
    "### Rozmiar zdjęcia"
   ]
  },
  {
   "cell_type": "code",
   "execution_count": 124,
   "metadata": {},
   "outputs": [
    {
     "data": {
      "text/plain": [
       "(400, 400, 3)"
      ]
     },
     "execution_count": 124,
     "metadata": {},
     "output_type": "execute_result"
    }
   ],
   "source": [
    "image.shape"
   ]
  },
  {
   "cell_type": "markdown",
   "metadata": {},
   "source": [
    "### Zapisanie wysokości i szerokości zdjęcia"
   ]
  },
  {
   "cell_type": "code",
   "execution_count": 125,
   "metadata": {},
   "outputs": [
    {
     "data": {
      "text/plain": [
       "(400, 400)"
      ]
     },
     "execution_count": 125,
     "metadata": {},
     "output_type": "execute_result"
    }
   ],
   "source": [
    "n_x = len(image)\n",
    "n_y = len(image[0])\n",
    "\n",
    "n_x, n_y"
   ]
  },
  {
   "cell_type": "markdown",
   "metadata": {},
   "source": [
    "### Ogólny algorytm Bresenhama "
   ]
  },
  {
   "cell_type": "markdown",
   "metadata": {},
   "source": [
    "### Zapalanie piksela - rysowanie lini"
   ]
  },
  {
   "cell_type": "code",
   "execution_count": 126,
   "metadata": {},
   "outputs": [],
   "source": [
    "def zapalPiksel(x,y, kolor=\"czarny\"):\n",
    "    if kolor==\"czarny\":\n",
    "        wartosc = 255\n",
    "    elif kolor==\"bialy\":\n",
    "        wartosc=0\n",
    "        \n",
    "    #image_m[x][y] = wartosc\n",
    "    image[x][y] = [wartosc, wartosc, wartosc]"
   ]
  },
  {
   "cell_type": "code",
   "execution_count": 127,
   "metadata": {},
   "outputs": [],
   "source": [
    "def zczytajPiksel(nr_emitera, nr_kata, x, y):\n",
    "    sinog[nr_emitera][nr_kata] += image[x][y][0]"
   ]
  },
  {
   "cell_type": "markdown",
   "metadata": {},
   "source": [
    "### Algorytm"
   ]
  },
  {
   "cell_type": "code",
   "execution_count": 128,
   "metadata": {},
   "outputs": [],
   "source": [
    "### Ogólny algorytm Bresenhama\n",
    "###############\n",
    "def algBresenhama(nr_emitera, nr_kata, x1,y1,x2,y2):\n",
    "#K01: \tJeżeli x1 ≤ x2, to kx ← 1, inaczej kx ← -1 \t; określamy krok X od x1 do x2\n",
    "    if(x1<=x2):\n",
    "        kx = 1\n",
    "    else:\n",
    "        kx = -1\n",
    "#K02: \tJeżeli y1 ≤ y2, to ky ← 1, inaczej ky ← -1 \t; określamy krok Y od y1 do y2\n",
    "    if(y1<=y2):\n",
    "        ky = 1\n",
    "    else:\n",
    "        ky = -1\n",
    "#K03: \tdx ← |x2 - x1| \t; odległość pomiędzy x1 i x2\n",
    "    dx = math.fabs(x2 - x1)\n",
    "#K04: \tdy ← |y2 - y1| \t; odległość pomiędzy y1 i y2\n",
    "    dy = math.fabs(y2 - y1)\n",
    "#K05: \tZapal piksel x1,y1 \t; pierwszy piksel odcinka\n",
    "    zapalPiksel(x1, y1)\n",
    "#K06: \tJeżeli dx < dy, idź do kroku K16 \t; dla kątów > 45° wykonujemy wersję algorytmu z przestawionymi współrzędnymi\n",
    "    if(dx < dy):\n",
    "        #K16: \te ← dy / 2 \t; wersja algorytmu Bresenhama ze zamienionymi współrzędnymi x i y\n",
    "        e = dy/2\n",
    "        for i in range(int(dy)):\n",
    "#K17: \tPowtarzaj dy razy kroki K18...K23 \n",
    "#K18: \t    y1 ← y1 + ky\n",
    "            y1 = y1 + ky\n",
    "#K19: \t    e ← e - dx \n",
    "            e = e - dx\n",
    "#K20: \t    Jeżeli e ≥ 0, idź do kroku K23 \t \n",
    "            if(e>=0):\n",
    "                l_op_sinog[nr_emitera][nr_kata] += 1\n",
    "                zczytajPiksel(nr_emitera, nr_kata, x1,y1)\n",
    "                #zapalPiksel(x1, y1)\n",
    "            else:\n",
    "#K21: \t    x1 ← x1 + kx \t \n",
    "                x1 = x1 + kx\n",
    "#K22: \t    e ← e + dy \t \n",
    "                e = e + dy\n",
    "#K23: \t    Zapal piksel x1,y1 \t \n",
    "                l_op_sinog[nr_emitera][nr_kata] += 1\n",
    "                zczytajPiksel(nr_emitera, nr_kata, x1,y1)\n",
    "                #zapalPiksel(x1, y2)\n",
    "    else:\n",
    "#K07: \te ← dx / 2 \t; obliczamy wartość początkową wyrażenia błędu\n",
    "        e = (dx/2)\n",
    "#K08: \tPowtarzaj dx razy kroki K09...K14 \t; rysujemy pozostałe piksele w pętli\n",
    "        for i in range(int(dx)):\n",
    "#K09: \t    x1 ← x1 + kx \t; przesuwamy się w odpowiednią stronę w kierunku szybkim\n",
    "            x1 = x1 + kx\n",
    "#K10: \t    e ← e - dy \t; obliczamy wyrażenie błędu\n",
    "            e = e - dy\n",
    "#K11: \t    Jeżeli e ≥ 0, idź do kroku K14 \t; jeśli wyrażenie błędu jest nieujemne, pomijamy ruch w kierunku wolnym\n",
    "            if(e>0):\n",
    "                l_op_sinog[nr_emitera][nr_kata] += 1\n",
    "                zczytajPiksel(nr_emitera, nr_kata, x1,y1)\n",
    "                #zapalPiksel(x1, y1)\n",
    "            else:\n",
    "#K12: \t    y1 ← y1 + ky \t; przesuwamy się w odpowiednią stronę w kierunku wolnym\n",
    "                y1 = y1 + ky\n",
    "#K13: \t    e ← e + dx \t; obliczamy nowe wyrażenie błędu\n",
    "                e = e + dx\n",
    "#K14: \t    Zapal piksel x1.y1 \t; kolejny piksel odcinka\n",
    "                l_op_sinog[nr_emitera][nr_kata] += 1\n",
    "                zczytajPiksel(nr_emitera, nr_kata, x1,y1)\n",
    "                #zapalPiksel(x1, y1)"
   ]
  },
  {
   "cell_type": "markdown",
   "metadata": {},
   "source": [
    "### Zapisanie obrazu z tablicy do wersji graficznej .png, oraz wyświetlenie"
   ]
  },
  {
   "cell_type": "code",
   "execution_count": 129,
   "metadata": {},
   "outputs": [],
   "source": [
    "# sinogram_array = np.asarray(sinogram)\n",
    "def arrayToImage(arr, form='L'):\n",
    "    img = Image.fromarray(arr, form)\n",
    "    img.save('my.png')\n",
    "    img.show()"
   ]
  },
  {
   "cell_type": "markdown",
   "metadata": {},
   "source": [
    "### Sinogram"
   ]
  },
  {
   "cell_type": "code",
   "execution_count": 130,
   "metadata": {},
   "outputs": [],
   "source": [
    "# suma pikseli dla kazdego [emiter][kat]\n",
    "sinog = [ [ 0 for y in range( ilosc_katow ) ] for x in range( ilosc_emiterow ) ]\n",
    "# ilosc skladnikow odpowiadajaca kazdej komorce z tablicy sinog\n",
    "l_op_sinog = [ [ 0 for y in range( ilosc_katow ) ] for x in range( ilosc_emiterow ) ]\n",
    "# wartosc srednia dla kazdego [emiter][kat] -> sinog/l_op_sinog\n",
    "sinogram = [ [ 0 for y in range( ilosc_katow ) ] for x in range( ilosc_emiterow ) ]"
   ]
  },
  {
   "cell_type": "code",
   "execution_count": 131,
   "metadata": {},
   "outputs": [],
   "source": [
    "# polozenie emiterow odbiorczych\n",
    "\n",
    "x_em = [ None for x in range(ilosc_emiterow + 1)]\n",
    "y_em = [ None for y in range(ilosc_emiterow + 1)]\n",
    "\n",
    "def ustaw_polozenie_emiterow_odb(bok):\n",
    "    odstep = int(n_y/(ilosc_emiterow-1))\n",
    "    dod = 0\n",
    "    if bok==0:\n",
    "        for i in range(1, ilosc_emiterow+1):\n",
    "            x_em[i] = n_y - 1\n",
    "            y_em[i] = 0 + dod\n",
    "            dod += odstep\n",
    "    elif bok==1:\n",
    "        for i in range(1, ilosc_emiterow+1):\n",
    "            x_em[i] = 0 + dod\n",
    "            y_em[i] = 0\n",
    "            dod += odstep\n",
    "    if bok==2:\n",
    "        for i in range(1, ilosc_emiterow+1):\n",
    "            x_em[i] = 0\n",
    "            y_em[i] = 0 + dod\n",
    "            dod += odstep\n",
    "    elif bok==3:\n",
    "        for i in range(1, ilosc_emiterow+1):\n",
    "            x_em[i] = 0 + dod\n",
    "            y_em[i] = n_x - 1\n",
    "            dod += odstep"
   ]
  },
  {
   "cell_type": "code",
   "execution_count": 132,
   "metadata": {},
   "outputs": [],
   "source": [
    "def ustaw_emiter_glowny(bok, przesuniecie=0):\n",
    "#położenie początkowe emitera głównego\n",
    "    if bok==0:\n",
    "        y_em[0] = przesuniecie\n",
    "        x_em[0] = 0\n",
    "    elif bok==1:\n",
    "        y_em[0] = n_y-1\n",
    "        x_em[0] = przesuniecie\n",
    "    elif bok==2:\n",
    "        y_em[0] = przesuniecie\n",
    "        x_em[0] = n_x -1\n",
    "    elif bok==3:\n",
    "        y_em[0] = 0\n",
    "        x_em[0] = przesuniecie"
   ]
  },
  {
   "cell_type": "code",
   "execution_count": 133,
   "metadata": {},
   "outputs": [],
   "source": [
    "def norma_res_to_sinogram():\n",
    "    for k in range(ilosc_katow):\n",
    "        for e in range(ilosc_emiterow):\n",
    "            try:\n",
    "                val = int(round(sinog[e][k]/l_op_sinog[e][k]))\n",
    "            except:\n",
    "                val = 0\n",
    "            sinogram[e][k] = val"
   ]
  },
  {
   "cell_type": "code",
   "execution_count": 134,
   "metadata": {},
   "outputs": [],
   "source": [
    "#for i in range(ilosc_katow):\n",
    " #   ustaw_emiter_glowny(i)\n",
    "  #  for em in range(ilosc_emiterow):\n",
    "   #     algBresenhama(em, i, x_em[0], y_em[0], x_em[em+1], y_em[em+1])\n",
    "    #norma_res_to_sinogram()"
   ]
  },
  {
   "cell_type": "code",
   "execution_count": 144,
   "metadata": {},
   "outputs": [],
   "source": [
    "ustaw_polozenie_emiterow_odb(0)\n",
    "ods = 0\n",
    "przes = int(n_y/ilosc_katow)\n",
    "for i in range(ilosc_katow):\n",
    "    ustaw_emiter_glowny(0, ods)\n",
    "    for em in range(ilosc_emiterow):\n",
    "        algBresenhama(em, i, x_em[0], y_em[0], x_em[em+1], y_em[em+1])\n",
    "    norma_res_to_sinogram()\n",
    "    ods += przes\n",
    "\n",
    "sinogram_array = np.asarray(sinogram)\n",
    "arrayToImage(sinogram_array, form=\"L\")"
   ]
  },
  {
   "cell_type": "code",
   "execution_count": 150,
   "metadata": {},
   "outputs": [
    {
     "data": {
      "text/plain": [
       "array([[ 0,  0,  0, ..., 46, 47, 46],\n",
       "       [ 0,  0,  0, ..., 47, 47, 47],\n",
       "       [ 0,  0,  0, ..., 47, 47, 47],\n",
       "       ...,\n",
       "       [93, 93, 94, ..., 50, 50, 50],\n",
       "       [93, 94, 94, ..., 49, 49, 49],\n",
       "       [93, 93, 93, ..., 49, 49, 49]])"
      ]
     },
     "execution_count": 150,
     "metadata": {},
     "output_type": "execute_result"
    }
   ],
   "source": [
    "sinogram_array = np.asarray(sinogram)\n",
    "sinogram_array.shape\n",
    "sinogram_array"
   ]
  },
  {
   "cell_type": "code",
   "execution_count": 151,
   "metadata": {},
   "outputs": [],
   "source": [
    "arrayToImage(sinogram_array, form=\"L\")"
   ]
  },
  {
   "cell_type": "code",
   "execution_count": 146,
   "metadata": {},
   "outputs": [
    {
     "data": {
      "text/plain": [
       "[0,\n",
       " 399,\n",
       " 399,\n",
       " 399,\n",
       " 399,\n",
       " 399,\n",
       " 399,\n",
       " 399,\n",
       " 399,\n",
       " 399,\n",
       " 399,\n",
       " 399,\n",
       " 399,\n",
       " 399,\n",
       " 399,\n",
       " 399,\n",
       " 399,\n",
       " 399,\n",
       " 399,\n",
       " 399,\n",
       " 399,\n",
       " 399,\n",
       " 399,\n",
       " 399,\n",
       " 399,\n",
       " 399,\n",
       " 399,\n",
       " 399,\n",
       " 399,\n",
       " 399,\n",
       " 399,\n",
       " 399,\n",
       " 399,\n",
       " 399,\n",
       " 399,\n",
       " 399,\n",
       " 399,\n",
       " 399,\n",
       " 399,\n",
       " 399,\n",
       " 399,\n",
       " 399,\n",
       " 399,\n",
       " 399,\n",
       " 399,\n",
       " 399,\n",
       " 399,\n",
       " 399,\n",
       " 399,\n",
       " 399,\n",
       " 399,\n",
       " 399,\n",
       " 399,\n",
       " 399,\n",
       " 399,\n",
       " 399,\n",
       " 399,\n",
       " 399,\n",
       " 399,\n",
       " 399,\n",
       " 399,\n",
       " 399,\n",
       " 399,\n",
       " 399,\n",
       " 399,\n",
       " 399,\n",
       " 399,\n",
       " 399,\n",
       " 399,\n",
       " 399,\n",
       " 399,\n",
       " 399,\n",
       " 399,\n",
       " 399,\n",
       " 399,\n",
       " 399,\n",
       " 399,\n",
       " 399,\n",
       " 399,\n",
       " 399,\n",
       " 399,\n",
       " 399,\n",
       " 399,\n",
       " 399,\n",
       " 399,\n",
       " 399,\n",
       " 399,\n",
       " 399,\n",
       " 399,\n",
       " 399,\n",
       " 399,\n",
       " 399,\n",
       " 399,\n",
       " 399,\n",
       " 399,\n",
       " 399,\n",
       " 399,\n",
       " 399,\n",
       " 399,\n",
       " 399,\n",
       " 399]"
      ]
     },
     "execution_count": 146,
     "metadata": {},
     "output_type": "execute_result"
    }
   ],
   "source": [
    "x_em"
   ]
  },
  {
   "cell_type": "code",
   "execution_count": 147,
   "metadata": {},
   "outputs": [
    {
     "data": {
      "text/plain": [
       "[396,\n",
       " 0,\n",
       " 4,\n",
       " 8,\n",
       " 12,\n",
       " 16,\n",
       " 20,\n",
       " 24,\n",
       " 28,\n",
       " 32,\n",
       " 36,\n",
       " 40,\n",
       " 44,\n",
       " 48,\n",
       " 52,\n",
       " 56,\n",
       " 60,\n",
       " 64,\n",
       " 68,\n",
       " 72,\n",
       " 76,\n",
       " 80,\n",
       " 84,\n",
       " 88,\n",
       " 92,\n",
       " 96,\n",
       " 100,\n",
       " 104,\n",
       " 108,\n",
       " 112,\n",
       " 116,\n",
       " 120,\n",
       " 124,\n",
       " 128,\n",
       " 132,\n",
       " 136,\n",
       " 140,\n",
       " 144,\n",
       " 148,\n",
       " 152,\n",
       " 156,\n",
       " 160,\n",
       " 164,\n",
       " 168,\n",
       " 172,\n",
       " 176,\n",
       " 180,\n",
       " 184,\n",
       " 188,\n",
       " 192,\n",
       " 196,\n",
       " 200,\n",
       " 204,\n",
       " 208,\n",
       " 212,\n",
       " 216,\n",
       " 220,\n",
       " 224,\n",
       " 228,\n",
       " 232,\n",
       " 236,\n",
       " 240,\n",
       " 244,\n",
       " 248,\n",
       " 252,\n",
       " 256,\n",
       " 260,\n",
       " 264,\n",
       " 268,\n",
       " 272,\n",
       " 276,\n",
       " 280,\n",
       " 284,\n",
       " 288,\n",
       " 292,\n",
       " 296,\n",
       " 300,\n",
       " 304,\n",
       " 308,\n",
       " 312,\n",
       " 316,\n",
       " 320,\n",
       " 324,\n",
       " 328,\n",
       " 332,\n",
       " 336,\n",
       " 340,\n",
       " 344,\n",
       " 348,\n",
       " 352,\n",
       " 356,\n",
       " 360,\n",
       " 364,\n",
       " 368,\n",
       " 372,\n",
       " 376,\n",
       " 380,\n",
       " 384,\n",
       " 388,\n",
       " 392,\n",
       " 396]"
      ]
     },
     "execution_count": 147,
     "metadata": {},
     "output_type": "execute_result"
    }
   ],
   "source": [
    "y_em"
   ]
  },
  {
   "cell_type": "code",
   "execution_count": 149,
   "metadata": {},
   "outputs": [
    {
     "data": {
      "text/plain": [
       "798"
      ]
     },
     "execution_count": 149,
     "metadata": {},
     "output_type": "execute_result"
    }
   ],
   "source": [
    "l_op_sinog[1][3]"
   ]
  },
  {
   "cell_type": "code",
   "execution_count": null,
   "metadata": {},
   "outputs": [],
   "source": []
  }
 ],
 "metadata": {
  "kernelspec": {
   "display_name": "Python 3",
   "language": "python",
   "name": "python3"
  },
  "language_info": {
   "codemirror_mode": {
    "name": "ipython",
    "version": 3
   },
   "file_extension": ".py",
   "mimetype": "text/x-python",
   "name": "python",
   "nbconvert_exporter": "python",
   "pygments_lexer": "ipython3",
   "version": "3.6.7"
  }
 },
 "nbformat": 4,
 "nbformat_minor": 2
}
