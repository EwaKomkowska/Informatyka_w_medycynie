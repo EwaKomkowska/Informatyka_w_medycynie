{
 "cells": [
  {
   "cell_type": "code",
   "execution_count": 199,
   "metadata": {},
   "outputs": [],
   "source": [
    "import numpy as np\n",
    "import imageio\n",
    "from PIL import Image\n",
    "\n",
    "import math\n",
    "from math import fabs"
   ]
  },
  {
   "cell_type": "code",
   "execution_count": 218,
   "metadata": {},
   "outputs": [],
   "source": [
    "ilosc_katow = 10 #kolumny\n",
    "ilosc_emiterow = 50 #wiersze\n",
    "l = 350 #odleglosc od emitera nr 1 do emitera nr ilosc_emiterow"
   ]
  },
  {
   "cell_type": "markdown",
   "metadata": {},
   "source": [
    "### Wczytanie zdjęcia"
   ]
  },
  {
   "cell_type": "code",
   "execution_count": 219,
   "metadata": {},
   "outputs": [],
   "source": [
    "image = imageio.imread('Zdjecia/SADDLE_PE.JPG')"
   ]
  },
  {
   "cell_type": "markdown",
   "metadata": {},
   "source": [
    "### Rozmiar zdjęcia"
   ]
  },
  {
   "cell_type": "code",
   "execution_count": 220,
   "metadata": {},
   "outputs": [
    {
     "data": {
      "text/plain": [
       "(876, 1053, 3)"
      ]
     },
     "execution_count": 220,
     "metadata": {},
     "output_type": "execute_result"
    }
   ],
   "source": [
    "image.shape"
   ]
  },
  {
   "cell_type": "markdown",
   "metadata": {},
   "source": [
    "### Zapisanie wysokości i szerokości zdjęcia"
   ]
  },
  {
   "cell_type": "code",
   "execution_count": 221,
   "metadata": {},
   "outputs": [
    {
     "data": {
      "text/plain": [
       "(876, 1053)"
      ]
     },
     "execution_count": 221,
     "metadata": {},
     "output_type": "execute_result"
    }
   ],
   "source": [
    "n_x = len(image)\n",
    "n_y = len(image[0])\n",
    "\n",
    "n_x, n_y"
   ]
  },
  {
   "cell_type": "markdown",
   "metadata": {},
   "source": [
    "### Ogólny algorytm Bresenhama "
   ]
  },
  {
   "cell_type": "markdown",
   "metadata": {},
   "source": [
    "### Zapalanie piksela - rysowanie lini"
   ]
  },
  {
   "cell_type": "code",
   "execution_count": 222,
   "metadata": {},
   "outputs": [],
   "source": [
    "def zapalPiksel(x,y, kolor=\"czarny\"):\n",
    "    if kolor==\"czarny\":\n",
    "        wartosc = 255\n",
    "    elif kolor==\"bialy\":\n",
    "        wartosc=0\n",
    "        \n",
    "    #image_m[x][y] = wartosc\n",
    "    image[x][y] = [wartosc, wartosc, wartosc]"
   ]
  },
  {
   "cell_type": "code",
   "execution_count": 240,
   "metadata": {},
   "outputs": [],
   "source": [
    "def zczytajPiksel(nr_emitera, nr_kata, x, y):\n",
    "    try:\n",
    "        sinog[nr_emitera][nr_kata] += image[x][y][0]\n",
    "    except:\n",
    "        pass"
   ]
  },
  {
   "cell_type": "markdown",
   "metadata": {},
   "source": [
    "### Algorytm"
   ]
  },
  {
   "cell_type": "code",
   "execution_count": 296,
   "metadata": {},
   "outputs": [],
   "source": [
    "### Ogólny algorytm Bresenhama\n",
    "###############\n",
    "def algBresenhama(nr_emitera, nr_kata, x1,y1,x2,y2):\n",
    "#K01: \tJeżeli x1 ≤ x2, to kx ← 1, inaczej kx ← -1 \t; określamy krok X od x1 do x2\n",
    "    if(x1<=x2):\n",
    "        kx = 1\n",
    "    else:\n",
    "        kx = -1\n",
    "#K02: \tJeżeli y1 ≤ y2, to ky ← 1, inaczej ky ← -1 \t; określamy krok Y od y1 do y2\n",
    "    if(y1<=y2):\n",
    "        ky = 1\n",
    "    else:\n",
    "        ky = -1\n",
    "#K03: \tdx ← |x2 - x1| \t; odległość pomiędzy x1 i x2\n",
    "    dx = math.fabs(x2 - x1)\n",
    "#K04: \tdy ← |y2 - y1| \t; odległość pomiędzy y1 i y2\n",
    "    dy = math.fabs(y2 - y1)\n",
    "#K05: \tZapal piksel x1,y1 \t; pierwszy piksel odcinka\n",
    "    #zapalPiksel(x1, y1)\n",
    "#K06: \tJeżeli dx < dy, idź do kroku K16 \t; dla kątów > 45° wykonujemy wersję algorytmu z przestawionymi współrzędnymi\n",
    "    if(dx < dy):\n",
    "        #K16: \te ← dy / 2 \t; wersja algorytmu Bresenhama ze zamienionymi współrzędnymi x i y\n",
    "        e = dy/2\n",
    "        for i in range(int(dy)):\n",
    "#K17: \tPowtarzaj dy razy kroki K18...K23 \n",
    "#K18: \t    y1 ← y1 + ky\n",
    "            y1 = y1 + ky\n",
    "#K19: \t    e ← e - dx \n",
    "            e = e - dx\n",
    "#K20: \t    Jeżeli e ≥ 0, idź do kroku K23 \t \n",
    "            if(e>=0):\n",
    "                try:\n",
    "                    l_op_sinog[nr_emitera][nr_kata] += 1\n",
    "                    zczytajPiksel(nr_emitera, nr_kata, x1,y1)\n",
    "                except:\n",
    "                    pass\n",
    "                #zapalPiksel(x1, y1)\n",
    "            else:\n",
    "#K21: \t    x1 ← x1 + kx \t \n",
    "                x1 = x1 + kx\n",
    "#K22: \t    e ← e + dy \t \n",
    "                e = e + dy\n",
    "#K23: \t    Zapal piksel x1,y1 \t \n",
    "                try:\n",
    "                    l_op_sinog[nr_emitera][nr_kata] += 1\n",
    "                    zczytajPiksel(nr_emitera, nr_kata, x1,y1)\n",
    "                except:\n",
    "                    pass\n",
    "                #zapalPiksel(x1, y2)\n",
    "    else:\n",
    "#K07: \te ← dx / 2 \t; obliczamy wartość początkową wyrażenia błędu\n",
    "        e = (dx/2)\n",
    "#K08: \tPowtarzaj dx razy kroki K09...K14 \t; rysujemy pozostałe piksele w pętli\n",
    "        for i in range(int(dx)):\n",
    "#K09: \t    x1 ← x1 + kx \t; przesuwamy się w odpowiednią stronę w kierunku szybkim\n",
    "            x1 = x1 + kx\n",
    "#K10: \t    e ← e - dy \t; obliczamy wyrażenie błędu\n",
    "            e = e - dy\n",
    "#K11: \t    Jeżeli e ≥ 0, idź do kroku K14 \t; jeśli wyrażenie błędu jest nieujemne, pomijamy ruch w kierunku wolnym\n",
    "            if(e>0):\n",
    "                try:\n",
    "                    l_op_sinog[nr_emitera][nr_kata] += 1\n",
    "                    zczytajPiksel(nr_emitera, nr_kata, x1,y1)\n",
    "                except:\n",
    "                    pass\n",
    "                #zapalPiksel(x1, y1)\n",
    "            else:\n",
    "#K12: \t    y1 ← y1 + ky \t; przesuwamy się w odpowiednią stronę w kierunku wolnym\n",
    "                y1 = y1 + ky\n",
    "#K13: \t    e ← e + dx \t; obliczamy nowe wyrażenie błędu\n",
    "                e = e + dx\n",
    "#K14: \t    Zapal piksel x1.y1 \t; kolejny piksel odcinka\n",
    "                try:\n",
    "                    l_op_sinog[nr_emitera][nr_kata] += 1\n",
    "                    zczytajPiksel(nr_emitera, nr_kata, x1,y1)\n",
    "                except:\n",
    "                    pass\n",
    "                #zapalPiksel(x1, y1)"
   ]
  },
  {
   "cell_type": "markdown",
   "metadata": {},
   "source": [
    "### Zapisanie obrazu z tablicy do wersji graficznej .png, oraz wyświetlenie"
   ]
  },
  {
   "cell_type": "code",
   "execution_count": 297,
   "metadata": {},
   "outputs": [],
   "source": [
    "# sinogram_array = np.asarray(sinogram)\n",
    "def arrayToImage(arr, form='L'):\n",
    "    img = Image.fromarray(arr, form)\n",
    "    img.save('my.png')\n",
    "    img.show()"
   ]
  },
  {
   "cell_type": "markdown",
   "metadata": {},
   "source": [
    "### Sinogram"
   ]
  },
  {
   "cell_type": "code",
   "execution_count": 298,
   "metadata": {},
   "outputs": [],
   "source": [
    "# suma pikseli dla kazdego [emiter][kat]\n",
    "sinog = [ [ 0 for y in range( ilosc_katow ) ] for x in range( ilosc_emiterow ) ]\n",
    "# ilosc skladnikow odpowiadajaca kazdej komorce z tablicy sinog\n",
    "l_op_sinog = [ [ 0 for y in range( ilosc_katow ) ] for x in range( ilosc_emiterow ) ]\n",
    "# wartosc srednia dla kazdego [emiter][kat] -> sinog/l_op_sinog\n",
    "sinogram = [ [ 0 for y in range( ilosc_katow ) ] for x in range( ilosc_emiterow ) ]"
   ]
  },
  {
   "cell_type": "code",
   "execution_count": 299,
   "metadata": {},
   "outputs": [
    {
     "data": {
      "text/plain": [
       "(50, 10)"
      ]
     },
     "execution_count": 299,
     "metadata": {},
     "output_type": "execute_result"
    }
   ],
   "source": [
    "len(sinog), len(sinog[0])"
   ]
  },
  {
   "cell_type": "code",
   "execution_count": 300,
   "metadata": {},
   "outputs": [],
   "source": [
    "# polozenie emiterow odbiorczych\n",
    "\n",
    "x_em = [ None for x in range(ilosc_emiterow + 1)]\n",
    "y_em = [ None for y in range(ilosc_emiterow + 1)]\n",
    "\n",
    "def ustaw_polozenie_emiterow_odb(bok):\n",
    "    odstep = int(n_y/(ilosc_emiterow-1))\n",
    "    dod = 0\n",
    "    if bok==0:\n",
    "        for i in range(1, ilosc_emiterow+1):\n",
    "            x_em[i] = n_y - 1\n",
    "            y_em[i] = 0 + dod\n",
    "            dod += odstep\n",
    "    elif bok==1:\n",
    "        for i in range(1, ilosc_emiterow+1):\n",
    "            x_em[i] = 0 + dod\n",
    "            y_em[i] = 0\n",
    "            dod += odstep\n",
    "    elif bok==2:\n",
    "        for i in range(1, ilosc_emiterow+1):\n",
    "            x_em[i] = 0\n",
    "            y_em[i] = 0 + dod\n",
    "            dod += odstep\n",
    "    elif bok==3:\n",
    "        for i in range(1, ilosc_emiterow+1):\n",
    "            x_em[i] = 0 + dod\n",
    "            y_em[i] = n_x - 1\n",
    "            dod += odstep"
   ]
  },
  {
   "cell_type": "code",
   "execution_count": 301,
   "metadata": {},
   "outputs": [],
   "source": [
    "def ustaw_emiter_glowny(bok, przesuniecie=0):\n",
    "#położenie początkowe emitera głównego\n",
    "    if bok==0:\n",
    "        y_em[0] = przesuniecie\n",
    "        x_em[0] = 0\n",
    "    elif bok==1:\n",
    "        y_em[0] = n_y-1\n",
    "        x_em[0] = przesuniecie\n",
    "    elif bok==2:\n",
    "        y_em[0] = przesuniecie\n",
    "        x_em[0] = n_x -1\n",
    "    elif bok==3:\n",
    "        y_em[0] = 0\n",
    "        x_em[0] = przesuniecie"
   ]
  },
  {
   "cell_type": "code",
   "execution_count": 302,
   "metadata": {},
   "outputs": [],
   "source": [
    "def norma_res_to_sinogram():\n",
    "    for k in range(ilosc_katow):\n",
    "        for e in range(ilosc_emiterow):\n",
    "            try:\n",
    "                val = int(round(sinog[e][k]/l_op_sinog[e][k]))\n",
    "            except:\n",
    "                val = 0\n",
    "            sinogram[e][k] = val"
   ]
  },
  {
   "cell_type": "code",
   "execution_count": 303,
   "metadata": {},
   "outputs": [],
   "source": [
    "#for i in range(ilosc_katow):\n",
    " #   ustaw_emiter_glowny(i)\n",
    "  #  for em in range(ilosc_emiterow):\n",
    "   #     algBresenhama(em, i, x_em[0], y_em[0], x_em[em+1], y_em[em+1])\n",
    "    #norma_res_to_sinogram()"
   ]
  },
  {
   "cell_type": "code",
   "execution_count": 304,
   "metadata": {},
   "outputs": [],
   "source": [
    "for bok in range(4):\n",
    "    ustaw_polozenie_emiterow_odb(bok)\n",
    "    ods = 0\n",
    "    przes = int(n_y/ilosc_katow)\n",
    "    for i in range(ilosc_katow):\n",
    "        ustaw_emiter_glowny(bok, ods)\n",
    "        for em in range(ilosc_emiterow):\n",
    "            algBresenhama(em, i, x_em[0], y_em[0], x_em[em+1], y_em[em+1])\n",
    "        ods += przes\n",
    "norma_res_to_sinogram()\n",
    "        \n",
    "\n",
    "sinogram_array = np.asarray(sinogram)\n",
    "arrayToImage(sinogram_array, form=\"L\")"
   ]
  },
  {
   "cell_type": "code",
   "execution_count": 305,
   "metadata": {},
   "outputs": [
    {
     "data": {
      "text/plain": [
       "array([[ 24,  56,  53,  29,  35,  71,  74,  79,  73,  61],\n",
       "       [ 24,  70,  45,  29,  39,  71,  78,  79,  69,  65],\n",
       "       [ 25,  82,  40,  28,  42,  74,  81,  79,  69,  63],\n",
       "       [ 28,  71,  38,  31,  47,  76,  82,  82,  69,  63],\n",
       "       [ 40,  70,  39,  35,  51,  77,  83,  83,  68,  66],\n",
       "       [ 55,  60,  37,  37,  58,  77,  83,  82,  69,  67],\n",
       "       [ 74,  55,  32,  40,  61,  72,  83,  77,  69,  66],\n",
       "       [ 74,  53,  33,  44,  61,  70,  85,  77,  74,  68],\n",
       "       [ 68,  46,  30,  46,  64,  74,  89,  77,  74,  71],\n",
       "       [ 54,  45,  35,  48,  65,  74,  87,  77,  74,  75],\n",
       "       [ 43,  41,  37,  52,  65,  77,  87,  78,  75,  80],\n",
       "       [ 42,  38,  42,  57,  64,  81,  88,  77,  74,  83],\n",
       "       [ 38,  34,  45,  59,  67,  81,  89,  79,  76,  84],\n",
       "       [ 33,  38,  47,  60,  67,  82,  85,  81,  73,  86],\n",
       "       [ 30,  40,  47,  59,  73,  85,  82,  82,  76,  86],\n",
       "       [ 30,  46,  48,  55,  78,  92,  84,  80,  83,  80],\n",
       "       [ 33,  50,  52,  54,  84,  96,  83,  79,  83,  76],\n",
       "       [ 39,  52,  56,  59,  86,  95,  83,  79,  81,  69],\n",
       "       [ 40,  50,  56,  66,  88,  96,  83,  76,  80,  70],\n",
       "       [ 41,  51,  59,  73,  84,  96,  79,  77,  81,  70],\n",
       "       [ 44,  51,  62,  80,  95,  95,  79,  78,  77,  64],\n",
       "       [ 47,  54,  66,  81, 100,  89,  77,  78,  73,  61],\n",
       "       [ 49,  60,  68,  83, 102,  88,  75,  80,  65,  56],\n",
       "       [ 52,  68,  73,  86,  96,  91,  73,  82,  60,  56],\n",
       "       [ 54,  76,  73,  86,  91,  88,  71,  77,  56,  58],\n",
       "       [ 59,  79,  78,  85,  93,  83,  75,  65,  53,  57],\n",
       "       [ 65,  80,  75,  81,  93,  81,  75,  60,  52,  54],\n",
       "       [ 72,  79,  76,  80,  89,  80,  68,  64,  52,  56],\n",
       "       [ 78,  80,  76,  87,  88,  80,  64,  63,  51,  56],\n",
       "       [ 82,  76,  71,  87,  84,  79,  57,  65,  55,  54],\n",
       "       [ 82,  72,  70,  88,  82,  76,  51,  63,  60,  57],\n",
       "       [ 80,  71,  71,  89,  78,  77,  55,  62,  62,  64],\n",
       "       [ 78,  71,  71,  86,  77,  76,  57,  62,  60,  69],\n",
       "       [ 78,  71,  72,  80,  79,  73,  64,  66,  62,  69],\n",
       "       [ 73,  68,  76,  78,  81,  75,  67,  70,  60,  70],\n",
       "       [ 72,  69,  69,  77,  82,  74,  65,  74,  64,  71],\n",
       "       [ 70,  73,  66,  77,  80,  72,  65,  77,  57,  65],\n",
       "       [ 71,  69,  67,  79,  79,  71,  64,  82,  54,  67],\n",
       "       [ 72,  65,  66,  80,  83,  73,  67,  78,  48,  65],\n",
       "       [ 70,  62,  66,  79,  85,  70,  65,  70,  44,  62],\n",
       "       [ 64,  60,  68,  81,  84,  66,  53,  65,  44,  71],\n",
       "       [ 65,  63,  72,  85,  88,  68,  59,  74, 108,  65],\n",
       "       [ 65,  64,  77,  86,  91,  68,  65,  79, 110,  43],\n",
       "       [ 63,  64,  78,  87,  88,  66,  63,  70,  87,  32],\n",
       "       [ 59,  64,  77,  86,  81,  61,  60,  61,  77,  15],\n",
       "       [ 58,  66,  78,  84,  77,  57,  59,  58,  68,  16],\n",
       "       [ 59,  66,  79,  88,  71,  50,  57,  62,  65,  19],\n",
       "       [ 59,  65,  79,  84,  67,  45,  61,  58,  62,  17],\n",
       "       [ 60,  64,  79,  80,  61,  43,  60,  56,  57,  18],\n",
       "       [ 63,  66,  80,  74,  58,  41,  62,  56,  51,  17]])"
      ]
     },
     "execution_count": 305,
     "metadata": {},
     "output_type": "execute_result"
    }
   ],
   "source": [
    "sinogram_array = np.asarray(sinogram)\n",
    "sinogram_array.shape\n",
    "sinogram_array"
   ]
  },
  {
   "cell_type": "code",
   "execution_count": 151,
   "metadata": {},
   "outputs": [],
   "source": [
    "arrayToImage(sinogram_array)"
   ]
  },
  {
   "cell_type": "code",
   "execution_count": 146,
   "metadata": {},
   "outputs": [
    {
     "data": {
      "text/plain": [
       "[0,\n",
       " 399,\n",
       " 399,\n",
       " 399,\n",
       " 399,\n",
       " 399,\n",
       " 399,\n",
       " 399,\n",
       " 399,\n",
       " 399,\n",
       " 399,\n",
       " 399,\n",
       " 399,\n",
       " 399,\n",
       " 399,\n",
       " 399,\n",
       " 399,\n",
       " 399,\n",
       " 399,\n",
       " 399,\n",
       " 399,\n",
       " 399,\n",
       " 399,\n",
       " 399,\n",
       " 399,\n",
       " 399,\n",
       " 399,\n",
       " 399,\n",
       " 399,\n",
       " 399,\n",
       " 399,\n",
       " 399,\n",
       " 399,\n",
       " 399,\n",
       " 399,\n",
       " 399,\n",
       " 399,\n",
       " 399,\n",
       " 399,\n",
       " 399,\n",
       " 399,\n",
       " 399,\n",
       " 399,\n",
       " 399,\n",
       " 399,\n",
       " 399,\n",
       " 399,\n",
       " 399,\n",
       " 399,\n",
       " 399,\n",
       " 399,\n",
       " 399,\n",
       " 399,\n",
       " 399,\n",
       " 399,\n",
       " 399,\n",
       " 399,\n",
       " 399,\n",
       " 399,\n",
       " 399,\n",
       " 399,\n",
       " 399,\n",
       " 399,\n",
       " 399,\n",
       " 399,\n",
       " 399,\n",
       " 399,\n",
       " 399,\n",
       " 399,\n",
       " 399,\n",
       " 399,\n",
       " 399,\n",
       " 399,\n",
       " 399,\n",
       " 399,\n",
       " 399,\n",
       " 399,\n",
       " 399,\n",
       " 399,\n",
       " 399,\n",
       " 399,\n",
       " 399,\n",
       " 399,\n",
       " 399,\n",
       " 399,\n",
       " 399,\n",
       " 399,\n",
       " 399,\n",
       " 399,\n",
       " 399,\n",
       " 399,\n",
       " 399,\n",
       " 399,\n",
       " 399,\n",
       " 399,\n",
       " 399,\n",
       " 399,\n",
       " 399,\n",
       " 399,\n",
       " 399,\n",
       " 399]"
      ]
     },
     "execution_count": 146,
     "metadata": {},
     "output_type": "execute_result"
    }
   ],
   "source": [
    "x_em"
   ]
  },
  {
   "cell_type": "code",
   "execution_count": 147,
   "metadata": {},
   "outputs": [
    {
     "data": {
      "text/plain": [
       "[396,\n",
       " 0,\n",
       " 4,\n",
       " 8,\n",
       " 12,\n",
       " 16,\n",
       " 20,\n",
       " 24,\n",
       " 28,\n",
       " 32,\n",
       " 36,\n",
       " 40,\n",
       " 44,\n",
       " 48,\n",
       " 52,\n",
       " 56,\n",
       " 60,\n",
       " 64,\n",
       " 68,\n",
       " 72,\n",
       " 76,\n",
       " 80,\n",
       " 84,\n",
       " 88,\n",
       " 92,\n",
       " 96,\n",
       " 100,\n",
       " 104,\n",
       " 108,\n",
       " 112,\n",
       " 116,\n",
       " 120,\n",
       " 124,\n",
       " 128,\n",
       " 132,\n",
       " 136,\n",
       " 140,\n",
       " 144,\n",
       " 148,\n",
       " 152,\n",
       " 156,\n",
       " 160,\n",
       " 164,\n",
       " 168,\n",
       " 172,\n",
       " 176,\n",
       " 180,\n",
       " 184,\n",
       " 188,\n",
       " 192,\n",
       " 196,\n",
       " 200,\n",
       " 204,\n",
       " 208,\n",
       " 212,\n",
       " 216,\n",
       " 220,\n",
       " 224,\n",
       " 228,\n",
       " 232,\n",
       " 236,\n",
       " 240,\n",
       " 244,\n",
       " 248,\n",
       " 252,\n",
       " 256,\n",
       " 260,\n",
       " 264,\n",
       " 268,\n",
       " 272,\n",
       " 276,\n",
       " 280,\n",
       " 284,\n",
       " 288,\n",
       " 292,\n",
       " 296,\n",
       " 300,\n",
       " 304,\n",
       " 308,\n",
       " 312,\n",
       " 316,\n",
       " 320,\n",
       " 324,\n",
       " 328,\n",
       " 332,\n",
       " 336,\n",
       " 340,\n",
       " 344,\n",
       " 348,\n",
       " 352,\n",
       " 356,\n",
       " 360,\n",
       " 364,\n",
       " 368,\n",
       " 372,\n",
       " 376,\n",
       " 380,\n",
       " 384,\n",
       " 388,\n",
       " 392,\n",
       " 396]"
      ]
     },
     "execution_count": 147,
     "metadata": {},
     "output_type": "execute_result"
    }
   ],
   "source": [
    "y_em"
   ]
  },
  {
   "cell_type": "code",
   "execution_count": 149,
   "metadata": {},
   "outputs": [
    {
     "data": {
      "text/plain": [
       "798"
      ]
     },
     "execution_count": 149,
     "metadata": {},
     "output_type": "execute_result"
    }
   ],
   "source": [
    "l_op_sinog[1][3]"
   ]
  },
  {
   "cell_type": "code",
   "execution_count": null,
   "metadata": {},
   "outputs": [],
   "source": []
  }
 ],
 "metadata": {
  "kernelspec": {
   "display_name": "Python 3",
   "language": "python",
   "name": "python3"
  },
  "language_info": {
   "codemirror_mode": {
    "name": "ipython",
    "version": 3
   },
   "file_extension": ".py",
   "mimetype": "text/x-python",
   "name": "python",
   "nbconvert_exporter": "python",
   "pygments_lexer": "ipython3",
   "version": "3.6.7"
  }
 },
 "nbformat": 4,
 "nbformat_minor": 2
}
