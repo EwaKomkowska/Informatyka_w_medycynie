{
 "cells": [
  {
   "cell_type": "code",
   "execution_count": 3,
   "metadata": {
    "colab": {},
    "colab_type": "code",
    "id": "aO-_jLxYJKoV"
   },
   "outputs": [],
   "source": [
    "import numpy as np\n",
    "import imageio\n",
    "import matplotlib.pyplot as plt\n",
    "from PIL import Image\n",
    "\n",
    "import math\n",
    "from math import fabs\n",
    "\n",
    "import scipy.ndimage\n",
    "from scipy import misc"
   ]
  },
  {
   "cell_type": "code",
   "execution_count": 4,
   "metadata": {
    "colab": {},
    "colab_type": "code",
    "id": "QTdS_GxiJRfD"
   },
   "outputs": [],
   "source": [
    "ilosc_katow = 1 #kolumny\n",
    "ilosc_emiterow = 31 #wiersze\n",
    "#l = 350 #odleglosc od detektora nr 1 do ostatniego detektora"
   ]
  },
  {
   "cell_type": "code",
   "execution_count": 62,
   "metadata": {
    "colab": {},
    "colab_type": "code",
    "id": "H5P3IsVKJfBO"
   },
   "outputs": [],
   "source": [
    "image = imageio.imread('./tomograf-zdjecia/Kolo.jpg')"
   ]
  },
  {
   "cell_type": "code",
   "execution_count": 6,
   "metadata": {
    "colab": {
     "base_uri": "https://localhost:8080/",
     "height": 34
    },
    "colab_type": "code",
    "executionInfo": {
     "elapsed": 1187,
     "status": "ok",
     "timestamp": 1584266246907,
     "user": {
      "displayName": "Bea Ta",
      "photoUrl": "",
      "userId": "13358070497250286950"
     },
     "user_tz": -60
    },
    "id": "SDPDMSy6JkUJ",
    "outputId": "ea9929d7-2212-402e-d078-e76469ba19a1"
   },
   "outputs": [
    {
     "data": {
      "text/plain": [
       "(400, 400)"
      ]
     },
     "execution_count": 6,
     "metadata": {},
     "output_type": "execute_result"
    }
   ],
   "source": [
    "n_y = len(image)\n",
    "n_x = len(image[0])\n",
    "\n",
    "n_x, n_y"
   ]
  },
  {
   "cell_type": "code",
   "execution_count": 7,
   "metadata": {
    "colab": {},
    "colab_type": "code",
    "id": "anHrT2diJrWu"
   },
   "outputs": [],
   "source": [
    "# poczatkowa pozycja emitera\n",
    "em_y0 = 0\n",
    "em_x0 = int(n_x/2)"
   ]
  },
  {
   "cell_type": "code",
   "execution_count": 8,
   "metadata": {
    "colab": {
     "base_uri": "https://localhost:8080/",
     "height": 34
    },
    "colab_type": "code",
    "executionInfo": {
     "elapsed": 597,
     "status": "ok",
     "timestamp": 1584274587929,
     "user": {
      "displayName": "Bea Ta",
      "photoUrl": "",
      "userId": "13358070497250286950"
     },
     "user_tz": -60
    },
    "id": "2GWDzHI9J7yG",
    "outputId": "e61453d9-a054-4dcb-a183-ca65d7d5e7dd"
   },
   "outputs": [
    {
     "data": {
      "text/plain": [
       "((200, 0), (200, 399))"
      ]
     },
     "execution_count": 8,
     "metadata": {},
     "output_type": "execute_result"
    }
   ],
   "source": [
    "# poczatkowa pozycja pierwszego detektora jeśli jest ich nieparzyście\n",
    "det_x0 = em_x0\n",
    "det_y0 = n_y - 1\n",
    "\n",
    "(em_x0, em_y0), (det_x0, det_y0)"
   ]
  },
  {
   "cell_type": "code",
   "execution_count": 9,
   "metadata": {
    "colab": {},
    "colab_type": "code",
    "id": "rkTI65YkKkro"
   },
   "outputs": [],
   "source": [
    "def zapalPiksel(x,y, kolor=\"czarny\"):\n",
    "    if kolor==\"czarny\":\n",
    "        wartosc = 255\n",
    "    elif kolor==\"bialy\":\n",
    "        wartosc=0\n",
    "        \n",
    "    #image_m[x][y] = wartosc\n",
    "    try:\n",
    "      image[x][y] = [wartosc, wartosc, wartosc]\n",
    "    except:\n",
    "      pass"
   ]
  },
  {
   "cell_type": "code",
   "execution_count": 10,
   "metadata": {
    "colab": {},
    "colab_type": "code",
    "id": "wmwPQY5vKnbT"
   },
   "outputs": [],
   "source": [
    "### Ogólny algorytm Bresenhama\n",
    "###############\n",
    "def algBresenhama(nr_emitera, nr_kata, x1,y1,x2,y2):\n",
    "#K01: \tJeżeli x1 ≤ x2, to kx ← 1, inaczej kx ← -1 \t; określamy krok X od x1 do x2\n",
    "    if(x1<=x2):\n",
    "        kx = 1\n",
    "    else:\n",
    "        kx = -1\n",
    "#K02: \tJeżeli y1 ≤ y2, to ky ← 1, inaczej ky ← -1 \t; określamy krok Y od y1 do y2\n",
    "    if(y1<=y2):\n",
    "        ky = 1\n",
    "    else:\n",
    "        ky = -1\n",
    "#K03: \tdx ← |x2 - x1| \t; odległość pomiędzy x1 i x2\n",
    "    dx = math.fabs(x2 - x1)\n",
    "#K04: \tdy ← |y2 - y1| \t; odległość pomiędzy y1 i y2\n",
    "    dy = math.fabs(y2 - y1)\n",
    "#K05: \tZapal piksel x1,y1 \t; pierwszy piksel odcinka\n",
    "    zapalPiksel(x1, y1)\n",
    "#K06: \tJeżeli dx < dy, idź do kroku K16 \t; dla kątów > 45° wykonujemy wersję algorytmu z przestawionymi współrzędnymi\n",
    "    if(dx < dy):\n",
    "        #K16: \te ← dy / 2 \t; wersja algorytmu Bresenhama ze zamienionymi współrzędnymi x i y\n",
    "        e = dy/2\n",
    "        for i in range(int(dy)):\n",
    "#K17: \tPowtarzaj dy razy kroki K18...K23 \n",
    "#K18: \t    y1 ← y1 + ky\n",
    "            y1 = y1 + ky\n",
    "#K19: \t    e ← e - dx \n",
    "            e = e - dx\n",
    "#K20: \t    Jeżeli e ≥ 0, idź do kroku K23 \t \n",
    "            if(e>=0):\n",
    "                try:\n",
    "                    #l_op_sinog[nr_emitera][nr_kata] += 1\n",
    "                    #zczytajPiksel(nr_emitera, nr_kata, x1,y1)\n",
    "                    zapalPiksel(x1, y1)\n",
    "                except:\n",
    "                    pass\n",
    "                zapalPiksel(x1, y1)\n",
    "            else:\n",
    "#K21: \t    x1 ← x1 + kx \t \n",
    "                x1 = x1 + kx\n",
    "#K22: \t    e ← e + dy \t \n",
    "                e = e + dy\n",
    "#K23: \t    Zapal piksel x1,y1 \t \n",
    "                try:\n",
    "                    #l_op_sinog[nr_emitera][nr_kata] += 1\n",
    "                    #zczytajPiksel(nr_emitera, nr_kata, x1,y1)\n",
    "                    zapalPiksel(x1, y1)\n",
    "                except:\n",
    "                    pass\n",
    "                zapalPiksel(x1, y2)\n",
    "    else:\n",
    "#K07: \te ← dx / 2 \t; obliczamy wartość początkową wyrażenia błędu\n",
    "        e = (dx/2)\n",
    "#K08: \tPowtarzaj dx razy kroki K09...K14 \t; rysujemy pozostałe piksele w pętli\n",
    "        for i in range(int(dx)):\n",
    "#K09: \t    x1 ← x1 + kx \t; przesuwamy się w odpowiednią stronę w kierunku szybkim\n",
    "            x1 = x1 + kx\n",
    "#K10: \t    e ← e - dy \t; obliczamy wyrażenie błędu\n",
    "            e = e - dy\n",
    "#K11: \t    Jeżeli e ≥ 0, idź do kroku K14 \t; jeśli wyrażenie błędu jest nieujemne, pomijamy ruch w kierunku wolnym\n",
    "            if(e>0):\n",
    "                try:\n",
    "                    #l_op_sinog[nr_emitera][nr_kata] += 1\n",
    "                    #zczytajPiksel(nr_emitera, nr_kata, x1,y1)\n",
    "                    zapalPiksel(x1, y1)\n",
    "                except:\n",
    "                    pass\n",
    "                zapalPiksel(x1, y1)\n",
    "            else:\n",
    "#K12: \t    y1 ← y1 + ky \t; przesuwamy się w odpowiednią stronę w kierunku wolnym\n",
    "                y1 = y1 + ky\n",
    "#K13: \t    e ← e + dx \t; obliczamy nowe wyrażenie błędu\n",
    "                e = e + dx\n",
    "#K14: \t    Zapal piksel x1.y1 \t; kolejny piksel odcinka\n",
    "                try:\n",
    "                    #l_op_sinog[nr_emitera][nr_kata] += 1\n",
    "                    #zczytajPiksel(nr_emitera, nr_kata, x1,y1)\n",
    "                    zapalPiksel(x1, y1)\n",
    "                except:\n",
    "                    pass\n",
    "                zapalPiksel(x1, y1)"
   ]
  },
  {
   "cell_type": "code",
   "execution_count": 11,
   "metadata": {
    "colab": {},
    "colab_type": "code",
    "id": "HtZRvw_EKtIq"
   },
   "outputs": [],
   "source": [
    "algBresenhama(1, 1, em_y0, em_x0, det_y0, det_x0) # ___, ____, y1, x1, y2, x2"
   ]
  },
  {
   "cell_type": "code",
   "execution_count": 12,
   "metadata": {
    "colab": {},
    "colab_type": "code",
    "id": "ToBoiFYhLMlo"
   },
   "outputs": [],
   "source": [
    "#for x in range(len(image)):\n",
    " # for y in range(len(image[x])):\n",
    "  #  image[x][y] = image[x][y][0]"
   ]
  },
  {
   "cell_type": "code",
   "execution_count": 13,
   "metadata": {
    "colab": {},
    "colab_type": "code",
    "id": "iZZfRTx5LR1x"
   },
   "outputs": [],
   "source": [
    "def arrayToImage(arr, form='RGB'):\n",
    "    return Image.fromarray(arr, form)\n",
    "    #img.save('my.png')\n",
    "    #img.show()"
   ]
  },
  {
   "cell_type": "code",
   "execution_count": 14,
   "metadata": {
    "colab": {
     "base_uri": "https://localhost:8080/",
     "height": 286
    },
    "colab_type": "code",
    "executionInfo": {
     "elapsed": 1177,
     "status": "ok",
     "timestamp": 1584266474771,
     "user": {
      "displayName": "Bea Ta",
      "photoUrl": "",
      "userId": "13358070497250286950"
     },
     "user_tz": -60
    },
    "id": "_ij_zNA3LjzJ",
    "outputId": "97a4eee9-61bb-4bc0-b5c4-9e6fa0f4b74d"
   },
   "outputs": [
    {
     "data": {
      "text/plain": [
       "<matplotlib.image.AxesImage at 0x2043d6fce48>"
      ]
     },
     "execution_count": 14,
     "metadata": {},
     "output_type": "execute_result"
    },
    {
     "data": {
      "image/png": "[encoded data removed]",
      "text/plain": [
       "<Figure size 432x288 with 1 Axes>"
      ]
     },
     "metadata": {
      "needs_background": "light"
     },
     "output_type": "display_data"
    }
   ],
   "source": [
    "plt.imshow(image)"
   ]
  },
  {
   "cell_type": "code",
   "execution_count": 15,
   "metadata": {
    "colab": {
     "base_uri": "https://localhost:8080/",
     "height": 34
    },
    "colab_type": "code",
    "executionInfo": {
     "elapsed": 634,
     "status": "ok",
     "timestamp": 1584266476467,
     "user": {
      "displayName": "Bea Ta",
      "photoUrl": "",
      "userId": "13358070497250286950"
     },
     "user_tz": -60
    },
    "id": "KW-BIPIeL32L",
    "outputId": "dfbdc50e-3c4d-4b45-def4-217081b29c23"
   },
   "outputs": [
    {
     "data": {
      "text/plain": [
       "282.842712474619"
      ]
     },
     "execution_count": 15,
     "metadata": {},
     "output_type": "execute_result"
    }
   ],
   "source": [
    "R = 0.5 * (math.sqrt(n_x**2 + n_y**2))\n",
    "R"
   ]
  },
  {
   "cell_type": "code",
   "execution_count": 16,
   "metadata": {
    "colab": {
     "base_uri": "https://localhost:8080/",
     "height": 34
    },
    "colab_type": "code",
    "executionInfo": {
     "elapsed": 564,
     "status": "ok",
     "timestamp": 1584266477729,
     "user": {
      "displayName": "Bea Ta",
      "photoUrl": "",
      "userId": "13358070497250286950"
     },
     "user_tz": -60
    },
    "id": "pAgEh54PTJHB",
    "outputId": "57f41afd-558a-4469-bb00-616b5c17be5a"
   },
   "outputs": [
    {
     "data": {
      "text/plain": [
       "122.7208536706401"
      ]
     },
     "execution_count": 16,
     "metadata": {},
     "output_type": "execute_result"
    }
   ],
   "source": [
    "alfa = math.pi/14\n",
    "x = math.sin(2*alfa) * R\n",
    "x"
   ]
  },
  {
   "cell_type": "code",
   "execution_count": 17,
   "metadata": {
    "colab": {},
    "colab_type": "code",
    "id": "31tFRelB0Te1"
   },
   "outputs": [],
   "source": [
    "def oblicz_polozenie_det_centralnego():\n",
    "  det_x0 = n_x - em_x0 - 1\n",
    "  det_y0 = n_y - em_y0 - 1\n",
    "  return det_x0, det_y0"
   ]
  },
  {
   "cell_type": "code",
   "execution_count": 18,
   "metadata": {
    "colab": {},
    "colab_type": "code",
    "id": "b5C-9YDSUXdZ"
   },
   "outputs": [],
   "source": [
    "### pozniej to lepiej zapisa -> podmienianie zmiennych, mniej kodu\n",
    "def odlicz_dlugosc_od_det_centralnego_gdy_w_centrum(kat):\n",
    "  # R = 0.5 * (math.sqrt(n_x**2 + n_y**2))\n",
    "  if em_y0==0 or em_y0 == (n_y - 1):\n",
    "    linia_nizej = math.sin(2*kat)*R\n",
    "    y = math.sqrt(R**2 - linia_nizej**2)\n",
    "    try: \n",
    "      #print(det_x0 *(linia_nizej/y))\n",
    "      return det_x0 *(linia_nizej/y)\n",
    "    except:\n",
    "      #print(linia_nizej)\n",
    "      return linia_nizej\n",
    "  elif em_x0==0 or em_x0 == (n_x - 1):\n",
    "    linia_nizej = math.sin(2*kat)*R\n",
    "    y = math.sqrt(R**2 - linia_nizej**2)\n",
    "    try: \n",
    "      #print(det_y0 *(linia_nizej/y))\n",
    "      return det_y0 *(linia_nizej/y)\n",
    "    except:\n",
    "      #print(linia_nizej)\n",
    "      return linia_nizej"
   ]
  },
  {
   "cell_type": "code",
   "execution_count": 19,
   "metadata": {
    "colab": {},
    "colab_type": "code",
    "id": "BPcjeZM4FDKm"
   },
   "outputs": [],
   "source": [
    "def odlicz_dlugosc_od_det_centralnego_gdy_w_wierzcholku(kat):\n",
    "  print(2*R*math.sin(kat)/math.sin((3/4)*math.pi - kat))\n",
    "  return 2*R*math.sin(kat)/math.sin((3/4)*math.pi - kat)"
   ]
  },
  {
   "cell_type": "code",
   "execution_count": 20,
   "metadata": {
    "colab": {},
    "colab_type": "code",
    "id": "ou8z5HB5FPXM"
   },
   "outputs": [],
   "source": [
    "def odlicz_dlugosc_od_det_centralnego_gdy_pomiedzy(kat):\n",
    "  TODO"
   ]
  },
  {
   "cell_type": "code",
   "execution_count": 21,
   "metadata": {
    "colab": {},
    "colab_type": "code",
    "id": "fY8D9GlAiMN7"
   },
   "outputs": [],
   "source": [
    "def oblicz_polozenie_det2_gdy_w_centrum(kat, w_strone=\"prawo\"):\n",
    "  if em_y0==0 or em_y0 == (n_y - 1):\n",
    "    p = n_x/2\n",
    "    #a = 2*R*math.sin(math.pi - kat)\n",
    "    #b = 2*R*math.sin(kat)\n",
    "    a = p / math.sin(kat)\n",
    "    x1 = math.sqrt(a**2 - p**2)\n",
    "    x2 = 2*R - x1\n",
    "  \n",
    "    suma_x = x1 + x2 # jest to długość równa dł. wysokości boku + 2 x 'dodatki' (odległości miedzy bokiem a okręgiem)\n",
    "    dodatki2 = suma_x - n_y\n",
    "    dodatek = dodatki2/2\n",
    "    #print(dodatek)\n",
    "    polozenie_w_y = x1 - dodatek\n",
    "    if w_strone==\"prawo\":\n",
    "      dx2 = n_x - 1\n",
    "      if em_y0 == 0:\n",
    "        dy2 = polozenie_w_y\n",
    "      else:\n",
    "        dy2 = em_y0 - polozenie_w_y\n",
    "    elif w_strone==\"lewo\":\n",
    "      dx2 = 0\n",
    "      if em_y0 == 0:\n",
    "        dy2 = polozenie_w_y\n",
    "      else:\n",
    "        dy2 = em_y0 - polozenie_w_y\n",
    "    m = dodatek + polozenie_w_y\n",
    "    rozstaw = dodatek * p / m\n",
    "    if w_strone==\"prawo\":\n",
    "      #print(\"sss\")\n",
    "      #print(rozstaw)\n",
    "      dx1 = p + rozstaw \n",
    "      dy1 = em_y0\n",
    "    elif w_strone==\"lewo\":\n",
    "      dx1 = p - rozstaw\n",
    "      dy1 = em_y0\n",
    "\n",
    "    return int(dx1), int(dy1), int(dx2), int(dy2)\n",
    "    #################\n",
    "  if em_x0==0 or em_x0 == (n_x - 1):\n",
    "    p = n_y/2\n",
    "    #a = 2*R*math.sin(math.pi - kat)\n",
    "    #b = 2*R*math.sin(kat)\n",
    "    a = p / math.sin(kat)\n",
    "    y1 = math.sqrt(a**2 - p**2)\n",
    "    y2 = 2*R - y1\n",
    "  \n",
    "    suma_y = y1 + y2 # jest to długość równa dł. wysokości boku + 2 x 'dodatki' (odległości miedzy bokiem a okręgiem)\n",
    "    dodatki2 = suma_y - n_x\n",
    "    dodatek = dodatki2/2\n",
    "    #print(dodatek)\n",
    "    polozenie_w_x = y1 - dodatek\n",
    "    if w_strone==\"prawo\":\n",
    "      if em_x0 == 0:\n",
    "        dx2 = polozenie_w_x\n",
    "      else:\n",
    "        dx2 = em_x0 - polozenie_w_x\n",
    "      dy2 = n_y - 1\n",
    "    elif w_strone==\"lewo\":\n",
    "      if em_x0 == 0:\n",
    "        dx2 = polozenie_w_x\n",
    "      else:\n",
    "        dx2 = em_x0 - polozenie_w_x\n",
    "      dy2 = 0\n",
    "    m = dodatek + polozenie_w_x\n",
    "    rozstaw = dodatek * p / m\n",
    "    if w_strone==\"prawo\":\n",
    "      #print(\"sss\")\n",
    "      #print(rozstaw)\n",
    "      dx1 = em_x0\n",
    "      dy1 = p + rozstaw \n",
    "      print(p, rozstaw)\n",
    "    elif w_strone==\"lewo\":\n",
    "      dx1 = em_x0\n",
    "      dy1 = p - rozstaw\n",
    "      print(p, rozstaw)\n",
    "\n",
    "    return int(dx1), int(dy1), int(dx2), int(dy2)\n"
   ]
  },
  {
   "cell_type": "code",
   "execution_count": 22,
   "metadata": {
    "colab": {},
    "colab_type": "code",
    "id": "X9kE9wKbbZTU"
   },
   "outputs": [],
   "source": [
    "def oblicz_polozenie_det_gdy_w_centrum(kat, w_strone=\"prawo\"):\n",
    "  odl = odlicz_dlugosc_od_det_centralnego_gdy_w_centrum(kat)\n",
    "  if em_y0==0 or em_y0 == (n_y - 1):\n",
    "    if w_strone==\"prawo\":\n",
    "      w = det_x0 + odl\n",
    "      if w <= n_x:\n",
    "        dx2 = w\n",
    "        dy2 = det_y0\n",
    "      else:\n",
    "        #print(\"dd\")\n",
    "        return oblicz_polozenie_det2_gdy_w_centrum(kat, \"prawo\")\n",
    "    elif w_strone==\"lewo\":\n",
    "      w = det_x0 - odl\n",
    "      if w >= 0:\n",
    "        dx2 = w\n",
    "        dy2 = det_y0\n",
    "      else:\n",
    "        return oblicz_polozenie_det2_gdy_w_centrum(kat, \"lewo\")\n",
    "    dodatki2 = 2*R - n_y\n",
    "    dodatek = dodatki2 / 2\n",
    "    k = dodatek + n_y\n",
    "    x = dodatek * odl / k\n",
    "\n",
    "    if w_strone==\"prawo\":\n",
    "      dx1 = n_x/2 + x\n",
    "    elif w_strone==\"lewo\":\n",
    "      dx1 = n_x/2 - x\n",
    "    dy1 = em_y0\n",
    "\n",
    "    return int(dx1), int(dy1), int(dx2), int(dy2)\n",
    "#########\n",
    "  elif em_x0==0 or em_x0 == (n_x - 1):\n",
    "    if w_strone==\"prawo\":\n",
    "      w = det_y0 + odl\n",
    "      if w <= n_y:\n",
    "        dx2 = det_x0\n",
    "        dy2 = w\n",
    "      else:\n",
    "        #print(\"dd\")\n",
    "        return oblicz_polozenie_det2_gdy_w_centrum(kat, \"prawo\")\n",
    "    elif w_strone==\"lewo\":\n",
    "      w = det_y0 - odl\n",
    "      if w >= 0:\n",
    "        dx2 = det_x0\n",
    "        dy2 = w\n",
    "      else:\n",
    "        return oblicz_polozenie_det2_gdy_w_centrum(kat, \"lewo\")\n",
    "    dodatki2 = 2*R - n_y\n",
    "    dodatek = dodatki2 / 2\n",
    "    k = dodatek + n_y\n",
    "    x = dodatek * odl / k\n",
    "\n",
    "    if w_strone==\"prawo\":\n",
    "      dy1 = n_y/2 + x\n",
    "    elif w_strone==\"lewo\":\n",
    "      dy1 = n_y/2 - x\n",
    "    dx1 = em_x0\n",
    "\n",
    "    return int(dx1), int(dy1), int(dx2), int(dy2)"
   ]
  },
  {
   "cell_type": "markdown",
   "metadata": {
    "colab_type": "text",
    "id": "zvNjJabiSVN9"
   },
   "source": [
    "## Próba rozstawienia detektorów dla podanej rozwartości kąta"
   ]
  },
  {
   "cell_type": "code",
   "execution_count": 23,
   "metadata": {
    "colab": {},
    "colab_type": "code",
    "id": "4wV8p_6qSUdU"
   },
   "outputs": [],
   "source": [
    "kat_rozw = 0.6 * math.pi\n",
    "l = R * kat_rozw"
   ]
  },
  {
   "cell_type": "code",
   "execution_count": 24,
   "metadata": {
    "colab": {
     "base_uri": "https://localhost:8080/",
     "height": 286
    },
    "colab_type": "code",
    "executionInfo": {
     "elapsed": 1218,
     "status": "ok",
     "timestamp": 1584277603457,
     "user": {
      "displayName": "Bea Ta",
      "photoUrl": "",
      "userId": "13358070497250286950"
     },
     "user_tz": -60
    },
    "id": "A1rlUlldLdVJ",
    "outputId": "cf040094-ef98-4a91-8d11-3c704f8d650f"
   },
   "outputs": [
    {
     "data": {
      "text/plain": [
       "<matplotlib.image.AxesImage at 0x2043d7b2da0>"
      ]
     },
     "execution_count": 24,
     "metadata": {},
     "output_type": "execute_result"
    },
    {
     "data": {
      "image/png": "[encoded data removed]",
      "text/plain": [
       "<Figure size 432x288 with 1 Axes>"
      ]
     },
     "metadata": {
      "needs_background": "light"
     },
     "output_type": "display_data"
    }
   ],
   "source": [
    "#### gdy nieparzysta ilosc detektorów:\n",
    "# narysuj prosta linie przechodzaca przez srodek\n",
    "# kazda z czesci (lewa i prawa) podzielona na (n-1)/2 czesci\n",
    "ilosc_czesci_kata_dla_obu_stron = (ilosc_emiterow-1)\n",
    "# czyli pojedynczy kat wyniesie\n",
    "kat_p = (kat_rozw/ilosc_czesci_kata_dla_obu_stron)\n",
    "kat = kat_p\n",
    "it = int((ilosc_emiterow-1)/2)\n",
    "for i in range(1, it):\n",
    "  dx1, dy1, dx2, dy2 = oblicz_polozenie_det_gdy_w_centrum(kat, w_strone=\"prawo\")\n",
    "  algBresenhama(1, 1, dy1, dx1, dy2, dx2)\n",
    "  dx1, dy1, dx2, dy2 = oblicz_polozenie_det_gdy_w_centrum(kat, w_strone=\"lewo\")\n",
    "  algBresenhama(1, 1, dy1, dx1, dy2, dx2)\n",
    "  kat = kat + kat_p\n",
    "plt.imshow(image)"
   ]
  },
  {
   "cell_type": "code",
   "execution_count": 25,
   "metadata": {
    "colab": {},
    "colab_type": "code",
    "id": "Akr4GcjJYqRR"
   },
   "outputs": [],
   "source": [
    "def przesun_emiter(kat):\n",
    "  if kat == math.pi/2:\n",
    "    return n_x - 1, int(n_y/2)\n",
    "  elif kat == math.pi:\n",
    "    return int(n_x/2), n_y - 1\n",
    "  elif kat == 3 * math.pi/2:\n",
    "    return 0, int(n_y/2)\n",
    "  else:\n",
    "    x = int(math.tan(kat) * n_y/2)\n",
    "    pos = int((n_x)/2 + x)\n",
    "    if(pos <= (n_x - 1)):\n",
    "      return pos, 0\n",
    "    else:\n",
    "      pass"
   ]
  },
  {
   "cell_type": "code",
   "execution_count": 26,
   "metadata": {
    "colab": {
     "base_uri": "https://localhost:8080/",
     "height": 34
    },
    "colab_type": "code",
    "executionInfo": {
     "elapsed": 850,
     "status": "ok",
     "timestamp": 1584277597613,
     "user": {
      "displayName": "Bea Ta",
      "photoUrl": "",
      "userId": "13358070497250286950"
     },
     "user_tz": -60
    },
    "id": "C9rYyQe2vdvF",
    "outputId": "ec2fcc0d-13bc-4a94-fb8e-05e1421fac38"
   },
   "outputs": [
    {
     "data": {
      "text/plain": [
       "(200, 399, 199, 0)"
      ]
     },
     "execution_count": 26,
     "metadata": {},
     "output_type": "execute_result"
    }
   ],
   "source": [
    "em_x0, em_y0 = przesun_emiter(math.pi)\n",
    "det_x0, det_y0 = oblicz_polozenie_det_centralnego()\n",
    "em_x0, em_y0, det_x0, det_y0"
   ]
  },
  {
   "cell_type": "code",
   "execution_count": 27,
   "metadata": {
    "colab": {},
    "colab_type": "code",
    "id": "Et1a87YfvtWa"
   },
   "outputs": [],
   "source": [
    "image = imageio.imread('./tomograf-zdjecia/Kolo.jpg')"
   ]
  },
  {
   "cell_type": "code",
   "execution_count": 39,
   "metadata": {
    "colab": {},
    "colab_type": "code",
    "id": "8yPdoLYpKhSD"
   },
   "outputs": [
    {
     "name": "stdout",
     "output_type": "stream",
     "text": [
      "Please enter a patient name: vfgd\n",
      "Please enter a patient surname: dfsefw\n",
      "Please enter a date of a research in type 'dd/mm/yy': 12/02/98\n",
      "Please, input patient id:1\n",
      "Please enter some comments: addaf\n"
     ]
    }
   ],
   "source": [
    "from datetime import datetime \n",
    "\n",
    "name = input('Please enter a patient name: ')\n",
    "surname = input('Please enter a patient surname: ')\n",
    "date_str = input('Please enter a date of a research in type \\'dd/mm/yy\\': ')\n",
    "date = datetime.strptime(date_str, '%d/%m/%y').date()\n",
    "patientId = input('Please, input patient id:')\n",
    "\n",
    "comments = input('Please enter some comments: ')"
   ]
  },
  {
   "cell_type": "code",
   "execution_count": 179,
   "metadata": {},
   "outputs": [
    {
     "name": "stdout",
     "output_type": "stream",
     "text": [
      "Center:  200.0 z:  400  i  400\n",
      "Górna czesc kola:  -82.84271247461902\n",
      "Dolna czesc kola:  482.842712474619\n",
      "Radius:  282.842712474619\n",
      "Emiter (x,y):  482 200 Detektor (x,y):  470 283\n",
      "Emiter (x,y):  482 200 Detektor (x,y):  470 281\n",
      "Emiter (x,y):  482 200 Detektor (x,y):  471 280\n",
      "Emiter (x,y):  482 200 Detektor (x,y):  471 278\n",
      "Emiter (x,y):  482 200 Detektor (x,y):  472 277\n",
      "Emiter (x,y):  482 200 Detektor (x,y):  472 275\n",
      "Emiter (x,y):  482 200 Detektor (x,y):  473 273\n",
      "Emiter (x,y):  482 200 Detektor (x,y):  473 272\n",
      "Emiter (x,y):  482 200 Detektor (x,y):  473 270\n",
      "Emiter (x,y):  482 200 Detektor (x,y):  474 268\n",
      "Emiter (x,y):  482 200 Detektor (x,y):  474 267\n",
      "Emiter (x,y):  482 200 Detektor (x,y):  475 265\n",
      "Emiter (x,y):  482 200 Detektor (x,y):  475 263\n",
      "Emiter (x,y):  482 200 Detektor (x,y):  475 262\n",
      "Emiter (x,y):  482 200 Detektor (x,y):  476 260\n",
      "Emiter (x,y):  482 200 Detektor (x,y):  476 258\n",
      "Emiter (x,y):  482 200 Detektor (x,y):  477 257\n",
      "Emiter (x,y):  482 200 Detektor (x,y):  477 255\n",
      "Emiter (x,y):  482 200 Detektor (x,y):  477 253\n",
      "Emiter (x,y):  482 200 Detektor (x,y):  478 251\n",
      "Emiter (x,y):  482 200 Detektor (x,y):  478 250\n",
      "Emiter (x,y):  482 200 Detektor (x,y):  478 248\n",
      "Emiter (x,y):  482 200 Detektor (x,y):  478 246\n",
      "Emiter (x,y):  482 200 Detektor (x,y):  479 245\n",
      "Emiter (x,y):  482 200 Detektor (x,y):  479 243\n",
      "Emiter (x,y):  482 200 Detektor (x,y):  479 241\n",
      "Emiter (x,y):  482 200 Detektor (x,y):  479 240\n",
      "Emiter (x,y):  482 200 Detektor (x,y):  480 238\n",
      "Emiter (x,y):  482 200 Detektor (x,y):  480 236\n",
      "Emiter (x,y):  482 200 Detektor (x,y):  480 235\n",
      "Emiter (x,y):  482 200 Detektor (x,y):  480 233\n",
      "Emiter (x,y):  482 200 Detektor (x,y):  481 231\n",
      "Emiter (x,y):  482 200 Detektor (x,y):  481 229\n",
      "Emiter (x,y):  482 200 Detektor (x,y):  481 228\n",
      "Emiter (x,y):  482 200 Detektor (x,y):  481 226\n",
      "Emiter (x,y):  482 200 Detektor (x,y):  481 224\n",
      "Emiter (x,y):  482 200 Detektor (x,y):  481 223\n",
      "Emiter (x,y):  482 200 Detektor (x,y):  482 221\n",
      "Emiter (x,y):  482 200 Detektor (x,y):  482 219\n",
      "Emiter (x,y):  482 200 Detektor (x,y):  482 217\n",
      "Emiter (x,y):  482 200 Detektor (x,y):  482 216\n",
      "Emiter (x,y):  482 200 Detektor (x,y):  482 214\n",
      "Emiter (x,y):  482 200 Detektor (x,y):  482 212\n",
      "Emiter (x,y):  482 200 Detektor (x,y):  482 211\n",
      "Emiter (x,y):  482 200 Detektor (x,y):  482 209\n",
      "Emiter (x,y):  482 200 Detektor (x,y):  482 207\n",
      "Emiter (x,y):  482 200 Detektor (x,y):  482 205\n",
      "Emiter (x,y):  482 200 Detektor (x,y):  482 204\n",
      "Emiter (x,y):  482 200 Detektor (x,y):  482 202\n",
      "Emiter (x,y):  482 200 Detektor (x,y):  482 200\n",
      "Emiter (x,y):  482 200 Detektor (x,y):  482 199\n",
      "Emiter (x,y):  482 200 Detektor (x,y):  482 197\n",
      "Emiter (x,y):  482 200 Detektor (x,y):  482 195\n",
      "Emiter (x,y):  482 200 Detektor (x,y):  482 194\n",
      "Emiter (x,y):  482 200 Detektor (x,y):  482 192\n",
      "Emiter (x,y):  482 200 Detektor (x,y):  482 190\n",
      "Emiter (x,y):  482 200 Detektor (x,y):  482 188\n",
      "Emiter (x,y):  482 200 Detektor (x,y):  482 187\n",
      "Emiter (x,y):  482 200 Detektor (x,y):  482 185\n",
      "Emiter (x,y):  482 200 Detektor (x,y):  482 183\n",
      "Emiter (x,y):  482 200 Detektor (x,y):  482 182\n",
      "Emiter (x,y):  482 200 Detektor (x,y):  482 180\n",
      "Emiter (x,y):  482 200 Detektor (x,y):  482 178\n",
      "Emiter (x,y):  482 200 Detektor (x,y):  481 176\n",
      "Emiter (x,y):  482 200 Detektor (x,y):  481 175\n",
      "Emiter (x,y):  482 200 Detektor (x,y):  481 173\n",
      "Emiter (x,y):  482 200 Detektor (x,y):  481 171\n",
      "Emiter (x,y):  482 200 Detektor (x,y):  481 170\n",
      "Emiter (x,y):  482 200 Detektor (x,y):  481 168\n",
      "Emiter (x,y):  482 200 Detektor (x,y):  480 166\n",
      "Emiter (x,y):  482 200 Detektor (x,y):  480 164\n",
      "Emiter (x,y):  482 200 Detektor (x,y):  480 163\n",
      "Emiter (x,y):  482 200 Detektor (x,y):  480 161\n",
      "Emiter (x,y):  482 200 Detektor (x,y):  479 159\n",
      "Emiter (x,y):  482 200 Detektor (x,y):  479 158\n",
      "Emiter (x,y):  482 200 Detektor (x,y):  479 156\n",
      "Emiter (x,y):  482 200 Detektor (x,y):  479 154\n",
      "Emiter (x,y):  482 200 Detektor (x,y):  478 153\n",
      "Emiter (x,y):  482 200 Detektor (x,y):  478 151\n",
      "Emiter (x,y):  482 200 Detektor (x,y):  478 149\n",
      "Emiter (x,y):  482 200 Detektor (x,y):  478 148\n",
      "Emiter (x,y):  482 200 Detektor (x,y):  477 146\n",
      "Emiter (x,y):  482 200 Detektor (x,y):  477 144\n",
      "Emiter (x,y):  482 200 Detektor (x,y):  477 142\n",
      "Emiter (x,y):  482 200 Detektor (x,y):  476 141\n",
      "Emiter (x,y):  482 200 Detektor (x,y):  476 139\n",
      "Emiter (x,y):  482 200 Detektor (x,y):  475 137\n",
      "Emiter (x,y):  482 200 Detektor (x,y):  475 136\n",
      "Emiter (x,y):  482 200 Detektor (x,y):  475 134\n",
      "Emiter (x,y):  482 200 Detektor (x,y):  474 132\n",
      "Emiter (x,y):  482 200 Detektor (x,y):  474 131\n",
      "Emiter (x,y):  482 200 Detektor (x,y):  473 129\n",
      "Emiter (x,y):  482 200 Detektor (x,y):  473 127\n",
      "Emiter (x,y):  482 200 Detektor (x,y):  473 126\n",
      "Emiter (x,y):  482 200 Detektor (x,y):  472 124\n",
      "Emiter (x,y):  482 200 Detektor (x,y):  472 122\n",
      "Emiter (x,y):  482 200 Detektor (x,y):  471 121\n",
      "Emiter (x,y):  482 200 Detektor (x,y):  471 119\n",
      "Emiter (x,y):  482 200 Detektor (x,y):  470 118\n",
      "Emiter (x,y):  482 200 Detektor (x,y):  470 116\n"
     ]
    },
    {
     "data": {
      "image/png": "[encoded data removed]",
      "text/plain": [
       "<Figure size 432x288 with 1 Axes>"
      ]
     },
     "metadata": {
      "needs_background": "light"
     },
     "output_type": "display_data"
    }
   ],
   "source": [
    "image = imageio.imread('./tomograf-zdjecia/kropka.jpg')\n",
    "center = max(len(image), len(image[0]))/2\n",
    "circleRed = plt.Circle((center, center), center * math.sqrt(2) / 2, edgecolor='w', facecolor='none')\n",
    "\n",
    "radius = center * 2 * math.sqrt(2) / 2      #od_srodka do boku * 2 * sqrt(2)\n",
    "height_y = center - (center * math.sqrt(2) / 2)\n",
    "low_y = center + (center * math.sqrt(2) / 2)\n",
    "\n",
    "print('Center: ', center, 'z: ', len(image), ' i ', len(image[0]))\n",
    "print('Górna czesc kola: ', center - (center * 2 * math.sqrt(2) / 2))\n",
    "print('Dolna czesc kola: ', center + center * 2 * math.sqrt(2) / 2)\n",
    "print('Radius: ', radius)\n",
    "\n",
    "kat = 0 * math.pi/14              #TODO: kat ma byc podawany przez uzytkownika\n",
    "l_det = 100\n",
    "max_rozwarcie = 0.6\n",
    "\n",
    "\n",
    "em_x = int(center + radius * math.cos(kat))\n",
    "em_y = int(center - radius * math.sin(kat))\n",
    "\n",
    "\n",
    "for detector in range(l_det):\n",
    "    det_x = int(center - radius * math.cos(kat + math.pi - max_rozwarcie/2 + detector * max_rozwarcie/ (l_det - 1)))\n",
    "    det_y = int(center + radius * math.sin(kat + math.pi - max_rozwarcie/2 + detector * max_rozwarcie/ (l_det - 1)))\n",
    "    print('Emiter (x,y): ', em_x, em_y, 'Detektor (x,y): ', det_x, det_y)\n",
    "    algBresenhama(1, 1, fx, fy, sx, sy)\n",
    "#zamiast tego stworzyc funkcje ze wzorami ilosc emiterow\n",
    "    \n",
    "fig, ax = plt.subplots() \n",
    "ax.set_facecolor('red')\n",
    "\n",
    "ax.add_patch(circleRed)\n",
    "im = plt.imshow(image)\n",
    "plt.plot()\n",
    "\n",
    "fig.savefig('./tomograf-zdjecia/Kolo.png')"
   ]
  },
  {
   "cell_type": "code",
   "execution_count": null,
   "metadata": {},
   "outputs": [],
   "source": []
  },
  {
   "cell_type": "code",
   "execution_count": null,
   "metadata": {},
   "outputs": [],
   "source": []
  },
  {
   "cell_type": "code",
   "execution_count": 174,
   "metadata": {},
   "outputs": [
    {
     "data": {
      "text/plain": [
       "<matplotlib.image.AxesImage at 0x2044049eb00>"
      ]
     },
     "execution_count": 174,
     "metadata": {},
     "output_type": "execute_result"
    },
    {
     "data": {
      "image/png": "[encoded data removed]",
      "text/plain": [
       "<Figure size 432x288 with 1 Axes>"
      ]
     },
     "metadata": {
      "needs_background": "light"
     },
     "output_type": "display_data"
    }
   ],
   "source": [
    "plt.imshow(image)"
   ]
  },
  {
   "cell_type": "code",
   "execution_count": null,
   "metadata": {},
   "outputs": [],
   "source": []
  }
 ],
 "metadata": {
  "colab": {
   "authorship_tag": "ABX9TyNs98/UTJJyo1ItSM1trgvV",
   "collapsed_sections": [],
   "mount_file_id": "16Wzz75rGMTiITmlI8oV11x5lbbd0bglD",
   "name": "Tomograf.ipynb",
   "provenance": []
  },
  "kernelspec": {
   "display_name": "Python 3",
   "language": "python",
   "name": "python3"
  },
  "language_info": {
   "codemirror_mode": {
    "name": "ipython",
    "version": 3
   },
   "file_extension": ".py",
   "mimetype": "text/x-python",
   "name": "python",
   "nbconvert_exporter": "python",
   "pygments_lexer": "ipython3",
   "version": "3.6.0"
  }
 },
 "nbformat": 4,
 "nbformat_minor": 1
}
